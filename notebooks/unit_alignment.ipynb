{
 "cells": [
  {
   "cell_type": "code",
   "execution_count": 1,
   "metadata": {},
   "outputs": [
    {
     "name": "stderr",
     "output_type": "stream",
     "text": [
      "/home/davina/mambaforge/envs/crrt/lib/python3.9/site-packages/tqdm/auto.py:22: TqdmWarning: IProgress not found. Please update jupyter and ipywidgets. See https://ipywidgets.readthedocs.io/en/stable/user_install.html\n",
      "  from .autonotebook import tqdm as notebook_tqdm\n"
     ]
    }
   ],
   "source": [
    "import sys\n",
    "from os import getcwd\n",
    "from os.path import join\n",
    "import pandas as pd\n",
    "import numpy as np\n",
    "from IPython.display import display\n",
    "import seaborn as sns\n",
    "\n",
    "sys.path.insert(0, join(getcwd(), \"../module_code\"))\n",
    "\n",
    "from data.load import load_data, load_outcomes\n",
    "from data.utils import read_files_and_combine\n",
    "from cli_utils import load_cli_args, init_cli_args\n",
    "\n",
    "sys.argv = [sys.argv[0]]\n",
    "load_cli_args(\"../options.yml\")\n",
    "args = init_cli_args()"
   ]
  },
  {
   "attachments": {},
   "cell_type": "markdown",
   "metadata": {},
   "source": [
    "# Vitals"
   ]
  },
  {
   "cell_type": "code",
   "execution_count": null,
   "metadata": {},
   "outputs": [],
   "source": [
    "vitals = \"Flowsheet_Vitals.txt\"\n",
    "crrt_df = read_files_and_combine([vitals], args.ucla_crrt_data_dir)\n",
    "ctrl_df = read_files_and_combine([vitals], args.ucla_control_data_dir)\n",
    "cedars_df = read_files_and_combine([vitals], args.cedars_crrt_data_dir)"
   ]
  },
  {
   "cell_type": "code",
   "execution_count": null,
   "metadata": {},
   "outputs": [],
   "source": [
    "crrt_df[crrt_df[\"VITAL_SIGN_TYPE\"].str.lower().str.contains(\"weight\")]"
   ]
  },
  {
   "cell_type": "code",
   "execution_count": null,
   "metadata": {},
   "outputs": [],
   "source": [
    "cedars_df[cedars_df[\"MEAS_NAME\"].str.lower().str.contains(\"weight\")]"
   ]
  },
  {
   "attachments": {},
   "cell_type": "markdown",
   "metadata": {},
   "source": [
    "# Labs"
   ]
  },
  {
   "cell_type": "code",
   "execution_count": 2,
   "metadata": {},
   "outputs": [
    {
     "name": "stderr",
     "output_type": "stream",
     "text": [
      "mealy | WARNING - Unexpected encoding in Labs.txt. Encoding with cp1252.\n"
     ]
    }
   ],
   "source": [
    "from data.longitudinal_features import map_labs\n",
    "\n",
    "labs = \"Labs.txt\"\n",
    "\n",
    "crrt_df = read_files_and_combine([labs], args.ucla_crrt_data_dir)\n",
    "ctrl_df = read_files_and_combine([labs], args.ucla_control_data_dir)\n",
    "cedars_df = read_files_and_combine([labs], args.cedars_crrt_data_dir).rename(\n",
    "    {\"RESULT\": \"RESULTS\", \"NAME\": \"COMPONENT_NAME\"}, axis=1\n",
    ")\n",
    "cedars_df = map_labs(cedars_df, args.cedars_crrt_data_dir)"
   ]
  },
  {
   "cell_type": "code",
   "execution_count": 3,
   "metadata": {},
   "outputs": [],
   "source": [
    "# ucla_units = crrt_df.groupby(\"DESCRIPTION\")[\"REFERENCE_UNIT\"]\n",
    "ucla_units = crrt_df.groupby(\"COMPONENT_NAME\")[\"REFERENCE_UNIT\"]\n",
    "cedars_units = cedars_df.groupby(\"COMPONENT_NAME\")[\"REFERENCE_UNIT\"]"
   ]
  },
  {
   "cell_type": "code",
   "execution_count": 4,
   "metadata": {},
   "outputs": [
    {
     "data": {
      "text/html": [
       "<div>\n",
       "<style scoped>\n",
       "    .dataframe tbody tr th:only-of-type {\n",
       "        vertical-align: middle;\n",
       "    }\n",
       "\n",
       "    .dataframe tbody tr th {\n",
       "        vertical-align: top;\n",
       "    }\n",
       "\n",
       "    .dataframe thead th {\n",
       "        text-align: right;\n",
       "    }\n",
       "</style>\n",
       "<table border=\"1\" class=\"dataframe\">\n",
       "  <thead>\n",
       "    <tr style=\"text-align: right;\">\n",
       "      <th></th>\n",
       "      <th>mode_unit</th>\n",
       "      <th>other_ucla_units</th>\n",
       "    </tr>\n",
       "  </thead>\n",
       "  <tbody>\n",
       "    <tr>\n",
       "      <th>O2 SATURATION/MEASURED,ECMO PREMEMBRANE</th>\n",
       "      <td>{'%': 1178}</td>\n",
       "      <td>{}</td>\n",
       "    </tr>\n",
       "    <tr>\n",
       "      <th>% CD16+CD56 (NK CELLS)</th>\n",
       "      <td>{'%': 2}</td>\n",
       "      <td>{}</td>\n",
       "    </tr>\n",
       "    <tr>\n",
       "      <th>% CD19 (B CELLS)</th>\n",
       "      <td>{'%': 2}</td>\n",
       "      <td>{}</td>\n",
       "    </tr>\n",
       "    <tr>\n",
       "      <th>% CD19 (B CELLS)(QST)</th>\n",
       "      <td>{'%': 1}</td>\n",
       "      <td>{}</td>\n",
       "    </tr>\n",
       "    <tr>\n",
       "      <th>% CD3 (MATURE T CELLS)(QST)</th>\n",
       "      <td>{'%': 3}</td>\n",
       "      <td>{}</td>\n",
       "    </tr>\n",
       "    <tr>\n",
       "      <th>...</th>\n",
       "      <td>...</td>\n",
       "      <td>...</td>\n",
       "    </tr>\n",
       "    <tr>\n",
       "      <th>ZINC,SERUM</th>\n",
       "      <td>{'mcg/ml': 842}</td>\n",
       "      <td>{}</td>\n",
       "    </tr>\n",
       "    <tr>\n",
       "      <th>ZINC,SERUM(OSL)</th>\n",
       "      <td>None</td>\n",
       "      <td>None</td>\n",
       "    </tr>\n",
       "    <tr>\n",
       "      <th>ZZBENZODIAZEPINES,SCREEN,SERUM</th>\n",
       "      <td>None</td>\n",
       "      <td>None</td>\n",
       "    </tr>\n",
       "    <tr>\n",
       "      <th>ZZTRICYCLIC AD,SCREEN,SERUM</th>\n",
       "      <td>None</td>\n",
       "      <td>None</td>\n",
       "    </tr>\n",
       "    <tr>\n",
       "      <th>ZZZ NOT IN USE</th>\n",
       "      <td>{'mg/d': 21}</td>\n",
       "      <td>{}</td>\n",
       "    </tr>\n",
       "  </tbody>\n",
       "</table>\n",
       "<p>4641 rows × 2 columns</p>\n",
       "</div>"
      ],
      "text/plain": [
       "                                                mode_unit other_ucla_units\n",
       " O2 SATURATION/MEASURED,ECMO PREMEMBRANE      {'%': 1178}               {}\n",
       "% CD16+CD56 (NK CELLS)                           {'%': 2}               {}\n",
       "% CD19 (B CELLS)                                 {'%': 2}               {}\n",
       "% CD19 (B CELLS)(QST)                            {'%': 1}               {}\n",
       "% CD3 (MATURE T CELLS)(QST)                      {'%': 3}               {}\n",
       "...                                                   ...              ...\n",
       "ZINC,SERUM                                {'mcg/ml': 842}               {}\n",
       "ZINC,SERUM(OSL)                                      None             None\n",
       "ZZBENZODIAZEPINES,SCREEN,SERUM                       None             None\n",
       "ZZTRICYCLIC AD,SCREEN,SERUM                          None             None\n",
       "ZZZ NOT IN USE                               {'mg/d': 21}               {}\n",
       "\n",
       "[4641 rows x 2 columns]"
      ]
     },
     "execution_count": 4,
     "metadata": {},
     "output_type": "execute_result"
    }
   ],
   "source": [
    "def del_key(key, d: dict) -> dict:\n",
    "    if d:\n",
    "        d.pop(key, None)\n",
    "    return d\n",
    "\n",
    "\n",
    "def units_per_lab(group: pd.Series) -> bool:\n",
    "    # a = group.dropna().str.lower()\n",
    "    a = group.dropna().str.lower().value_counts()\n",
    "    if not group.isna().all():\n",
    "        # mode = a.mode().values[0]\n",
    "        mode = a.idxmax()\n",
    "        mode_count = a[mode]\n",
    "        if (a.iloc[0] == a).all():\n",
    "            return {\"mode_unit\": {mode: mode_count}, \"other_ucla_units\": {}}\n",
    "        else:\n",
    "            return {\n",
    "                \"mode_unit\": {mode: mode_count},\n",
    "                \"other_ucla_units\": del_key(mode, a.to_dict()),\n",
    "            }\n",
    "    return None\n",
    "\n",
    "\n",
    "ucla_unmatched_internal = pd.DataFrame(ucla_units.agg(units_per_lab).to_dict()).T\n",
    "ucla_unmatched_internal"
   ]
  },
  {
   "cell_type": "code",
   "execution_count": null,
   "metadata": {},
   "outputs": [],
   "source": [
    "# cedar_units_sets = cedars_units.agg(\n",
    "#     lambda group: set(group.dropna().str.lower()) if not group.isna().all() else set()\n",
    "# ).rename(\"cedars units\")\n",
    "cedars_unit_counts = cedars_units.agg(\n",
    "    lambda group: group.dropna().str.lower().value_counts().to_dict()\n",
    "    if not group.isna().all()\n",
    "    else {}\n",
    ").rename(\"cedars_units\")\n",
    "cedars_unit_counts"
   ]
  },
  {
   "cell_type": "code",
   "execution_count": null,
   "metadata": {},
   "outputs": [],
   "source": [
    "combined = (\n",
    "    ucla_unmatched_internal.dropna(subset=\"other_ucla_units\")\n",
    "    .join(cedars_unit_counts)\n",
    "    .replace({\"cedars_units\": {np.nan: {}}})\n",
    ")\n",
    "\n",
    "\n",
    "def add_mode_count_from_cedars(row):\n",
    "    mode = next(iter(row[\"mode_unit\"]))\n",
    "    count = row[\"mode_unit\"][mode]\n",
    "    count += row[\"cedars_units\"].get(mode, 0)\n",
    "    return {mode: count}\n",
    "\n",
    "\n",
    "combined[\"mode_unit\"] = combined.apply(add_mode_count_from_cedars, axis=1)\n",
    "combined[\"cedars_units\"] = combined.apply(\n",
    "    lambda row: del_key(next(iter(row[\"mode_unit\"])), row[\"cedars_units\"]), axis=1\n",
    ")\n",
    "combined[\"combined_units\"] = pd.Series(\n",
    "    [\n",
    "        # set1.union(set2) - {mode}\n",
    "        # sum the counts\n",
    "        # https://stackoverflow.com/a/10461916/1888794\n",
    "        del_key(\n",
    "            next(iter(mode)),\n",
    "            {k: set1.get(k, 0) + set2.get(k, 0) for k in set(set1) | set(set2)},\n",
    "        )\n",
    "        for set1, set2, mode in zip(\n",
    "            combined[\"other_ucla_units\"],\n",
    "            combined[\"cedars_units\"],\n",
    "            combined[\"mode_unit\"],\n",
    "        )\n",
    "    ],\n",
    "    index=combined.index,\n",
    ")\n",
    "combined"
   ]
  },
  {
   "cell_type": "code",
   "execution_count": null,
   "metadata": {},
   "outputs": [],
   "source": [
    "# Columns that are actually used by the model with different units\n",
    "import pickle\n",
    "\n",
    "columns_path = join(\"..\", \"local_data\", \"columns.pkl\")\n",
    "with open(columns_path, \"rb\") as f:\n",
    "    selected_cols = pickle.load(f)\n",
    "colnames = selected_cols.str.rstrip(\"_len|max|min|skew|std\").unique()\n",
    "selected_cols_with_units = combined.loc[colnames.intersection(combined.index)]\n",
    "selected_cols_with_units[selected_cols_with_units[\"combined_units\"] != {}]"
   ]
  },
  {
   "cell_type": "code",
   "execution_count": null,
   "metadata": {},
   "outputs": [],
   "source": [
    "# any_mismatch_units = selected_cols_with_units[selected_cols_with_units[\"combined_units\"] != {}]\n",
    "# any_mismatch_units\n",
    "any_mismatch_units = combined[combined[\"combined_units\"] != {}]\n",
    "any_mismatch_units"
   ]
  },
  {
   "attachments": {},
   "cell_type": "markdown",
   "metadata": {},
   "source": [
    "Unit conversion resources:\n",
    "- [LOINC Table CSV](https://github.com/shihjay2/nosh2/blob/master/resources/LOINC.csv)\n",
    "- [LOINC Web Lookup](https://www.vas.ehealth.fgov.be/webretam/retam/home.htm?eventName=LOINC_FILTER_APPLY&htmlfield_analysesId=&htmlfield_assoc=no&htmlfield_filter1=5403-1&htmlfield_searchin_filter1=all&htmlfield_filter2=&htmlfield_searchin_filter2=all&htmlfield_filter3=&htmlfield_searchin_filter3=all)\n",
    "- [Units and Abbreviations](https://www.aruplab.com/files/resources/testing/KeyUnitsAbbrev.pdf)\n",
    "- [Unit string variations](https://www.cdc.gov/cliac/docs/addenda/cliac0313/13A_CLIAC_2013March_UnitsOfMeasure.pdf)"
   ]
  },
  {
   "cell_type": "code",
   "execution_count": null,
   "metadata": {},
   "outputs": [],
   "source": [
    "equivalents = [  # map mode to others\n",
    "    {\"/hpf\", \"per hpf\"},\n",
    "    {\"ml\", \"ml/24 h\"},  # 24 HR. URINE VOLUME\n",
    "    {\"cells/ul\", \"/ul\"},  # WBCS and others\n",
    "    {\"%\", \"% normal\"},  # VWF: RISTOCETIN CO-FACTOR\n",
    "    {\"%\", \"% binding inhibition\"},\n",
    "    {\"%\", \"% baseline\"},\n",
    "    {\"%\", \"% of total\"},\n",
    "    {\"%\", \"% activity\"},\n",
    "    {\"%\", \"g/dl\"},\n",
    "    {\"cpy/ml\", \"copiesml\"},\n",
    "    {\"uge/ml\", \"mcg eq/ml\", \"ug eq/ml\"},\n",
    "    {\"units/ml\", \"% normal\"},\n",
    "    {\"mg/dl\", \"mg/dl adult\"},\n",
    "    {\"au/ml\", \"u/ml\", \"titer\"},\n",
    "    {\"ng/ml feu\", \"ng/mlfeu\"},\n",
    "    {\"ml/min/1.73m2\", \"ml/min/bsa\", \"ml/min/1.73\", \"ml/min/1.73m\", \"ml/min\"},\n",
    "    {\"mg/dl\", \"md/dl\", \"mg/di\"},  # typo\n",
    "    {\"ng/ml\", \"ng/ml rbc\"},\n",
    "    {\"au/ml\", \"ai\"},\n",
    "    {\"u/g hgb\", \"u/g hb\"},\n",
    "    {\"liv\", \"index\"},  # LYME DISEASE AB,TOTAL\n",
    "    {\"ng/ml\", \"eia unit\"},\n",
    "    # (\"fl = femtoliter = cu mic = cubic micron\")\n",
    "    {\"fl\", \"cu mic\"},\n",
    "    {\"nmol bce/mmol creat\", \"nm bce/mm creat\"},\n",
    "    {\"m2\", \"meters s\"},\n",
    "    {\"pg/mlcdf\", \"pg/ml\"},\n",
    "    {\"m/ul\", \"mi/mm3\", \"m/mm3\", \"x10e6/ul\"},\n",
    "    {\"iv\", \"IV\", \"index\", \"INDEX\"},\n",
    "]\n",
    "# https://www.cdc.gov/cliac/docs/addenda/cliac0313/13A_CLIAC_2013March_UnitsOfMeasure.pdf\n",
    "count_units = {\n",
    "    \"x10e3\": 1e3,\n",
    "    \"thousand\": 1e3,\n",
    "    \"thous\": 1e3,\n",
    "    \"1000\": 1e3,\n",
    "    \"10e3\": 1e3,\n",
    "    \"k\": 1e3,\n",
    "    \"x10e6\": 1e6,\n",
    "    \"10e6\": 1e6,\n",
    "    \"mill\": 1e6,\n",
    "    \"million\": 1e6,\n",
    "    \"X10*9\": 1e9,\n",
    "    \"x10*9\": 1e9,\n",
    "    \"x10*12\": 1e12,\n",
    "    \"cells\": 1,\n",
    "}\n",
    "mol_to_eq = {  # meq/mol\n",
    "    \"ANION GAP\": 1,\n",
    "    \"BASE EXCESS\": 1,\n",
    "    \"BICARBONATE\": 1,\n",
    "    \"CARBON DIOXIDE\": 1,\n",
    "    \"CHLORIDE\": 1,\n",
    "    \"MAGNESIUM\": 2,\n",
    "    \"PHOSPHORUS\": 3,  # 3 or 5\n",
    "    \"POTASSIUM\": 1,\n",
    "    \"SODIUM\": 1,\n",
    "}\n",
    "g_to_mol = {  # inverse of molecular weight, so mol/g\n",
    "    \"AMMONIA\": 0.058719906,\n",
    "    \"BETA-HYDROXYBUTYRATE\": 0.009605,\n",
    "    \"CREATININE\": 0.008842,\n",
    "    \"CREATININE, RANDOM URINE\": 0.008842,\n",
    "    \"CREATININE,RANDOM URINE\": 0.008842,\n",
    "    \"LIPOPROTEIN (A)\": 0.0028011204,\n",
    "    \"MAGNESIUM\": 0.0411438,\n",
    "    \"METANEPHRINE\": 0.0050702226,\n",
    "    \"METANEPHRINE, FREE PLASMA\": 0.0050702226,\n",
    "    \"NORMETANEPHRINE, FREE PLASMA\": 0.0050702226,\n",
    "    \"PTH-RELATED PROTEIN (PTH-RP)\": 0.0001061008,\n",
    "    \"VITAMIN B6\": 0.0059101655,\n",
    "    \"VITAMIN C\": 0.0056818182,\n",
    "}\n",
    "# timed + LIPOPROTEIN (A)"
   ]
  },
  {
   "cell_type": "code",
   "execution_count": null,
   "metadata": {},
   "outputs": [],
   "source": [
    "from pint import UnitRegistry, Quantity, UndefinedUnitError, DimensionalityError\n",
    "\n",
    "ureg = UnitRegistry()\n",
    "# https://pint.readthedocs.io/en/stable/advanced/defining.html#programmatically\n",
    "ureg.define(\"micro- = 1e-6 = u = mc\")\n",
    "ureg.define(\"iu = u\")\n",
    "ureg.define(\"mm3 = mm**3\")\n",
    "ureg.define(\"eq = equivalent\")\n",
    "\n",
    "\n",
    "def convert(a, b) -> Quantity:\n",
    "    return ureg(a).to(b)\n",
    "\n",
    "\n",
    "convert(\"10 iu/l\", \"u/l\")"
   ]
  },
  {
   "cell_type": "code",
   "execution_count": null,
   "metadata": {},
   "outputs": [],
   "source": [
    "convert(\"10 iu/l\", \"u/l\").magnitude"
   ]
  },
  {
   "cell_type": "code",
   "execution_count": null,
   "metadata": {},
   "outputs": [],
   "source": [
    "def cant_auto_convert(row):\n",
    "    mode = next(iter(row[\"mode_unit\"]))\n",
    "    cant_convert = {}\n",
    "    for other_unit, count in row[\"combined_units\"].items():\n",
    "        try:\n",
    "            if not any(\n",
    "                mode in equiv_set and other_unit in equiv_set\n",
    "                for equiv_set in equivalents\n",
    "            ):\n",
    "                # time\n",
    "                def proc_unit(unit):\n",
    "                    # drop (calc) and creat\n",
    "                    unit = unit.replace(\"(calc)\", \"\")\n",
    "                    unit = unit.replace(\"creat\", \"\")\n",
    "                    unit = unit.replace(\"crt\", \"\")\n",
    "\n",
    "                    if \"/24\" in unit:\n",
    "                        return unit.split(\"/\")[0] + \"/d\"\n",
    "                    return unit\n",
    "\n",
    "                mode = proc_unit(mode)\n",
    "                other_unit = proc_unit(other_unit)\n",
    "\n",
    "                # import difflib\n",
    "                conv_eq_to_mol = (\"mol\" in mode or \"g\" in mode) and \"eq\" in other_unit\n",
    "                conv_mol_to_eq = \"eq\" in mode and \"mol\" in other_unit\n",
    "                conv_g_to_eq = \"eq\" in mode and \"g\" in other_unit\n",
    "\n",
    "                # do i need valence/charge\n",
    "                if conv_eq_to_mol or conv_mol_to_eq:\n",
    "                    print(\"[[MOL <-> EQ]]\")\n",
    "                    name = next(iter([k for k in mol_to_eq if k in row.name]), None)\n",
    "                    if conv_eq_to_mol:\n",
    "                        print(\n",
    "                            f\"Convert {other_unit} to {mode} for {row.name}: val * {1/mol_to_eq[name]}\"\n",
    "                        )\n",
    "                        other_unit = other_unit.replace(\"eq\", \"mol\")\n",
    "                    elif conv_mol_to_eq:\n",
    "                        print(\n",
    "                            f\"Convert {other_unit} to {mode} for {row.name}: val * {mol_to_eq[name]}\"\n",
    "                        )\n",
    "                        other_unit = other_unit.replace(\"mol\", \"eq\")\n",
    "                # print(\"\\n\".join(difflib.ndiff([str(mode)], [\"x10e3/ul\"])))\n",
    "                conv_g_to_mol = \"mol\" in mode and \"g\" in other_unit\n",
    "                conv_mol_to_g = \"g\" in mode and \"mol\" in other_unit\n",
    "                # pick longest match\n",
    "                count_unit_convert_mode = sorted(\n",
    "                    [count for count in count_units if count in mode],\n",
    "                    key=len,\n",
    "                    reverse=True,\n",
    "                )\n",
    "                count_unit_convert_other = sorted(\n",
    "                    [count for count in count_units if count in other_unit],\n",
    "                    key=len,\n",
    "                    reverse=True,\n",
    "                )\n",
    "\n",
    "                # do i need molecular weight\n",
    "                if (conv_g_to_mol or conv_g_to_eq) or conv_mol_to_g:\n",
    "                    print(\"[[MOL <-> G]]\")\n",
    "                    if conv_g_to_eq:\n",
    "                        print(\"[[MOL <-> EQ]]\")\n",
    "                        name = next(iter([k for k in mol_to_eq if k in row.name]), None)\n",
    "                        v = convert(\n",
    "                            other_unit.replace(\"g\", \"mol\"), mode.replace(\"eq\", \"mol\")\n",
    "                        )\n",
    "                        print(\n",
    "                            f\"Convert {other_unit} to {mode} for {row.name}: val * {v} * {g_to_mol[row.name]} mol/g * {mol_to_eq[name]} eq/mol\"\n",
    "                        )\n",
    "                    elif conv_g_to_mol:\n",
    "                        v = convert(other_unit.replace(\"g\", \"mol\"), mode)\n",
    "                        print(\n",
    "                            f\"Convert {other_unit} to {mode} for {row.name}: val * {v} * {g_to_mol[row.name]} mol/g\"\n",
    "                        )\n",
    "                    elif conv_mol_to_g:\n",
    "                        v = convert(other_unit.replace(\"mol\", \"g\"), mode)\n",
    "                        name = next(iter([k for k in g_to_mol if k in row.name]), None)\n",
    "                        print(\n",
    "                            f\"Convert {other_unit} to {mode} for {row.name}: val * {v} * {1/g_to_mol.get(name, -1)} g/mol\"\n",
    "                        )\n",
    "                elif count_unit_convert_mode or count_unit_convert_other:\n",
    "                    print(\"[[Named Units]]\")\n",
    "                    to_convert_mode = next(iter(count_unit_convert_mode), \"\")\n",
    "                    to_convert_other = next(iter(count_unit_convert_other), \"\")\n",
    "                    other_name = (\n",
    "                        other_unit.replace(to_convert_other, \"u\")\n",
    "                        if to_convert_other\n",
    "                        else other_unit\n",
    "                    )\n",
    "                    mode_name = (\n",
    "                        mode.replace(to_convert_mode, \"u\") if to_convert_mode else mode\n",
    "                    )\n",
    "                    v = convert(other_name, mode_name)\n",
    "                    print(\n",
    "                        f\"Convert {other_unit} to {mode} for {row.name}: val * {v} * {count_units.get(to_convert_other,1)} / {count_units.get(to_convert_mode, 1)}\"\n",
    "                    )\n",
    "                else:\n",
    "                    convert(other_unit, mode)\n",
    "            else:\n",
    "                print(\"[[EQUIV]]\")\n",
    "                print(\n",
    "                    f\"{other_unit} and {mode} for {row.name} are considered equivalent.\"\n",
    "                )\n",
    "        except UndefinedUnitError as e:\n",
    "            print(f\"[[ERROR]] ({row.name})\\n{e}\")\n",
    "            cant_convert[other_unit] = count\n",
    "        except DimensionalityError as e:\n",
    "            print(f\"[[ERROR]] ({row.name})\\n{e}\")\n",
    "            cant_convert[other_unit] = count\n",
    "        except ValueError as e:\n",
    "            print(f\"[[ERROR]] ({row.name})\\n{e}\")\n",
    "            cant_convert[other_unit] = count\n",
    "        except:\n",
    "            print(row)\n",
    "            cant_convert[other_unit] = count\n",
    "    return cant_convert"
   ]
  },
  {
   "cell_type": "code",
   "execution_count": null,
   "metadata": {},
   "outputs": [],
   "source": [
    "# combined = combined.assign(cant_convert=lambda df: df.apply(cant_auto_convert, axis=1))\n",
    "selected_cols_with_units = selected_cols_with_units.assign(\n",
    "    cant_convert=lambda df: df.apply(cant_auto_convert, axis=1)\n",
    ")"
   ]
  },
  {
   "cell_type": "code",
   "execution_count": null,
   "metadata": {},
   "outputs": [],
   "source": [
    "# cant_convert = combined[combined[\"cant_convert\"] != {}]\n",
    "cant_convert = selected_cols_with_units[selected_cols_with_units[\"cant_convert\"] != {}]\n",
    "cant_convert.sort_values(\n",
    "    by=\"mode_unit\",\n",
    "    ascending=False,\n",
    "    key=lambda x: x.map(lambda y: next(iter(y.values()))),\n",
    ")"
   ]
  },
  {
   "cell_type": "code",
   "execution_count": null,
   "metadata": {},
   "outputs": [],
   "source": [
    "# selected_cols_with_units.to_csv(\"lab_units_selected_columns.csv\")"
   ]
  },
  {
   "attachments": {},
   "cell_type": "markdown",
   "metadata": {},
   "source": [
    "## Manually Check Equivalents"
   ]
  },
  {
   "cell_type": "code",
   "execution_count": null,
   "metadata": {},
   "outputs": [],
   "source": [
    "def plot_range(df: pd.DataFrame, match_str: str):\n",
    "    data = df[\n",
    "        df[\"COMPONENT_NAME\"].isin(\n",
    "            any_mismatch_units.index[any_mismatch_units.index.str.match(match_str)]\n",
    "        )\n",
    "    ]\n",
    "    try:\n",
    "        data[\"RESULTS\"] = pd.to_numeric(data[\"RESULTS\"])\n",
    "    except:\n",
    "        coerced = pd.to_numeric(data[\"RESULTS\"], errors=\"coerce\")\n",
    "        display(data[coerced.isna()].groupby(\"RESULTS\").all())\n",
    "        display(data.groupby(\"REFERENCE_UNIT\")[\"RESULTS\"].describe())\n",
    "        data[\"RESULTS\"] = coerced  # .fillna(-100)\n",
    "\n",
    "    sns.catplot(\n",
    "        x=\"REFERENCE_UNIT\",\n",
    "        y=\"RESULTS\",\n",
    "        data=data,\n",
    "    )\n",
    "    return data\n",
    "\n",
    "\n",
    "# x = plot_range(crrt_df, \"ABSOLUTE.*(QST)\")\n",
    "# The ranges are not the same. \"X10*9/L\" is between 0 and 10, the other is between 0 and 3x10e5.\n",
    "# tmp = x[x[\"REFERENCE_UNIT\"] == \"X10*9/L\"][[\"RESULTS\", \"REFERENCE_UNIT\"]]\n",
    "# tmp\n",
    "plot_range(crrt_df, \"CREATININE.*\")  # the units are the same range"
   ]
  },
  {
   "attachments": {},
   "cell_type": "markdown",
   "metadata": {},
   "source": [
    "## Conversion/Exploration"
   ]
  },
  {
   "cell_type": "code",
   "execution_count": null,
   "metadata": {},
   "outputs": [],
   "source": [
    "col = \"METANEPHRINE\"\n",
    "display(crrt_df[crrt_df[\"COMPONENT_NAME\"] == col])\n",
    "display(cedars_df[cedars_df[\"COMPONENT_NAME\"] == col])"
   ]
  },
  {
   "cell_type": "code",
   "execution_count": null,
   "metadata": {},
   "outputs": [],
   "source": [
    "import matplotlib.pyplot as plt\n",
    "\n",
    "\n",
    "def results_to_numeric(res: pd.Series) -> pd.Series:\n",
    "    return pd.to_numeric(res.str.replace(\">|<\", \"\"), errors=\"coerce\")\n",
    "\n",
    "\n",
    "units_mapping = {\n",
    "    # mg/dl -> g/dl\n",
    "    \"ALBUMIN\": {\n",
    "        # this looks weird with /1000 but right with /100\n",
    "        \"RESULTS\": lambda df: results_to_numeric(df[\"RESULTS\"]) / 100,\n",
    "        \"REFERENCE_UNIT\": \"g/dL\",\n",
    "    },\n",
    "    # umol/l -> mcg/dl\n",
    "    # molecular weight: https://unitslab.com/node/153\n",
    "    \"AMMONIA\": {\n",
    "        \"RESULTS\": lambda df: results_to_numeric(df[\"RESULTS\"]) * 17.031 / 10,\n",
    "        \"REFERENCE_UNIT\": \"mcg/dL\",\n",
    "    },\n",
    "    \"ARSENIC, BLOOD\": {},\n",
    "}\n",
    "for col, maping in units_mapping.items():\n",
    "    print(\"=\" * 100)\n",
    "    # ucla_vals = crrt_df[crrt_df[\"DESCRIPTION\"].str.contains(col)]\n",
    "    # cedars_vals = cedars_df[cedars_df[\"COMPONENT_NAME\"].str.contains(col)]\n",
    "    ucla_vals = crrt_df[crrt_df[\"DESCRIPTION\"] == col]\n",
    "    cedars_vals = cedars_df[cedars_df[\"COMPONENT_NAME\"] == col]\n",
    "    # display(ucla_vals.head())\n",
    "    # display(cedars_vals.head())\n",
    "    results_to_numeric(ucla_vals[\"RESULTS\"]).plot.area()\n",
    "    results_to_numeric(cedars_vals[\"RESULTS\"]).plot.area()\n",
    "    plt.title(col)\n",
    "    plt.show()\n",
    "    plt.gcf().clear()\n",
    "\n",
    "    results_to_numeric(ucla_vals[\"RESULTS\"]).plot.area()\n",
    "    cedars_vals.assign(**units_mapping[col])[\"RESULTS\"].plot.area()\n",
    "    plt.title(col)\n",
    "    plt.show()\n",
    "    plt.gcf().clear()"
   ]
  },
  {
   "attachments": {},
   "cell_type": "markdown",
   "metadata": {},
   "source": [
    "## Use Mapping File"
   ]
  },
  {
   "cell_type": "code",
   "execution_count": 3,
   "metadata": {},
   "outputs": [
    {
     "name": "stderr",
     "output_type": "stream",
     "text": [
      "mealy | WARNING - Redefining 'micro' (<class 'pint.delegates.txt_defparser.plain.PrefixDefinition'>)\n",
      "mealy | WARNING - Redefining 'u' (<class 'pint.delegates.txt_defparser.plain.PrefixDefinition'>)\n"
     ]
    }
   ],
   "source": [
    "from data.lab_proc_utils import align_units\n",
    "\n",
    "aligned_df = align_units(crrt_df, args.ucla_crrt_data_dir)"
   ]
  },
  {
   "cell_type": "code",
   "execution_count": 4,
   "metadata": {},
   "outputs": [
    {
     "data": {
      "text/plain": [
       "False"
      ]
     },
     "execution_count": 4,
     "metadata": {},
     "output_type": "execute_result"
    }
   ],
   "source": [
    "aligned_df[\"RESULTS\"].equals(crrt_df[\"RESULTS\"])"
   ]
  },
  {
   "cell_type": "code",
   "execution_count": 5,
   "metadata": {},
   "outputs": [],
   "source": [
    "unique = aligned_df.groupby(\"COMPONENT_NAME\")[\"REFERENCE_UNIT\"].nunique()"
   ]
  },
  {
   "cell_type": "code",
   "execution_count": null,
   "metadata": {},
   "outputs": [],
   "source": [
    "# aligned_df[uniqe[unique > 1]]\n",
    "unique[unique > 1]"
   ]
  },
  {
   "cell_type": "code",
   "execution_count": null,
   "metadata": {},
   "outputs": [],
   "source": [
    "aligned_df[aligned_df[\"COMPONENT_NAME\"] == \"ABSOLUTE BASOPHILS(QST)\"][\n",
    "    \"REFERENCE_UNIT\"\n",
    "].unique()"
   ]
  },
  {
   "cell_type": "code",
   "execution_count": null,
   "metadata": {},
   "outputs": [],
   "source": []
  }
 ],
 "metadata": {
  "kernelspec": {
   "display_name": "crrt",
   "language": "python",
   "name": "crrt"
  },
  "language_info": {
   "codemirror_mode": {
    "name": "ipython",
    "version": 3
   },
   "file_extension": ".py",
   "mimetype": "text/x-python",
   "name": "python",
   "nbconvert_exporter": "python",
   "pygments_lexer": "ipython3",
   "version": "3.9.15"
  },
  "orig_nbformat": 4
 },
 "nbformat": 4,
 "nbformat_minor": 2
}
