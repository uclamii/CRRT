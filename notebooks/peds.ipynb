{
 "cells": [
  {
   "cell_type": "code",
   "execution_count": null,
   "metadata": {},
   "outputs": [],
   "source": [
    "import pandas as pd\n",
    "from os.path import join\n",
    "data_dir = \"/home/davina/Private/crrt-data\"\n",
    "outcome_file = \"CRRT Deidentified 2015-2021YTD_VF.xlsx\"\n",
    "id_mapping_file = \"Patient_Identifiers.txt\"\n",
    "\n",
    "# get first sheet only\n",
    "# TODO: What's sheet 0? I don't see it in excel\n",
    "outcomes = pd.read_excel(join(data_dir, outcome_file), sheet_name=[\"Ped CRRT List\", \"2015-2021 YTD\"])\n",
    "peds_df = outcomes[\"Ped CRRT List\"]\n",
    "adult_df = outcomes[\"2015-2021 YTD\"]"
   ]
  },
  {
   "cell_type": "code",
   "execution_count": null,
   "metadata": {},
   "outputs": [],
   "source": [
    "peds_df[\"PAT_MRN_ID\"] = pd.to_numeric(peds_df[\"PAT_MRN_ID\"], errors=\"coerce\")\n",
    "id_mapping_df = pd.read_csv(join(data_dir, id_mapping_file))\n",
    "peds_df = peds_df.merge(id_mapping_df, left_on=\"PAT_MRN_ID\", right_on=\"MRN\", how=\"left\")\n",
    "\n",
    "peds_df = peds_df.dropna(thresh=6, axis=0)\n",
    "peds_df"
   ]
  },
  {
   "cell_type": "code",
   "execution_count": null,
   "metadata": {},
   "outputs": [],
   "source": [
    "files = [\n",
    "    \"Allergies.txt\",\n",
    "    \"Patient_Demographics.txt\",\n",
    "    \"Social_History.txt\",\n",
    "    \"Encounter_Diagnoses.txt\",\n",
    "    \"Encounters.txt\",\n",
    "    \"Family_History.txt\",\n",
    "    \"Flowsheet_Vitals.txt\",\n",
    "    \"Hospital_Unit_Transfers.txt\",\n",
    "    \"Labs.txt\",\n",
    "    \"Medications.txt\",\n",
    "    # \"Problem_Lists.txt\",\n",
    "    \"Procedures.txt\",\n",
    "]\n",
    "for file in files:\n",
    "    df = pd.read_csv(join(data_dir, file))\n",
    "    df = df.merge(peds_df, how=\"inner\", on=\"IP_PATIENT_ID\")\n",
    "    unique_ids = df[\"IP_PATIENT_ID\"].unique()\n",
    "    print(f\"{file} missing: {peds_df.shape[0] - unique_ids.shape[0]}\")"
   ]
  },
  {
   "cell_type": "code",
   "execution_count": null,
   "metadata": {},
   "outputs": [],
   "source": []
  }
 ],
 "metadata": {
  "interpreter": {
   "hash": "3b0121cddfc265515fd43ae413dcaecdb66437e41fc61bea817dc341620c202f"
  },
  "kernelspec": {
   "display_name": "Python 3.7.11 ('crrt')",
   "language": "python",
   "name": "python3"
  },
  "language_info": {
   "codemirror_mode": {
    "name": "ipython",
    "version": 3
   },
   "file_extension": ".py",
   "mimetype": "text/x-python",
   "name": "python",
   "nbconvert_exporter": "python",
   "pygments_lexer": "ipython3",
   "version": "3.7.11"
  }
 },
 "nbformat": 4,
 "nbformat_minor": 2
}
