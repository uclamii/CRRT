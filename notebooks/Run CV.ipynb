{
 "cells": [
  {
   "cell_type": "code",
   "execution_count": null,
   "id": "7f32afc5",
   "metadata": {},
   "outputs": [],
   "source": [
    "import sys\n",
    "sys.path.append(r\"C:\\Users\\arvin\\dev\\crrt\\CRRT\\module_code\")\n",
    "from data.utils import DATA_DIR\n",
    "from data.preprocess import preprocess_data\n",
    "from data.load import merge_features_with_outcome\n",
    "from exp.cv import run_cv\n",
    "import pandas as pd\n",
    "import time\n",
    "import os"
   ]
  },
  {
   "cell_type": "code",
   "execution_count": null,
   "id": "3ac11400",
   "metadata": {},
   "outputs": [],
   "source": [
    "# TODO: check about duplicate patient ids in generated df\n",
    "try:\n",
    "    # raise IOError\n",
    "    df = pd.read_feather(os.path.join(DATA_DIR, \"combined_df.feather\"))\n",
    "except IOError:\n",
    "    print(\"Preprocessed file does not exist! Creating...\")\n",
    "    start_time = time.time()\n",
    "    df = merge_features_with_outcome()  # 140s ~2.5 mins\n",
    "    print(f\"Loading took {time.time() - start_time} seconds.\")\n",
    "    df.to_feather(os.path.join(DATA_DIR, \"combined_df.feather\"))"
   ]
  },
  {
   "cell_type": "code",
   "execution_count": null,
   "id": "dd7f3280",
   "metadata": {},
   "outputs": [],
   "source": [
    "preprocessed_df = preprocess_data(df)"
   ]
  },
  {
   "cell_type": "code",
   "execution_count": null,
   "id": "5a96647d",
   "metadata": {},
   "outputs": [],
   "source": [
    "scores = run_cv(preprocessed_df, corr_thresh=.35)"
   ]
  },
  {
   "cell_type": "code",
   "execution_count": null,
   "id": "4ba09bb4",
   "metadata": {},
   "outputs": [],
   "source": [
    "scores"
   ]
  },
  {
   "cell_type": "code",
   "execution_count": null,
   "id": "211c7ba8",
   "metadata": {},
   "outputs": [],
   "source": []
  }
 ],
 "metadata": {
  "kernelspec": {
   "display_name": "Python 3",
   "language": "python",
   "name": "python3"
  },
  "language_info": {
   "codemirror_mode": {
    "name": "ipython",
    "version": 3
   },
   "file_extension": ".py",
   "mimetype": "text/x-python",
   "name": "python",
   "nbconvert_exporter": "python",
   "pygments_lexer": "ipython3",
   "version": "3.6.8"
  }
 },
 "nbformat": 4,
 "nbformat_minor": 5
}
