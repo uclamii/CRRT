{
 "cells": [
  {
   "attachments": {},
   "cell_type": "markdown",
   "metadata": {},
   "source": [
    "The vital sign names seems to be mismatching between the crrt patients and controls at UCLA.\n",
    "\n",
    "Controls have `WEIGHT/SCALE` which is messing with splitting `SBP/DBP`."
   ]
  },
  {
   "cell_type": "code",
   "execution_count": null,
   "metadata": {},
   "outputs": [],
   "source": [
    "crrt_path = \"/home/davina/Private/crrt-data/UCLA\"\n",
    "control_path = \"/home/davina/Private/crrt-data/UCLA/controls\"\n",
    "vitals = \"Flowsheet_Vitals.txt\""
   ]
  },
  {
   "cell_type": "code",
   "execution_count": null,
   "metadata": {},
   "outputs": [],
   "source": [
    "from pandas import read_csv\n",
    "from pandas.errors import ParserError\n",
    "\n",
    "def read_file(file: str):\n",
    "    try:\n",
    "        # Try normally reading the csv with pandas, if it fails the formatting is strange\n",
    "        df = read_csv(file)\n",
    "    except ParserError as e:\n",
    "        df = read_csv(file, on_bad_lines=\"skip\")\n",
    "    except Exception:\n",
    "        df = read_csv(file, encoding=\"cp1252\")\n",
    "    return df\n",
    "\n",
    "crrt_df = read_file(f\"{crrt_path}/{vitals}\")\n",
    "ctrl_df = read_file(f\"{control_path}/{vitals}\")"
   ]
  },
  {
   "cell_type": "code",
   "execution_count": null,
   "metadata": {},
   "outputs": [],
   "source": [
    "crrt_df[\"VITAL_SIGN_TYPE\"].unique()"
   ]
  },
  {
   "cell_type": "code",
   "execution_count": null,
   "metadata": {},
   "outputs": [],
   "source": [
    "ctrl_df[\"vital_sign_type\"].unique()"
   ]
  },
  {
   "attachments": {},
   "cell_type": "markdown",
   "metadata": {},
   "source": [
    "They all map except for O2 Device, which CRRT people have while controls do not."
   ]
  },
  {
   "cell_type": "code",
   "execution_count": null,
   "metadata": {},
   "outputs": [],
   "source": [
    "crrt_df[crrt_df[\"VITAL_SIGN_TYPE\"] == \"SpO2\"][\"VITAL_SIGN_VALUE\"]"
   ]
  },
  {
   "cell_type": "code",
   "execution_count": null,
   "metadata": {},
   "outputs": [],
   "source": [
    "ctrl_df[ctrl_df[\"vital_sign_type\"] == \"PULSE OXIMETRY\"][\"vital_sign_value\"]"
   ]
  },
  {
   "cell_type": "code",
   "execution_count": null,
   "metadata": {},
   "outputs": [],
   "source": [
    "crrt_df[crrt_df[\"VITAL_SIGN_TYPE\"] == \"O2 Device\"][\"VITAL_SIGN_VALUE\"]"
   ]
  },
  {
   "attachments": {},
   "cell_type": "markdown",
   "metadata": {},
   "source": [
    "# time difference of different explode procedures"
   ]
  },
  {
   "cell_type": "code",
   "execution_count": null,
   "metadata": {},
   "outputs": [],
   "source": [
    "sample = crrt_df.sample(10000)\n",
    "sample[\"VITAL_SIGN_TYPE\"].replace(\n",
    "        {\"BP\": \"SBP/DBP\", \"BLOOD PRESSURE\": \"SBP/DBP\"}, inplace=True\n",
    "    )\n",
    "explode_cols = [\"VITAL_SIGN_VALUE\", \"VITAL_SIGN_TYPE\"]"
   ]
  },
  {
   "cell_type": "code",
   "execution_count": null,
   "metadata": {},
   "outputs": [],
   "source": [
    "%%timeit -n 100\n",
    "\n",
    "(\n",
    "    sample.set_index(list(sample.columns.difference(explode_cols)))\n",
    "        .apply(lambda col: col.str.split(\"/\").explode())\n",
    "        .reset_index()\n",
    "        .reindex(sample.columns, axis=1)\n",
    ")"
   ]
  },
  {
   "cell_type": "code",
   "execution_count": null,
   "metadata": {},
   "outputs": [],
   "source": [
    "%%timeit  -n 100\n",
    "b = (\n",
    "\tsample.apply(\n",
    "\t\tlambda col: col.str.split(\"/\") \n",
    "\t\tif col.name in explode_cols else col\n",
    "\t).explode(explode_cols)\n",
    ")"
   ]
  },
  {
   "cell_type": "code",
   "execution_count": null,
   "metadata": {},
   "outputs": [],
   "source": [
    "a = (\n",
    "    sample.set_index(list(sample.columns.difference(explode_cols)))\n",
    "        .apply(lambda col: col.str.split(\"/\").explode())\n",
    "        .reset_index()\n",
    "        .reindex(sample.columns, axis=1)\n",
    ")\n",
    "b = (\n",
    "\tsample.apply(\n",
    "\t\tlambda col: col.str.split(\"/\") \n",
    "\t\tif col.name in explode_cols else col\n",
    "\t).explode(explode_cols)\n",
    "    .reset_index(drop=True)  # reset index to be fair comparison\n",
    ")\n",
    "a.equals(b)"
   ]
  },
  {
   "cell_type": "code",
   "execution_count": null,
   "metadata": {},
   "outputs": [],
   "source": []
  }
 ],
 "metadata": {
  "kernelspec": {
   "display_name": "crrt",
   "language": "python",
   "name": "python3"
  },
  "language_info": {
   "codemirror_mode": {
    "name": "ipython",
    "version": 3
   },
   "file_extension": ".py",
   "mimetype": "text/x-python",
   "name": "python",
   "nbconvert_exporter": "python",
   "pygments_lexer": "ipython3",
   "version": "3.9.13"
  },
  "vscode": {
   "interpreter": {
    "hash": "3ec4323cdb57771f81a9fbb6644b264a95b8ef7a3669230ca02ff6d9a0ad522e"
   }
  }
 },
 "nbformat": 4,
 "nbformat_minor": 2
}
