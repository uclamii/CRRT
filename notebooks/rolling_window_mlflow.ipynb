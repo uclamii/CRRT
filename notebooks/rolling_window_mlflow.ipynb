{
 "cells": [
  {
   "cell_type": "code",
   "execution_count": null,
   "metadata": {},
   "outputs": [],
   "source": [
    "from mlflow.tracking import MlflowClient\n",
    "import pandas as pd\n",
    "mlflow_path = \"/home/davina/Private/repos/CRRT/mlruns\"\n",
    "client = MlflowClient(mlflow_path)"
   ]
  },
  {
   "cell_type": "code",
   "execution_count": null,
   "metadata": {},
   "outputs": [],
   "source": [
    "# exclude  // tune trial and //eval best\n",
    "runs = client.search_runs(\n",
    "    experiment_ids=client.get_experiment_by_name(\"static_learning\").experiment_id,\n",
    "    filter_string='tags.mlflow.runName=\"rolling-window\"'\n",
    ")"
   ]
  },
  {
   "cell_type": "code",
   "execution_count": null,
   "metadata": {},
   "outputs": [],
   "source": [
    "from datetime import datetime, timezone, timedelta\n",
    "lookback = 1\n",
    "each_window_results = [\n",
    "    run for run in runs\n",
    "    if (run.data.tags.get(\"slide_window_by\", None) is not None)\n",
    "    and (datetime.now() - datetime.fromtimestamp(run.info.start_time/1000) <= timedelta(days=lookback))\n",
    "]"
   ]
  },
  {
   "cell_type": "code",
   "execution_count": null,
   "metadata": {},
   "outputs": [],
   "source": [
    "metrics_over_windows = pd.DataFrame(\n",
    "    [run.data.metrics for run in each_window_results],\n",
    "    index=[run.data.tags[\"slide_window_by\"] for run in each_window_results]\n",
    ").rename_axis(index=\"Slide\").sort_index(axis=0)\n",
    "# metrics_over_windows.columns = pd.MultiIndex.from_product([[\"Metrics\"], metrics_over_windows.columns])\n",
    "metrics_over_windows"
   ]
  },
  {
   "cell_type": "code",
   "execution_count": null,
   "metadata": {},
   "outputs": [],
   "source": [
    "import seaborn as sns\n",
    "import matplotlib.pyplot as plt\n",
    "# g = sns.lineplot(data=metrics_over_windows)\n",
    "# g = sns.relplot(data=metrics_over_windows, kind=\"line\")\n",
    "# g.legend(loc='center left', bbox_to_anchor=(1.25, 0.5), ncol=1)\n",
    "# plt.show()\n",
    "g = sns.FacetGrid(\n",
    "    metrics_over_windows.melt(ignore_index=False,var_name=\"Metrics\").reset_index(),\n",
    "    col=\"Metrics\", col_wrap=4, sharey=False\n",
    ")\n",
    "g.map(sns.lineplot, \"Slide\", \"value\")"
   ]
  },
  {
   "cell_type": "code",
   "execution_count": null,
   "metadata": {},
   "outputs": [],
   "source": [
    "# cleanup\n",
    "# for run in runs:\n",
    "#     client.delete_run(run.info.run_id)"
   ]
  },
  {
   "cell_type": "code",
   "execution_count": null,
   "metadata": {},
   "outputs": [],
   "source": []
  }
 ],
 "metadata": {
  "kernelspec": {
   "display_name": "Python 3.9.13 ('crrt')",
   "language": "python",
   "name": "python3"
  },
  "language_info": {
   "codemirror_mode": {
    "name": "ipython",
    "version": 3
   },
   "file_extension": ".py",
   "mimetype": "text/x-python",
   "name": "python",
   "nbconvert_exporter": "python",
   "pygments_lexer": "ipython3",
   "version": "3.9.13"
  },
  "vscode": {
   "interpreter": {
    "hash": "3ec4323cdb57771f81a9fbb6644b264a95b8ef7a3669230ca02ff6d9a0ad522e"
   }
  }
 },
 "nbformat": 4,
 "nbformat_minor": 2
}
