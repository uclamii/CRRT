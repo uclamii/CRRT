{
 "cells": [
  {
   "cell_type": "code",
   "execution_count": null,
   "id": "b4c76211",
   "metadata": {},
   "outputs": [],
   "source": [
    "import pandas as pd\n",
    "import pprint\n",
    "import numpy as np\n",
    "pd.set_option('display.max_colwidth',1000)\n",
    "pd.options.display.max_columns = 2000\n",
    "pd.options.display.max_rows = 2000\n"
   ]
  },
  {
   "cell_type": "code",
   "execution_count": null,
   "id": "00322800",
   "metadata": {},
   "outputs": [],
   "source": [
    "def k_char_match(patter_str, compare_str, ignore_patterns=('disease',\n",
    "                                                           'effective', \n",
    "                                                           'maximum', \n",
    "                                                           'minimum',\n",
    "                                                           'active',\n",
    "                                                           'total'), \n",
    "                 k=5):\n",
    "    \"\"\"Checks to see if pattern of length k from the pattern string are in the comparison string \"\"\"\n",
    "    for i in range(len(patter_str)):\n",
    "        if (i+k) <= len(patter_str):\n",
    "            pattern = patter_str[i:(i+k)].lower().replace(\" \", \"\")\n",
    "            ignore=False\n",
    "            for ignore_pattern in ignore_patterns:\n",
    "                if pattern in ignore_pattern:\n",
    "                    ignore=True\n",
    "                    break\n",
    "            if not ignore:\n",
    "                if pattern in compare_str.lower().replace(\" \", \"\"):\n",
    "                    return pattern"
   ]
  },
  {
   "cell_type": "markdown",
   "id": "0ce1c316",
   "metadata": {},
   "source": [
    "### Load features from our model and from papers"
   ]
  },
  {
   "cell_type": "code",
   "execution_count": null,
   "id": "3e96a9c8",
   "metadata": {},
   "outputs": [],
   "source": [
    "# model features parquet file\n",
    "model_df_file = \"/Users/arvin/Documents/ucla research/CRRT project/data_files/df_[startdate-7d,startdate].parquet\""
   ]
  },
  {
   "cell_type": "code",
   "execution_count": null,
   "id": "d129297f",
   "metadata": {},
   "outputs": [],
   "source": [
    "model_df = pd.read_parquet(model_df_file, engine='pyarrow')"
   ]
  },
  {
   "cell_type": "code",
   "execution_count": null,
   "id": "c29ac806",
   "metadata": {},
   "outputs": [],
   "source": [
    "model_cols = list(model_df.columns)"
   ]
  },
  {
   "cell_type": "code",
   "execution_count": null,
   "id": "0a3c6849",
   "metadata": {},
   "outputs": [],
   "source": [
    "# paper features spreadsheet\n",
    "rw_csv = \"/Users/arvin/Downloads/CRRT Related Work - Sheet1.csv\""
   ]
  },
  {
   "cell_type": "code",
   "execution_count": null,
   "id": "b0b15975",
   "metadata": {},
   "outputs": [],
   "source": [
    "rw_df = pd.read_csv(rw_csv, index_col=None)"
   ]
  },
  {
   "cell_type": "code",
   "execution_count": null,
   "id": "988579af",
   "metadata": {},
   "outputs": [],
   "source": [
    "rw_df[\"List Baseline Features\"] = rw_df[\"Baseline Features\"].str.split(\",\")\n",
    "rw_df[\"List Baseline Features\"] = rw_df[\"List Baseline Features\"].apply(lambda d: d if isinstance(d, list) else [])\n",
    "rw_df[\"List Vital Signs\"] = rw_df[\"Vital Signs\"].str.split(\",\")\n",
    "rw_df[\"List Vital Signs\"] = rw_df[\"List Vital Signs\"].apply(lambda d: d if isinstance(d, list) else [])\n",
    "rw_df[\"List Lab Results\"] = rw_df[\"Lab Results\"].str.split(\",\")\n",
    "rw_df[\"List Lab Results\"] = rw_df[\"List Lab Results\"].apply(lambda d: d if isinstance(d, list) else [])\n",
    "rw_df[\"All Features\"] = rw_df[\"List Baseline Features\"] + rw_df[\"List Vital Signs\"] + rw_df[\"List Lab Results\"]"
   ]
  },
  {
   "cell_type": "code",
   "execution_count": null,
   "id": "af8b00e6",
   "metadata": {},
   "outputs": [],
   "source": [
    "rw_df"
   ]
  },
  {
   "cell_type": "markdown",
   "id": "fe7e36ae",
   "metadata": {},
   "source": [
    "### Find Similar/Different Features in the Papers and in our Model"
   ]
  },
  {
   "cell_type": "code",
   "execution_count": null,
   "id": "3563b5ab",
   "metadata": {},
   "outputs": [],
   "source": [
    "dts = {}\n",
    "feature_dts = {\"Matched_Features\": [], \"Unmatched_Features\": [], \n",
    "               \"Title\": [], \"Type\": []}\n",
    "feature_types = [\"List Baseline Features\", \"List Vital Signs\", \"List Lab Results\", \"All Features\"]\n",
    "\n",
    "# iterate through the different paper feature types \n",
    "for col in feature_types:\n",
    "    print(\"*******\" + col + \"*******\" )\n",
    "    dts[col] = []\n",
    "    # iterate through each paper\n",
    "    for i in range(len(rw_df)):\n",
    "        print(\"*******\" + rw_df.iloc[i]['Title'] + \"*******\" )\n",
    "        print(\"Similar Features\")\n",
    "        print(f'Paper Features\\tModel Features\\tMatching Pattern Used')\n",
    "        \n",
    "        dt = {\"Paper Features\": [], \"Model Features\": [], \"Matching Pattern Used\": [], \n",
    "              \"Title\": rw_df.iloc[i]['Title'], \"Type\": col}                \n",
    "        # if paper contains valid features, check for similar/dissimilar features\n",
    "        if not isinstance(rw_df[col].iloc[i], float):\n",
    "            rw_features = set(rw_df[col].iloc[i])\n",
    "            rw_features = {elem.strip() for elem in rw_features}\n",
    "            \n",
    "            # see if a partial string of each model feature is contained in each paper feature\n",
    "            matched_rw_cols = []\n",
    "            for model_col in model_cols:\n",
    "                for rw_col in rw_features:\n",
    "                    # length of partial string of each model feature set to k\n",
    "                    result = k_char_match(model_col, rw_col, k=7)\n",
    "                    if result:\n",
    "                        matched_rw_cols.append((rw_col, model_col, result))\n",
    "            matched_rw_cols_set = set([col[0] for col in matched_rw_cols])\n",
    "            unmatched_rw_cols_set = set([col for col in rw_features if col not in matched_rw_cols_set])\n",
    "        else:\n",
    "            matched_rw_cols = [(None, None, None)]\n",
    "            matched_rw_cols_set = set()\n",
    "            unmatched_rw_cols_set = set()\n",
    "        \n",
    "        # rest of code for saving the matched/unmatched features for later viewing\n",
    "        for matched_rw_col, matched_model_col, pattern in matched_rw_cols:\n",
    "            print(f'{matched_rw_col}\\t{matched_model_col}\\t{pattern}')\n",
    "            dt[\"Paper Features\"].append(matched_rw_col)\n",
    "            dt[\"Model Features\"].append(matched_model_col)\n",
    "            dt[\"Matching Pattern Used\"].append(pattern)\n",
    "        \n",
    "\n",
    "        dts[col].append(pd.DataFrame.from_dict(dt))\n",
    "        \n",
    "        feature_dts[\"Title\"].append(rw_df.iloc[i]['Title'])\n",
    "        feature_dts[\"Type\"].append(col)\n",
    "        feature_dts[\"Unmatched_Features\"].append(unmatched_rw_cols_set)\n",
    "        feature_dts[\"Matched_Features\"].append(matched_rw_cols_set)"
   ]
  },
  {
   "cell_type": "code",
   "execution_count": null,
   "id": "742b1d28",
   "metadata": {},
   "outputs": [],
   "source": [
    "feature_dts"
   ]
  },
  {
   "cell_type": "code",
   "execution_count": null,
   "id": "df7928e1",
   "metadata": {},
   "outputs": [],
   "source": [
    "feature_df = pd.DataFrame.from_dict(feature_dts)"
   ]
  },
  {
   "cell_type": "markdown",
   "id": "0c7e81f1",
   "metadata": {},
   "source": [
    "### View Matched/Unmatched Features for All Papers (currently looking at all features)"
   ]
  },
  {
   "cell_type": "code",
   "execution_count": null,
   "id": "9ee22273",
   "metadata": {},
   "outputs": [],
   "source": [
    "feature_df.loc[feature_df['Type']=='All Features']"
   ]
  },
  {
   "cell_type": "markdown",
   "id": "a2e03e13",
   "metadata": {},
   "source": [
    "### More Granular Information on how Matching Features were Obtained (currently looking at first paper)"
   ]
  },
  {
   "cell_type": "code",
   "execution_count": null,
   "id": "e490c145",
   "metadata": {},
   "outputs": [],
   "source": [
    "for col in feature_types:\n",
    "    display(dts[col][0])"
   ]
  },
  {
   "cell_type": "markdown",
   "id": "6d9bd88c",
   "metadata": {},
   "source": [
    "### Scratch"
   ]
  },
  {
   "cell_type": "code",
   "execution_count": null,
   "id": "b954dde3",
   "metadata": {},
   "outputs": [],
   "source": [
    "# similar features in the first and second paper\n",
    "set(rw_df[\"List Baseline Features\"].iloc[0]).intersection(set(rw_df[\"List Baseline Features\"].iloc[1]))"
   ]
  },
  {
   "cell_type": "code",
   "execution_count": null,
   "id": "c3fad269",
   "metadata": {},
   "outputs": [],
   "source": [
    "rw_df[\"List Baseline Features\"]"
   ]
  },
  {
   "cell_type": "code",
   "execution_count": null,
   "id": "c1f2fba9",
   "metadata": {},
   "outputs": [],
   "source": [
    "rw_df[\"List Vital Signs\"] = rw_df[\"Vital Signs\"].str.split(\",\")"
   ]
  },
  {
   "cell_type": "code",
   "execution_count": null,
   "id": "e594cda4",
   "metadata": {},
   "outputs": [],
   "source": [
    "rw_df[\"List Lab Results\"] = rw_df[\"Lab Results\"].str.split(\",\")"
   ]
  },
  {
   "cell_type": "code",
   "execution_count": null,
   "id": "78aac189",
   "metadata": {},
   "outputs": [],
   "source": []
  },
  {
   "cell_type": "code",
   "execution_count": null,
   "id": "0820c4eb",
   "metadata": {},
   "outputs": [],
   "source": []
  }
 ],
 "metadata": {
  "kernelspec": {
   "display_name": "Python 3 (ipykernel)",
   "language": "python",
   "name": "python3"
  },
  "language_info": {
   "codemirror_mode": {
    "name": "ipython",
    "version": 3
   },
   "file_extension": ".py",
   "mimetype": "text/x-python",
   "name": "python",
   "nbconvert_exporter": "python",
   "pygments_lexer": "ipython3",
   "version": "3.8.9"
  }
 },
 "nbformat": 4,
 "nbformat_minor": 5
}
