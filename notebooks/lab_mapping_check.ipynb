{
 "cells": [
  {
   "cell_type": "code",
   "execution_count": 3,
   "metadata": {},
   "outputs": [],
   "source": [
    "from argparse import Namespace\n",
    "import pickle\n",
    "import sys\n",
    "from os import getcwd\n",
    "from os.path import join\n",
    "from pandas import DataFrame\n",
    "import re\n",
    "from fuzzywuzzy import fuzz\n",
    "import jellyfish\n",
    "import itertools\n",
    "\n",
    "sys.path.insert(0, join(getcwd(), \"module_code\"))\n"
   ]
  },
  {
   "cell_type": "code",
   "execution_count": 4,
   "metadata": {},
   "outputs": [],
   "source": [
    "# Save mapping\n",
    "with open(\"../Data/crrt-data/Cedars/Labs_Mapping.pkl\", \"rb\") as f:\n",
    "    lab_mapping = pickle.load(f)"
   ]
  },
  {
   "cell_type": "code",
   "execution_count": 18,
   "metadata": {},
   "outputs": [
    {
     "data": {
      "text/plain": [
       "['FIO2-ARTERIAL',\n",
       " 'PCO2-ARTERIAL',\n",
       " 'PO2-ARTERIAL',\n",
       " 'PO2-VENOUS',\n",
       " 'FIO2-VENOUS',\n",
       " 'PCO2-VENOUS',\n",
       " 'FIO2']"
      ]
     },
     "execution_count": 18,
     "metadata": {},
     "output_type": "execute_result"
    }
   ],
   "source": [
    "[lab for lab in list(lab_mapping.keys()) if \"O2\" in lab]"
   ]
  },
  {
   "cell_type": "code",
   "execution_count": null,
   "metadata": {},
   "outputs": [],
   "source": []
  }
 ],
 "metadata": {
  "kernelspec": {
   "display_name": "crrt_env",
   "language": "python",
   "name": "python3"
  },
  "language_info": {
   "codemirror_mode": {
    "name": "ipython",
    "version": 3
   },
   "file_extension": ".py",
   "mimetype": "text/x-python",
   "name": "python",
   "nbconvert_exporter": "python",
   "pygments_lexer": "ipython3",
   "version": "3.9.16"
  },
  "orig_nbformat": 4
 },
 "nbformat": 4,
 "nbformat_minor": 2
}
