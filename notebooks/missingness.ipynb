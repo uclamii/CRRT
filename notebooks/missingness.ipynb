{
 "cells": [
  {
   "cell_type": "code",
   "execution_count": null,
   "metadata": {},
   "outputs": [],
   "source": [
    "import pandas as pd\n",
    "import sys\n",
    "from os import getcwd\n",
    "from os.path import join\n",
    "import seaborn as sns\n",
    "\n",
    "sys.path.insert(0, join(getcwd(), \"../module_code\"))\n",
    "from data.utils import get_pt_type_indicators\n",
    "\n",
    "data_path = \"/home/davina/Private/crrt-data\"\n",
    "top_features = [\"CT-INTEM_skew\", \"CT-EXTEM_skew\", \"ABSOLUTE NUCLEATED RBC COUNT_skew\", \"ALPHA-ANGLE-EX_len\"]\n",
    "filters = {\n",
    "        \"heart\": lambda df: df[\"heart_pt_indicator\"] == 1,\n",
    "        \"liver\": lambda df: df[\"liver_pt_indicator\"] == 1,\n",
    "        \"infection\": lambda df: df[\"infection_pt_indicator\"] == 1,\n",
    "        \"no_heart_liver_infection\": lambda df: (\n",
    "            (df[\"infection_pt_indicator\"] == 0)\n",
    "            & (df[\"heart_pt_indicator\"] == 0)\n",
    "            & (df[\"liver_pt_indicator\"] == 0)\n",
    "        ),\n",
    "    }"
   ]
  },
  {
   "cell_type": "markdown",
   "metadata": {},
   "source": [
    "# Missingness for the subgroups/filters\n",
    "\n",
    "We saw a spike in performance in heart patients, we are assuming they got really sick and had measurements, this is to validate that"
   ]
  },
  {
   "cell_type": "code",
   "execution_count": null,
   "metadata": {},
   "outputs": [],
   "source": [
    "gather_count = {}\n",
    "gather_notna = {}\n",
    "for i in range(7):\n",
    "    if int(i):\n",
    "        file = f\"df_[startdate+{i}-7d,startdate+{i}].parquet\"\n",
    "    else:\n",
    "        file = \"df_[startdate-7d,startdate].parquet\"\n",
    "\n",
    "    f_df = pd.read_parquet(join(data_path, file))\n",
    "    f_df = get_pt_type_indicators(f_df)\n",
    "\n",
    "    for filter_name in filters.keys():\n",
    "        gather_count[(i, filter_name)] = f_df[filters[filter_name]][top_features].describe().loc[\"count\"]\n",
    "        gather_notna[(i, filter_name)] = f_df[filters[filter_name]][top_features].notna().mean()*100"
   ]
  },
  {
   "cell_type": "code",
   "execution_count": null,
   "metadata": {},
   "outputs": [],
   "source": [
    "def plot_overtime(gather_df: pd.DataFrame, sharey: bool = False):\n",
    "    counts = pd.DataFrame.from_dict(gather_df, orient=\"index\")\n",
    "    melted = counts.melt(ignore_index=False, var_name=\"Feature\").reset_index().rename({\"level_0\": \"time\", \"level_1\": \"filter\", \"value\": \"count\"}, axis=1)\n",
    "    g = sns.FacetGrid(melted, col=\"Feature\", col_wrap=4, sharey=sharey)\n",
    "    # x, y, hue\n",
    "    g.map(sns.lineplot, \"time\", \"count\", \"filter\")\n",
    "    g.add_legend()"
   ]
  },
  {
   "cell_type": "code",
   "execution_count": null,
   "metadata": {},
   "outputs": [],
   "source": [
    "plot_overtime(gather_count)"
   ]
  },
  {
   "cell_type": "code",
   "execution_count": null,
   "metadata": {},
   "outputs": [],
   "source": [
    "plot_overtime(gather_notna)"
   ]
  },
  {
   "cell_type": "markdown",
   "metadata": {},
   "source": [
    "As we slide the window over there are fewer patients, but each patient has more data avialble (by a little). Therefore the count drops but the percent notna increases over the slided windows."
   ]
  },
  {
   "cell_type": "code",
   "execution_count": null,
   "metadata": {},
   "outputs": [],
   "source": []
  },
  {
   "cell_type": "code",
   "execution_count": null,
   "metadata": {},
   "outputs": [],
   "source": []
  }
 ],
 "metadata": {
  "kernelspec": {
   "display_name": "Python 3.9.13 ('crrt')",
   "language": "python",
   "name": "python3"
  },
  "language_info": {
   "codemirror_mode": {
    "name": "ipython",
    "version": 3
   },
   "file_extension": ".py",
   "mimetype": "text/x-python",
   "name": "python",
   "nbconvert_exporter": "python",
   "pygments_lexer": "ipython3",
   "version": "3.9.13"
  },
  "vscode": {
   "interpreter": {
    "hash": "3ec4323cdb57771f81a9fbb6644b264a95b8ef7a3669230ca02ff6d9a0ad522e"
   }
  }
 },
 "nbformat": 4,
 "nbformat_minor": 2
}
