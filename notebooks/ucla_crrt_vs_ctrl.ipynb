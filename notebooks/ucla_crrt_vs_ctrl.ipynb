{
 "cells": [
  {
   "cell_type": "code",
   "execution_count": null,
   "metadata": {},
   "outputs": [],
   "source": [
    "import sys\n",
    "from os import getcwd\n",
    "from os.path import join\n",
    "import pandas as pd\n",
    "sys.path.insert(0, join(getcwd(), \"../module_code\"))\n",
    "\n",
    "from data.load import load_data, load_outcomes\n",
    "from data.utils import read_files_and_combine\n",
    "from cli_utils import load_cli_args, init_cli_args\n",
    "\n",
    "sys.argv = [sys.argv[0]]\n",
    "load_cli_args(\"../options.yml\")\n",
    "args = init_cli_args()\n",
    "unique = {}"
   ]
  },
  {
   "attachments": {},
   "cell_type": "markdown",
   "metadata": {},
   "source": [
    "# Providers"
   ]
  },
  {
   "cell_type": "code",
   "execution_count": null,
   "metadata": {},
   "outputs": [],
   "source": [
    "provider = \"Providers.txt\"\n",
    "crrt_df = read_files_and_combine([provider], args.ucla_crrt_data_dir)\n",
    "ctrl_df = read_files_and_combine([provider], args.ucla_control_data_dir)"
   ]
  },
  {
   "cell_type": "code",
   "execution_count": null,
   "metadata": {},
   "outputs": [],
   "source": [
    "print(crrt_df.columns)\n",
    "print(ctrl_df.columns)"
   ]
  },
  {
   "attachments": {},
   "cell_type": "markdown",
   "metadata": {},
   "source": [
    "# Demographics"
   ]
  },
  {
   "cell_type": "code",
   "execution_count": null,
   "metadata": {},
   "outputs": [],
   "source": [
    "demo = \"Patient_Demographics.txt\"\n",
    "crrt_df = read_files_and_combine([demo], args.ucla_crrt_data_dir)\n",
    "ctrl_df = read_files_and_combine([demo], args.ucla_control_data_dir)"
   ]
  },
  {
   "cell_type": "code",
   "execution_count": null,
   "metadata": {},
   "outputs": [],
   "source": [
    "unique[\"demographics\"] = {\n",
    "    \"crrt\": crrt_df[\"IP_PATIENT_ID\"].nunique(),\n",
    "    \"ctrl\": ctrl_df[\"IP_PATIENT_ID\"].nunique()\n",
    "}\n",
    "print(unique)"
   ]
  },
  {
   "cell_type": "code",
   "execution_count": null,
   "metadata": {},
   "outputs": [],
   "source": [
    "crrt_df.columns"
   ]
  },
  {
   "cell_type": "code",
   "execution_count": null,
   "metadata": {},
   "outputs": [],
   "source": [
    "ctrl_df.columns"
   ]
  },
  {
   "cell_type": "code",
   "execution_count": null,
   "metadata": {},
   "outputs": [],
   "source": [
    "import matplotlib.pyplot as plt\n",
    "\n",
    "def plot_demo_breakdown(dfs: list[pd.DataFrame], ctn: list[str], drop_cols: list[str], ax: plt.Axes):\n",
    "    for row, df in enumerate(dfs):\n",
    "        for i, colname in enumerate(df.drop(drop_cols, axis=1).columns):\n",
    "            if colname not in ctn:\n",
    "                data = df[colname].value_counts()\n",
    "                data.plot.bar(ax=ax[row, i], title=colname, rot=45, layout=\"tight\")\n",
    "            else:\n",
    "                data = df[colname]\n",
    "                data.plot.hist(ax=ax[row, i], title=colname)\n",
    "\n",
    "fig, axs = plt.subplots(nrows=2, ncols=5, figsize=(20,10))\n",
    "plot_demo_breakdown(\n",
    "    [\n",
    "        crrt_df,\n",
    "        ctrl_df.rename({\"IP_CURRENT_PCP_ID\": \"PCP_IP_PROVIDER_ID\"}, axis=1)\n",
    "    ],\n",
    "    [\"AGE\"],\n",
    "    [\"IP_PATIENT_ID\", \"PCP_IP_PROVIDER_ID\"],\n",
    "    axs\n",
    ")\n",
    "for ax, row in zip(axs[:,0], [\"CRRT\", \"Control\"]):\n",
    "    ax.set_ylabel(row, rotation=0, size=\"large\")\n",
    "fig.tight_layout()\n",
    "fig.show()"
   ]
  },
  {
   "cell_type": "code",
   "execution_count": null,
   "metadata": {},
   "outputs": [],
   "source": [
    "def differences(col: str):\n",
    "    return set(crrt_df[col].value_counts().index).symmetric_difference(set(ctrl_df[col].value_counts().index))"
   ]
  },
  {
   "cell_type": "code",
   "execution_count": null,
   "metadata": {},
   "outputs": [],
   "source": [
    "print(differences(\"RACE\"))\n",
    "print(differences(\"ETHNICITY\"))"
   ]
  },
  {
   "attachments": {},
   "cell_type": "markdown",
   "metadata": {},
   "source": [
    "# Vitals\n",
    "The vital sign names seems to be mismatching between the crrt patients and controls at UCLA.\n",
    "\n",
    "Controls have `WEIGHT/SCALE` which is messing with splitting `SBP/DBP`."
   ]
  },
  {
   "cell_type": "code",
   "execution_count": null,
   "metadata": {},
   "outputs": [],
   "source": [
    "vitals = \"Flowsheet_Vitals.txt\"\n",
    "crrt_df = read_files_and_combine([vitals], args.ucla_crrt_data_dir)\n",
    "ctrl_df = read_files_and_combine([vitals], args.ucla_control_data_dir)\n",
    "\n",
    "unique[\"vitals\"] = {\n",
    "    \"crrt\": crrt_df[\"IP_PATIENT_ID\"].nunique(),\n",
    "    \"ctrl\": ctrl_df[\"IP_PATIENT_ID\"].nunique()\n",
    "}\n",
    "print(unique)"
   ]
  },
  {
   "cell_type": "code",
   "execution_count": null,
   "metadata": {},
   "outputs": [],
   "source": []
  },
  {
   "cell_type": "code",
   "execution_count": null,
   "metadata": {},
   "outputs": [],
   "source": [
    "crrt_df[\"VITAL_SIGN_TYPE\"].unique()"
   ]
  },
  {
   "cell_type": "code",
   "execution_count": null,
   "metadata": {},
   "outputs": [],
   "source": [
    "ctrl_df[\"VITAL_SIGN_TYPE\"].unique()"
   ]
  },
  {
   "attachments": {},
   "cell_type": "markdown",
   "metadata": {},
   "source": [
    "They all map except for O2 Device, which CRRT people have while controls do not."
   ]
  },
  {
   "cell_type": "code",
   "execution_count": null,
   "metadata": {},
   "outputs": [],
   "source": [
    "crrt_df[crrt_df[\"VITAL_SIGN_TYPE\"] == \"SpO2\"][\"VITAL_SIGN_VALUE\"]"
   ]
  },
  {
   "cell_type": "code",
   "execution_count": null,
   "metadata": {},
   "outputs": [],
   "source": [
    "ctrl_df[ctrl_df[\"vital_sign_type\"] == \"PULSE OXIMETRY\"][\"vital_sign_value\"]"
   ]
  },
  {
   "cell_type": "code",
   "execution_count": null,
   "metadata": {},
   "outputs": [],
   "source": [
    "crrt_df[crrt_df[\"VITAL_SIGN_TYPE\"] == \"O2 Device\"][\"VITAL_SIGN_VALUE\"]"
   ]
  },
  {
   "attachments": {},
   "cell_type": "markdown",
   "metadata": {},
   "source": [
    "# Diagnoses"
   ]
  },
  {
   "cell_type": "code",
   "execution_count": null,
   "metadata": {},
   "outputs": [],
   "source": [
    "pt = \"1E6D759D88A19B0CFFE1F2EF2B4238CD\"\n",
    "fname = \"Encounter_Diagnoses.txt\"\n",
    "crrt_df = read_files_and_combine([fname], args.ucla_crrt_data_dir)\n",
    "ctrl_df = read_files_and_combine([fname], args.ucla_control_data_dir)"
   ]
  },
  {
   "cell_type": "code",
   "execution_count": null,
   "metadata": {},
   "outputs": [],
   "source": [
    "unique[\"diagnoses\"] = {\n",
    "    \"crrt\": crrt_df[\"IP_PATIENT_ID\"].nunique(),\n",
    "    \"ctrl\": ctrl_df[\"IP_PATIENT_ID\"].nunique()\n",
    "}\n",
    "print(unique)"
   ]
  },
  {
   "cell_type": "code",
   "execution_count": null,
   "metadata": {},
   "outputs": [],
   "source": [
    "from hcuppy.ccs import CCSEngine\n",
    "from data.utils import read_files_and_combine\n",
    "from data.longitudinal_utils import hcuppy_map_code\n",
    "\n",
    "dx_df = read_files_and_combine([fname], args.ucla_control_data_dir)\n",
    "print(dx_df.shape)\n",
    "ce = CCSEngine(mode=\"dx\")\n",
    "icd10_mask = dx_df[\"ICD_TYPE\"] == 10\n",
    "exploded_cols = [\"dx_CCS_CODE\",\n",
    "            \"dx_CCS_DESCRIPTION\",\n",
    "            \"dx_CCS_LEVEL1\",\n",
    "            \"dx_CCS_LEVEL1_DESCRIPTION\",\n",
    "            \"dx_CCS_LEVEL2\",\n",
    "            \"dx_CCS_LEVEL2_DESCRIPTION\",\n",
    "        ]\n",
    "mapped = hcuppy_map_code(\n",
    "        dx_df,\n",
    "        code_col=\"ICD_CODE\",\n",
    "        exploded_cols=exploded_cols,\n",
    "        hcuppy_converter_function=ce.get_ccs,\n",
    "    )\n",
    "print(mapped.shape)\n",
    "mapped.head()"
   ]
  },
  {
   "cell_type": "code",
   "execution_count": null,
   "metadata": {},
   "outputs": [],
   "source": [
    "mapped_dict = dx_df[\"ICD_CODE\"].apply(lambda code: ce.get_ccs(code))\n",
    "mapped_dict = pd.DataFrame(mapped_dict.tolist())\n",
    "mapped_dict.columns = exploded_cols\n",
    "mapped_dict"
   ]
  },
  {
   "cell_type": "code",
   "execution_count": null,
   "metadata": {},
   "outputs": [],
   "source": [
    "pd.concat([dx_df, mapped_dict], axis=1)"
   ]
  },
  {
   "attachments": {},
   "cell_type": "markdown",
   "metadata": {},
   "source": [
    "# Labs"
   ]
  },
  {
   "cell_type": "code",
   "execution_count": null,
   "metadata": {},
   "outputs": [],
   "source": [
    "labs = \"Labs.txt\"\n",
    "crrt_df = read_files_and_combine([labs], args.ucla_crrt_data_dir)\n",
    "ctrl_df = read_files_and_combine([labs], args.ucla_control_data_dir)\n",
    "\n",
    "unique[\"labs\"] = {\n",
    "    \"crrt\": crrt_df[\"IP_PATIENT_ID\"].nunique(),\n",
    "    \"ctrl\": ctrl_df[\"IP_PATIENT_ID\"].nunique()\n",
    "}\n",
    "print(unique)"
   ]
  },
  {
   "cell_type": "code",
   "execution_count": null,
   "metadata": {},
   "outputs": [],
   "source": [
    "crrt_df[\"COMPONENT_NAME\"].unique()"
   ]
  },
  {
   "cell_type": "code",
   "execution_count": null,
   "metadata": {},
   "outputs": [],
   "source": [
    "ctrl_df[\"COMPONENT_NAME\"].unique()"
   ]
  },
  {
   "cell_type": "code",
   "execution_count": null,
   "metadata": {},
   "outputs": [],
   "source": [
    "crrt_set = set(crrt_df[\"COMPONENT_NAME\"].unique())\n",
    "ctrl_set = set(ctrl_df[\"COMPONENT_NAME\"].unique())\n",
    "same = crrt_set.intersection(ctrl_set)\n",
    "print(len(same))\n",
    "same"
   ]
  },
  {
   "cell_type": "code",
   "execution_count": null,
   "metadata": {},
   "outputs": [],
   "source": [
    "diff = crrt_set.symmetric_difference(ctrl_set)\n",
    "print(len(diff))\n",
    "diff"
   ]
  },
  {
   "cell_type": "code",
   "execution_count": null,
   "metadata": {},
   "outputs": [],
   "source": [
    "import jellyfish\n",
    "import itertools\n",
    "\n",
    "def pairwise_diff(diff: set) -> pd.DataFrame:\n",
    "    results = {\n",
    "        combo: jellyfish.levenshtein_distance(*combo) for combo in itertools.permutations(diff, 2)\n",
    "    }\n",
    "    distances = pd.DataFrame(results.values(), index=results.keys()).sort_values(0)\n",
    "    return distances"
   ]
  },
  {
   "attachments": {},
   "cell_type": "markdown",
   "metadata": {},
   "source": [
    "## In crrt but not control"
   ]
  },
  {
   "cell_type": "code",
   "execution_count": null,
   "metadata": {},
   "outputs": [],
   "source": [
    "dists = pairwise_diff(crrt_set - ctrl_set)\n",
    "dists"
   ]
  },
  {
   "attachments": {},
   "cell_type": "markdown",
   "metadata": {},
   "source": [
    "## In control but not crrt"
   ]
  },
  {
   "cell_type": "code",
   "execution_count": null,
   "metadata": {},
   "outputs": [],
   "source": [
    "dists = pairwise_diff(ctrl_set - crrt_set)\n",
    "dists"
   ]
  },
  {
   "attachments": {},
   "cell_type": "markdown",
   "metadata": {},
   "source": [
    "# Medications"
   ]
  },
  {
   "cell_type": "code",
   "execution_count": null,
   "metadata": {},
   "outputs": [],
   "source": [
    "meds = \"Medications.txt\"\n",
    "crrt_df = read_files_and_combine([meds], args.ucla_crrt_data_dir)\n",
    "ctrl_df = read_files_and_combine([meds], args.ucla_control_data_dir)\n",
    "\n",
    "unique[\"meds\"] = {\n",
    "    \"crrt\": crrt_df[\"IP_PATIENT_ID\"].nunique(),\n",
    "    \"ctrl\": ctrl_df[\"IP_PATIENT_ID\"].nunique()\n",
    "}\n",
    "print(unique)"
   ]
  },
  {
   "cell_type": "code",
   "execution_count": null,
   "metadata": {},
   "outputs": [],
   "source": [
    "crrt_df[\"PHARM_SUBCLASS\"]"
   ]
  },
  {
   "cell_type": "code",
   "execution_count": null,
   "metadata": {},
   "outputs": [],
   "source": [
    "ctrl_df[\"medispan_subclass_name\"]"
   ]
  },
  {
   "cell_type": "code",
   "execution_count": null,
   "metadata": {},
   "outputs": [],
   "source": [
    "crrt_set = set(crrt_df[\"PHARM_SUBCLASS\"].unique())\n",
    "ctrl_set = set(ctrl_df[\"MEDISPAN_SUBCLASS_NAME\"].unique())"
   ]
  },
  {
   "cell_type": "code",
   "execution_count": null,
   "metadata": {},
   "outputs": [],
   "source": [
    "print(len(crrt_set.intersection(ctrl_set)))\n",
    "diff = crrt_set.symmetric_difference(ctrl_set)\n",
    "print(len(diff))"
   ]
  },
  {
   "cell_type": "code",
   "execution_count": null,
   "metadata": {},
   "outputs": [],
   "source": [
    "pairwise_diff(ctrl_set - crrt_set).iloc[:30]"
   ]
  },
  {
   "cell_type": "code",
   "execution_count": null,
   "metadata": {},
   "outputs": [],
   "source": [
    "pairwise_diff(crrt_set - ctrl_set)"
   ]
  },
  {
   "attachments": {},
   "cell_type": "markdown",
   "metadata": {},
   "source": [
    "# Problems"
   ]
  },
  {
   "cell_type": "code",
   "execution_count": null,
   "metadata": {},
   "outputs": [],
   "source": [
    "probs = \"Problem_Lists.txt\"\n",
    "crrt_df = read_files_and_combine([probs], args.ucla_crrt_data_dir)\n",
    "ctrl_df = read_files_and_combine([probs], args.ucla_control_data_dir)\n",
    "\n",
    "unique[\"probs\"] = {\n",
    "    \"crrt\": crrt_df[\"IP_PATIENT_ID\"].nunique(),\n",
    "    \"ctrl\": ctrl_df[\"IP_PATIENT_ID\"].nunique()\n",
    "}\n",
    "print(unique)"
   ]
  },
  {
   "cell_type": "code",
   "execution_count": null,
   "metadata": {},
   "outputs": [],
   "source": [
    "crrt_df.columns"
   ]
  },
  {
   "attachments": {},
   "cell_type": "markdown",
   "metadata": {},
   "source": [
    "# Procedures"
   ]
  },
  {
   "cell_type": "code",
   "execution_count": null,
   "metadata": {},
   "outputs": [],
   "source": [
    "procs = \"Procedures.txt\"\n",
    "crrt_df = read_files_and_combine([procs], args.ucla_crrt_data_dir)\n",
    "ctrl_df = read_files_and_combine([procs], args.ucla_control_data_dir)\n",
    "\n",
    "unique[\"procs\"] = {\n",
    "    \"crrt\": crrt_df[\"IP_PATIENT_ID\"].nunique(),\n",
    "    \"ctrl\": ctrl_df[\"IP_PATIENT_ID\"].nunique()\n",
    "}\n",
    "print(unique)"
   ]
  },
  {
   "attachments": {},
   "cell_type": "markdown",
   "metadata": {},
   "source": [
    "## time difference of different explode procedures"
   ]
  },
  {
   "cell_type": "code",
   "execution_count": null,
   "metadata": {},
   "outputs": [],
   "source": [
    "sample = crrt_df.sample(10000)\n",
    "sample[\"VITAL_SIGN_TYPE\"].replace(\n",
    "        {\"BP\": \"SBP/DBP\", \"BLOOD PRESSURE\": \"SBP/DBP\"}, inplace=True\n",
    "    )\n",
    "explode_cols = [\"VITAL_SIGN_VALUE\", \"VITAL_SIGN_TYPE\"]"
   ]
  },
  {
   "cell_type": "code",
   "execution_count": null,
   "metadata": {},
   "outputs": [],
   "source": [
    "%%timeit -n 100\n",
    "\n",
    "(\n",
    "    sample.set_index(list(sample.columns.difference(explode_cols)))\n",
    "        .apply(lambda col: col.str.split(\"/\").explode())\n",
    "        .reset_index()\n",
    "        .reindex(sample.columns, axis=1)\n",
    ")"
   ]
  },
  {
   "cell_type": "code",
   "execution_count": null,
   "metadata": {},
   "outputs": [],
   "source": [
    "%%timeit  -n 100\n",
    "b = (\n",
    "\tsample.apply(\n",
    "\t\tlambda col: col.str.split(\"/\") \n",
    "\t\tif col.name in explode_cols else col\n",
    "\t).explode(explode_cols)\n",
    ")"
   ]
  },
  {
   "cell_type": "code",
   "execution_count": null,
   "metadata": {},
   "outputs": [],
   "source": [
    "a = (\n",
    "    sample.set_index(list(sample.columns.difference(explode_cols)))\n",
    "        .apply(lambda col: col.str.split(\"/\").explode())\n",
    "        .reset_index()\n",
    "        .reindex(sample.columns, axis=1)\n",
    ")\n",
    "b = (\n",
    "\tsample.apply(\n",
    "\t\tlambda col: col.str.split(\"/\") \n",
    "\t\tif col.name in explode_cols else col\n",
    "\t).explode(explode_cols)\n",
    "    .reset_index(drop=True)  # reset index to be fair comparison\n",
    ")\n",
    "a.equals(b)"
   ]
  }
 ],
 "metadata": {
  "kernelspec": {
   "display_name": "crrt",
   "language": "python",
   "name": "python3"
  },
  "language_info": {
   "codemirror_mode": {
    "name": "ipython",
    "version": 3
   },
   "file_extension": ".py",
   "mimetype": "text/x-python",
   "name": "python",
   "nbconvert_exporter": "python",
   "pygments_lexer": "ipython3",
   "version": "3.9.15 | packaged by conda-forge | (main, Nov 22 2022, 15:55:03) \n[GCC 10.4.0]"
  },
  "vscode": {
   "interpreter": {
    "hash": "3ec4323cdb57771f81a9fbb6644b264a95b8ef7a3669230ca02ff6d9a0ad522e"
   }
  }
 },
 "nbformat": 4,
 "nbformat_minor": 2
}
