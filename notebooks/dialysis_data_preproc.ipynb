{
 "cells": [
  {
   "cell_type": "code",
   "execution_count": null,
   "metadata": {
    "execution": {
     "iopub.execute_input": "2021-05-06T00:00:30.372768Z",
     "iopub.status.busy": "2021-05-06T00:00:30.372179Z",
     "iopub.status.idle": "2021-05-06T00:00:30.380310Z",
     "shell.execute_reply": "2021-05-06T00:00:30.378882Z",
     "shell.execute_reply.started": "2021-05-06T00:00:30.372711Z"
    }
   },
   "outputs": [],
   "source": [
    "import pandas as pd\n",
    "\n",
    "data_dir = \"/home/davina/Private/dialysis-data\"\n",
    "static_features = [\n",
    "    \"Allergies_19-000093_10082020.txt\",\n",
    "    \"Patient_Demographics_19-000093_10082020.txt\",\n",
    "    \"Social_History_19-000093_10082020.txt\",\n",
    "]\n",
    "encounters = [\n",
    "    \"enc_19-000093_10082020.txt\",\n",
    "    \"Encounter_Diagnoses_19-000093_10082020.txt\",\n",
    "    \"Encounters_19-000093_10082020.txt\",\n",
    "    \"Family_History_19-000093_10082020.txt\",\n",
    "    \"Flowsheet_Vitals_19-000093_10082020.txt\",\n",
    "    \"Hospital_Unit_Transfers_19-000093_10082020.txt\",\n",
    "#     \"Labs_19-000093_10082020.txt\",\n",
    "    \"Medications_19-000093_10082020.txt\",\n",
    "    \"problem_list_diagnoses_19-000093_10082020.txt\",\n",
    "    \"Problem_Lists_19-000093_10082020.txt\",\n",
    "#     \"Procedures_19-000093_10082020.txt\",\n",
    "]\n",
    "provider_mapping_file = \"providers_19-000093_10082020.txt\"\n",
    "outcome_file = \"CRRT Deidentified 2017-2019.csv\""
   ]
  },
  {
   "cell_type": "code",
   "execution_count": null,
   "metadata": {
    "execution": {
     "iopub.execute_input": "2021-05-06T00:00:31.108145Z",
     "iopub.status.busy": "2021-05-06T00:00:31.107648Z",
     "iopub.status.idle": "2021-05-06T00:00:31.120155Z",
     "shell.execute_reply": "2021-05-06T00:00:31.118925Z",
     "shell.execute_reply.started": "2021-05-06T00:00:31.108095Z"
    }
   },
   "outputs": [],
   "source": [
    "from functools import reduce\n",
    "from typing import List\n",
    "\n",
    "def read_files_and_combine(files: List[str], how=\"inner\"):\n",
    "    dfs = []\n",
    "\n",
    "    for file in files:\n",
    "        try:\n",
    "            dfs.append(pd.read_csv(f\"{data_dir}/{file}\"))\n",
    "        except:\n",
    "            print(f\"Unexpected encoding in {file}\")\n",
    "            default_guess = \"cp1252\"\n",
    "            import os\n",
    "            # get file encoding using file -i and extracting name with sed\n",
    "            # ref: https://unix.stackexchange.com/a/393949\n",
    "            # -n: don't print unless we say. s/ search, .* match any, charset=, // remove text up until after =, print remaining\n",
    "            command = f\"file -i {data_dir}/{file} | sed -n 's/.*charset=//p'\"\n",
    "            # [:-1] ignore newline\n",
    "            encoding = os.popen(command).read()[:-1]\n",
    "            print(f\"Encoding was {encoding} instead of assumed utf-8.\")\n",
    "            if encoding == \"unknown-8bit\":\n",
    "                print(f\"Assuming {default_guess}...\")\n",
    "                dfs.append(pd.read_csv(f\"{data_dir}/{file}\",  encoding=default_guess))\n",
    "            else:\n",
    "                dfs.append(pd.read_csv(f\"{data_dir}/{file}\",  encoding=encoding))\n",
    "    combined = reduce(lambda df1, df2: pd.merge(df1, df2, on=\"IP_PATIENT_ID\", how=how), dfs)\n",
    "    return combined"
   ]
  },
  {
   "cell_type": "markdown",
   "metadata": {},
   "source": [
    "# Load + Preproc Outcomes"
   ]
  },
  {
   "cell_type": "code",
   "execution_count": null,
   "metadata": {
    "execution": {
     "iopub.execute_input": "2021-05-06T00:00:31.648000Z",
     "iopub.status.busy": "2021-05-06T00:00:31.647501Z",
     "iopub.status.idle": "2021-05-06T00:00:31.681949Z",
     "shell.execute_reply": "2021-05-06T00:00:31.680957Z",
     "shell.execute_reply.started": "2021-05-06T00:00:31.647951Z"
    }
   },
   "outputs": [],
   "source": [
    "# get first sheet only\n",
    "outcomes = pd.read_csv(f\"{data_dir}/{outcome_file}\")\n",
    "\n",
    "# Exclude pediatric data\n",
    "exclude_peds = outcomes[\"Hospital name\"] != \"UCLA MEDICAL CENTER- PEDIATRICS\"\n",
    "outcomes = outcomes[exclude_peds]\n",
    "\n",
    "# TODO: include CRRT Total Days as predictive feature\n",
    "\n",
    "outcomes"
   ]
  },
  {
   "cell_type": "markdown",
   "metadata": {},
   "source": [
    "## Validate Outcomes"
   ]
  },
  {
   "cell_type": "code",
   "execution_count": null,
   "metadata": {
    "execution": {
     "iopub.execute_input": "2021-05-06T00:00:32.571927Z",
     "iopub.status.busy": "2021-05-06T00:00:32.571369Z",
     "iopub.status.idle": "2021-05-06T00:00:32.608897Z",
     "shell.execute_reply": "2021-05-06T00:00:32.608277Z",
     "shell.execute_reply.started": "2021-05-06T00:00:32.571872Z"
    }
   },
   "outputs": [],
   "source": [
    "# Date range for outcomes\n",
    "outcomes[\"End Date\"] = pd.to_datetime(outcomes[\"End Date\"])\n",
    "f\"min date: {outcomes['End Date'].min()}. max date: {outcomes['End Date'].max()}\""
   ]
  },
  {
   "cell_type": "code",
   "execution_count": null,
   "metadata": {
    "execution": {
     "iopub.execute_input": "2021-05-06T00:00:33.050060Z",
     "iopub.status.busy": "2021-05-06T00:00:33.049500Z",
     "iopub.status.idle": "2021-05-06T00:00:33.070704Z",
     "shell.execute_reply": "2021-05-06T00:00:33.069850Z",
     "shell.execute_reply.started": "2021-05-06T00:00:33.050007Z"
    }
   },
   "outputs": [],
   "source": [
    "positive_outcomes = [\"Recov. renal funct.\", \"Transitioned to HD\"]\n",
    "negative_outcomes = [\"Palliative Care\", \"Expired \"] \n",
    "outcome_cols = positive_outcomes + negative_outcomes\n",
    "outcomes[outcome_cols]"
   ]
  },
  {
   "cell_type": "code",
   "execution_count": null,
   "metadata": {
    "execution": {
     "iopub.execute_input": "2021-05-06T00:00:33.719162Z",
     "iopub.status.busy": "2021-05-06T00:00:33.718660Z",
     "iopub.status.idle": "2021-05-06T00:00:33.751074Z",
     "shell.execute_reply": "2021-05-06T00:00:33.750130Z",
     "shell.execute_reply.started": "2021-05-06T00:00:33.719112Z"
    }
   },
   "outputs": [],
   "source": [
    "# Each row should have exactly 1 1.0 value (one-hot of the 4 cols)\n",
    "bad_rows = outcomes[outcome_cols].fillna(0).sum(axis=1) == 1\n",
    "outcomes[bad_rows]\n",
    "## TODO: Should i drop the bad row?"
   ]
  },
  {
   "cell_type": "markdown",
   "metadata": {},
   "source": [
    "## Construct outcome feature (recommend dialysis)"
   ]
  },
  {
   "cell_type": "code",
   "execution_count": null,
   "metadata": {
    "execution": {
     "iopub.execute_input": "2021-05-06T00:06:37.134450Z",
     "iopub.status.busy": "2021-05-06T00:06:37.133927Z",
     "iopub.status.idle": "2021-05-06T00:06:37.144727Z",
     "shell.execute_reply": "2021-05-06T00:06:37.143474Z",
     "shell.execute_reply.started": "2021-05-06T00:06:37.134401Z"
    }
   },
   "outputs": [],
   "source": [
    "recommend_dialysis = (outcomes[positive_outcomes] == 1).any(axis=1)\n",
    "outcomes[\"recommend_dialysis\"] =  recommend_dialysis.astype(int)\n",
    "\n",
    "# To combine with features\n",
    "outcome_df = outcomes[[\"IP_PATIENT_ID\", \"recommend_dialysis\"]]"
   ]
  },
  {
   "cell_type": "code",
   "execution_count": null,
   "metadata": {
    "execution": {
     "iopub.execute_input": "2021-05-04T21:17:24.404842Z",
     "iopub.status.busy": "2021-05-04T21:17:24.404346Z",
     "iopub.status.idle": "2021-05-04T21:17:24.412855Z",
     "shell.execute_reply": "2021-05-04T21:17:24.411765Z",
     "shell.execute_reply.started": "2021-05-04T21:17:24.404794Z"
    }
   },
   "outputs": [],
   "source": [
    "sum(outcome_df[\"recommend_dialysis\"])/len(outcome_df) * 100"
   ]
  },
  {
   "cell_type": "code",
   "execution_count": null,
   "metadata": {
    "execution": {
     "iopub.execute_input": "2021-05-04T21:17:25.316710Z",
     "iopub.status.busy": "2021-05-04T21:17:25.316194Z",
     "iopub.status.idle": "2021-05-04T21:17:25.332946Z",
     "shell.execute_reply": "2021-05-04T21:17:25.331847Z",
     "shell.execute_reply.started": "2021-05-04T21:17:25.316661Z"
    }
   },
   "outputs": [],
   "source": [
    "outcomes[positive_outcomes + negative_outcomes + [\"recommend_dialysis\"]].sum(axis=0) / len(outcome_df) * 100"
   ]
  },
  {
   "cell_type": "code",
   "execution_count": null,
   "metadata": {
    "execution": {
     "iopub.execute_input": "2021-05-04T21:17:53.086837Z",
     "iopub.status.busy": "2021-05-04T21:17:53.086288Z",
     "iopub.status.idle": "2021-05-04T21:17:53.482469Z",
     "shell.execute_reply": "2021-05-04T21:17:53.481940Z",
     "shell.execute_reply.started": "2021-05-04T21:17:53.086786Z"
    }
   },
   "outputs": [],
   "source": [
    "import seaborn as sns\n",
    "sns.boxplot(outcomes[\"CRRT Total Days\"])"
   ]
  },
  {
   "cell_type": "raw",
   "metadata": {
    "execution": {
     "iopub.execute_input": "2021-05-04T18:44:01.333341Z",
     "iopub.status.busy": "2021-05-04T18:44:01.332750Z",
     "iopub.status.idle": "2021-05-04T18:44:01.442954Z",
     "shell.execute_reply": "2021-05-04T18:44:01.442452Z",
     "shell.execute_reply.started": "2021-05-04T18:44:01.333287Z"
    }
   },
   "source": [
    "import seaborn as sns\n",
    "sns.violinplot(data=outcomes, y=\"CRRT Total Days\", x=\"recommend_dialysis\")#, hue=\"recommend_dialysis\", split=True)"
   ]
  },
  {
   "cell_type": "code",
   "execution_count": null,
   "metadata": {
    "execution": {
     "iopub.execute_input": "2021-05-04T21:17:55.009086Z",
     "iopub.status.busy": "2021-05-04T21:17:55.008554Z",
     "iopub.status.idle": "2021-05-04T21:17:55.111437Z",
     "shell.execute_reply": "2021-05-04T21:17:55.110926Z",
     "shell.execute_reply.started": "2021-05-04T21:17:55.009035Z"
    }
   },
   "outputs": [],
   "source": [
    "sns.boxplot(data=outcomes, y=\"CRRT Total Days\", x=\"recommend_dialysis\")\n",
    "outcomes[\"CRRT Total Days\"].describe()"
   ]
  },
  {
   "cell_type": "code",
   "execution_count": null,
   "metadata": {
    "execution": {
     "iopub.execute_input": "2021-05-04T21:17:57.885479Z",
     "iopub.status.busy": "2021-05-04T21:17:57.884954Z",
     "iopub.status.idle": "2021-05-04T21:17:57.893531Z",
     "shell.execute_reply": "2021-05-04T21:17:57.892407Z",
     "shell.execute_reply.started": "2021-05-04T21:17:57.885429Z"
    }
   },
   "outputs": [],
   "source": [
    "len(outcomes[\"IP_PATIENT_ID\"].unique())"
   ]
  },
  {
   "cell_type": "markdown",
   "metadata": {
    "execution": {
     "iopub.execute_input": "2021-02-26T00:55:12.288110Z",
     "iopub.status.busy": "2021-02-26T00:55:12.287524Z",
     "iopub.status.idle": "2021-02-26T00:55:12.303998Z",
     "shell.execute_reply": "2021-02-26T00:55:12.303210Z",
     "shell.execute_reply.started": "2021-02-26T00:55:12.288058Z"
    }
   },
   "source": [
    "# Preprocessing features"
   ]
  },
  {
   "cell_type": "code",
   "execution_count": null,
   "metadata": {
    "execution": {
     "iopub.execute_input": "2021-05-04T17:22:56.255339Z",
     "iopub.status.busy": "2021-05-04T17:22:56.254811Z",
     "iopub.status.idle": "2021-05-04T17:22:56.287723Z",
     "shell.execute_reply": "2021-05-04T17:22:56.286722Z",
     "shell.execute_reply.started": "2021-05-04T17:22:56.255289Z"
    }
   },
   "outputs": [],
   "source": [
    "static_df = read_files_and_combine(static_features)"
   ]
  },
  {
   "cell_type": "code",
   "execution_count": null,
   "metadata": {
    "execution": {
     "iopub.execute_input": "2021-05-04T17:22:56.554077Z",
     "iopub.status.busy": "2021-05-04T17:22:56.553446Z",
     "iopub.status.idle": "2021-05-04T17:22:56.569784Z",
     "shell.execute_reply": "2021-05-04T17:22:56.568453Z",
     "shell.execute_reply.started": "2021-05-04T17:22:56.554022Z"
    }
   },
   "outputs": [],
   "source": [
    "# map provider id to type\n",
    "provider_mapping = pd.read_csv(f\"{data_dir}/{provider_mapping_file}\")\n",
    "provider_mapping = dict(zip(provider_mapping[\"IP_PROVIDER_ID\"], provider_mapping[\"PROVIDER_TYPE\"]))\n",
    "static_df[\"PCP_IP_PROVIDER_ID\"] = static_df[\"PCP_IP_PROVIDER_ID\"].map(provider_mapping)\n",
    "static_df.rename(columns={\"PCP_IP_PROVIDER_ID\" : \"PCP_PROVIDER_TYPE\"}, inplace=True)"
   ]
  },
  {
   "cell_type": "code",
   "execution_count": null,
   "metadata": {
    "execution": {
     "iopub.execute_input": "2021-05-04T17:22:57.038936Z",
     "iopub.status.busy": "2021-05-04T17:22:57.038434Z",
     "iopub.status.idle": "2021-05-04T17:22:57.081153Z",
     "shell.execute_reply": "2021-05-04T17:22:57.080482Z",
     "shell.execute_reply.started": "2021-05-04T17:22:57.038885Z"
    }
   },
   "outputs": [],
   "source": [
    "static_df"
   ]
  },
  {
   "cell_type": "code",
   "execution_count": null,
   "metadata": {
    "execution": {
     "iopub.execute_input": "2021-05-04T17:22:58.146740Z",
     "iopub.status.busy": "2021-05-04T17:22:58.146230Z",
     "iopub.status.idle": "2021-05-04T17:22:58.154516Z",
     "shell.execute_reply": "2021-05-04T17:22:58.153376Z",
     "shell.execute_reply.started": "2021-05-04T17:22:58.146689Z"
    }
   },
   "outputs": [],
   "source": [
    "static_df[\"IP_PATIENT_ID\"].nunique()"
   ]
  },
  {
   "cell_type": "markdown",
   "metadata": {},
   "source": [
    "## LONGITUDINAL FEATURES"
   ]
  },
  {
   "cell_type": "markdown",
   "metadata": {},
   "source": [
    "### Limit Timeframe"
   ]
  },
  {
   "cell_type": "code",
   "execution_count": null,
   "metadata": {
    "execution": {
     "iopub.execute_input": "2021-05-04T21:19:03.825235Z",
     "iopub.status.busy": "2021-05-04T21:19:03.824668Z",
     "iopub.status.idle": "2021-05-04T21:19:03.836815Z",
     "shell.execute_reply": "2021-05-04T21:19:03.835769Z",
     "shell.execute_reply.started": "2021-05-04T21:19:03.825182Z"
    }
   },
   "outputs": [],
   "source": [
    "import numpy as np\n",
    "from scipy.stats import skew\n",
    "from datetime import timedelta\n",
    "\n",
    "aggregate_functions = [min, max, np.mean, np.std, skew, len]\n",
    "longitudinal_df = []\n",
    "\n",
    "TIME_WINDOW = {\n",
    "    \"YEARS\": 1,\n",
    "    \"MONTHS\": 0\n",
    "}\n",
    "\n",
    "# TODO: patients that are in the other files but not in the outcome files will not have a corresponding entry/time.\n",
    "def get_time_window_mask(df: pd.DataFrame, timestamp_feature_name: str) -> pd.DataFrame:\n",
    "    merged_df = df.merge(outcomes[[\"IP_PATIENT_ID\", \"End Date\"]], on=\"IP_PATIENT_ID\", how=\"left\")\n",
    "    dates = pd.to_datetime(merged_df[timestamp_feature_name])\n",
    "    mask = dates >= (merged_df[\"End Date\"] - timedelta(days=360*TIME_WINDOW[\"YEARS\"], weeks=4*TIME_WINDOW[\"MONTHS\"]))\n",
    "    print(f\"Dropping {df.shape[0] - sum(mask)} rows outside of time window.\")\n",
    "    return merged_df[mask].drop(\"End Date\", axis=1)"
   ]
  },
  {
   "cell_type": "markdown",
   "metadata": {},
   "source": [
    "### Diagnoses"
   ]
  },
  {
   "cell_type": "code",
   "execution_count": null,
   "metadata": {
    "execution": {
     "iopub.execute_input": "2021-05-04T21:19:04.572132Z",
     "iopub.status.busy": "2021-05-04T21:19:04.571620Z",
     "iopub.status.idle": "2021-05-04T21:19:05.153017Z",
     "shell.execute_reply": "2021-05-04T21:19:05.152532Z",
     "shell.execute_reply.started": "2021-05-04T21:19:04.572083Z"
    }
   },
   "outputs": [],
   "source": [
    "dx_df = read_files_and_combine([\"Encounter_Diagnoses_19-000093_10082020.txt\"])\n",
    "# Top N codes\n",
    "top_n = 15\n",
    "dx_df[dx_df[\"ICD_TYPE\"] == 10].groupby(\"ICD_CODE\").size().sort_values(ascending=False)[:top_n]"
   ]
  },
  {
   "cell_type": "markdown",
   "metadata": {
    "execution": {
     "iopub.execute_input": "2021-02-26T00:55:03.711271Z",
     "iopub.status.busy": "2021-02-26T00:55:03.711134Z",
     "iopub.status.idle": "2021-02-26T00:55:03.746401Z",
     "shell.execute_reply": "2021-02-26T00:55:03.745960Z",
     "shell.execute_reply.started": "2021-02-26T00:55:03.711257Z"
    }
   },
   "source": [
    "#### ICD9 VS ICD10"
   ]
  },
  {
   "cell_type": "code",
   "execution_count": null,
   "metadata": {
    "execution": {
     "iopub.execute_input": "2021-05-04T18:09:07.302838Z",
     "iopub.status.busy": "2021-05-04T18:09:07.302320Z",
     "iopub.status.idle": "2021-05-04T18:09:07.316064Z",
     "shell.execute_reply": "2021-05-04T18:09:07.314935Z",
     "shell.execute_reply.started": "2021-05-04T18:09:07.302786Z"
    }
   },
   "outputs": [],
   "source": [
    "icd10_n = (dx_df['ICD_TYPE'] == 10).sum()\n",
    "icd9_n = (dx_df['ICD_TYPE'] == 9).sum()\n",
    "f\"ICD 10: {icd10_n}, ICD 9: {icd9_n}, ratio of 10:9: {icd10_n / icd9_n}\""
   ]
  },
  {
   "cell_type": "code",
   "execution_count": null,
   "metadata": {
    "execution": {
     "iopub.execute_input": "2021-05-04T18:09:07.873458Z",
     "iopub.status.busy": "2021-05-04T18:09:07.872956Z",
     "iopub.status.idle": "2021-05-04T18:09:07.907536Z",
     "shell.execute_reply": "2021-05-04T18:09:07.906888Z",
     "shell.execute_reply.started": "2021-05-04T18:09:07.873409Z"
    }
   },
   "outputs": [],
   "source": [
    "# Date ranges for ICD9 codes (min and max)\n",
    "icd9_dx_dates = pd.to_datetime(dx_df[dx_df[\"ICD_TYPE\"] == 9][\"DIAGNOSIS_DATE\"])\n",
    "f\"min date: {icd9_dx_dates.min()}, max_date: {icd9_dx_dates.max()}\""
   ]
  },
  {
   "cell_type": "markdown",
   "metadata": {},
   "source": [
    "ICD9 is 2013 - 2015, outcomes are 2018-2019, so we will ignore all ICD9 codes and use HCUP to map ICD10 codes to CSSR categories to reduce the number of categories."
   ]
  },
  {
   "cell_type": "markdown",
   "metadata": {},
   "source": [
    "#### ICD10 to CSSR"
   ]
  },
  {
   "cell_type": "code",
   "execution_count": null,
   "metadata": {
    "execution": {
     "iopub.execute_input": "2021-05-04T18:10:30.261293Z",
     "iopub.status.busy": "2021-05-04T18:10:30.260711Z",
     "iopub.status.idle": "2021-05-04T18:10:31.310593Z",
     "shell.execute_reply": "2021-05-04T18:10:31.310118Z",
     "shell.execute_reply.started": "2021-05-04T18:10:30.261241Z"
    }
   },
   "outputs": [],
   "source": [
    "from hcuppy.ccs import CCSEngine\n",
    "ce = CCSEngine(mode=\"dx\")\n",
    "# convert icd10 to ccs\n",
    "ccs_dict = dx_df[dx_df[\"ICD_TYPE\"] == 10][\"ICD_CODE\"].apply(lambda icd_code: ce.get_ccs(icd_code))\n",
    "# series of dicts, explode each dict attribute to its own column\n",
    "ccs_dict = pd.DataFrame(ccs_dict.values.tolist())\n",
    "ccs_dict.columns = [\"CCS_CODE\", \"CCS_DESCRIPTION\", \"CCS_LEVEL1\", \"CCS_LEVEL1_DESCRIPTION\", \"CCS_LEVEL2\", \"CCS_LEVEL2_DESCRIPTION\"]\n",
    "\n",
    "# combine the granular icd codes with the higher level CCS ones\n",
    "dx_df = pd.concat([dx_df, ccs_dict], axis=1)\n",
    "\n",
    "dx_df.groupby(\"CCS_CODE\").size().sort_values(ascending=False)"
   ]
  },
  {
   "cell_type": "code",
   "execution_count": null,
   "metadata": {
    "execution": {
     "iopub.execute_input": "2021-04-28T20:13:14.643395Z",
     "iopub.status.busy": "2021-04-28T20:13:14.642821Z",
     "iopub.status.idle": "2021-04-28T20:13:15.024639Z",
     "shell.execute_reply": "2021-04-28T20:13:15.024169Z",
     "shell.execute_reply.started": "2021-04-28T20:13:14.643342Z"
    }
   },
   "outputs": [],
   "source": [
    "dx_df = get_time_window_mask(dx_df, \"DIAGNOSIS_DATE\")\n",
    "dx_df"
   ]
  },
  {
   "cell_type": "code",
   "execution_count": null,
   "metadata": {
    "execution": {
     "iopub.execute_input": "2021-04-28T20:31:03.643094Z",
     "iopub.status.busy": "2021-04-28T20:31:03.642512Z",
     "iopub.status.idle": "2021-04-28T20:31:11.883925Z",
     "shell.execute_reply": "2021-04-28T20:31:11.883216Z",
     "shell.execute_reply.started": "2021-04-28T20:31:03.643040Z"
    }
   },
   "outputs": [],
   "source": [
    "onehot_ccs = pd.get_dummies(dx_df[[\"IP_PATIENT_ID\", \"CCS_CODE\"]], columns=[\"CCS_CODE\"])\n",
    "onehot_ccs = onehot_ccs.groupby(\"IP_PATIENT_ID\").apply(lambda df: df.sum(axis=0))"
   ]
  },
  {
   "cell_type": "code",
   "execution_count": null,
   "metadata": {
    "execution": {
     "iopub.execute_input": "2021-04-28T20:31:49.941817Z",
     "iopub.status.busy": "2021-04-28T20:31:49.941174Z",
     "iopub.status.idle": "2021-04-28T20:31:49.974400Z",
     "shell.execute_reply": "2021-04-28T20:31:49.973581Z",
     "shell.execute_reply.started": "2021-04-28T20:31:49.941705Z"
    }
   },
   "outputs": [],
   "source": [
    "onehot_ccs = onehot_ccs.drop(\"IP_PATIENT_ID\", axis=1).reset_index()\n",
    "onehot_ccs"
   ]
  },
  {
   "cell_type": "markdown",
   "metadata": {},
   "source": [
    "### Vitals\n",
    "\n",
    "These looks a little strange right now."
   ]
  },
  {
   "cell_type": "code",
   "execution_count": null,
   "metadata": {
    "execution": {
     "iopub.execute_input": "2021-05-04T21:28:09.191522Z",
     "iopub.status.busy": "2021-05-04T21:28:09.190956Z",
     "iopub.status.idle": "2021-05-04T21:28:09.247977Z",
     "shell.execute_reply": "2021-05-04T21:28:09.246926Z",
     "shell.execute_reply.started": "2021-05-04T21:28:09.191470Z"
    }
   },
   "outputs": [],
   "source": [
    "vitals_df = read_files_and_combine([\"Flowsheet_Vitals_19-000093_10082020.txt\"])"
   ]
  },
  {
   "cell_type": "code",
   "execution_count": null,
   "metadata": {
    "execution": {
     "iopub.execute_input": "2021-05-04T21:28:09.442323Z",
     "iopub.status.busy": "2021-05-04T21:28:09.441733Z",
     "iopub.status.idle": "2021-05-04T21:28:09.617906Z",
     "shell.execute_reply": "2021-05-04T21:28:09.616849Z",
     "shell.execute_reply.started": "2021-05-04T21:28:09.442270Z"
    }
   },
   "outputs": [],
   "source": [
    "# Split BP into SBP and DBP\n",
    "vitals_df[\"VITAL_SIGN_TYPE\"].replace({\"BP\": \"SBP/DBP\"}, inplace=True)\n",
    "explode_cols = [\"VITAL_SIGN_VALUE\", \"VITAL_SIGN_TYPE\"]\n",
    "def try_split_col(col: pd.Series):\n",
    "    # Split col with \"/\" in it (only BP values and name) from explode_cols\n",
    "    try:\n",
    "        return col.str.split(\"/\").explode()\n",
    "    except:\n",
    "        return col\n",
    "\n",
    "# Ref: https://stackoverflow.com/a/57122617/1888794\n",
    "# don't explode the columsn you set index to, explode the rest via apply, reset everything to normal\n",
    "vitals_df = (vitals_df.set_index(list(vitals_df.columns.difference(explode_cols)))\n",
    "                    .apply(try_split_col)\n",
    "                    .reset_index()\n",
    "                    .reindex(vitals_df.columns, axis=1))"
   ]
  },
  {
   "cell_type": "code",
   "execution_count": null,
   "metadata": {
    "execution": {
     "iopub.execute_input": "2021-05-04T21:28:09.949692Z",
     "iopub.status.busy": "2021-05-04T21:28:09.949143Z",
     "iopub.status.idle": "2021-05-04T21:28:09.981645Z",
     "shell.execute_reply": "2021-05-04T21:28:09.980680Z",
     "shell.execute_reply.started": "2021-05-04T21:28:09.949639Z"
    }
   },
   "outputs": [],
   "source": [
    "old_size = vitals_df.shape[0]\n",
    "\n",
    "# drop duplicates for the same patient for the same vital (taken at same time indicates duplicate)\n",
    "vitals_df = vitals_df.drop_duplicates(subset=[\"IP_PATIENT_ID\", \"VITAL_SIGN_TYPE\", \"VITAL_SIGN_TAKEN_TIME\"])\n",
    "f\"Dropped {old_size - vitals_df.shape[0]} rows that were duplicates.\""
   ]
  },
  {
   "cell_type": "code",
   "execution_count": null,
   "metadata": {
    "execution": {
     "iopub.execute_input": "2021-05-04T21:28:10.951224Z",
     "iopub.status.busy": "2021-05-04T21:28:10.950675Z",
     "iopub.status.idle": "2021-05-04T21:28:12.222597Z",
     "shell.execute_reply": "2021-05-04T21:28:12.221531Z",
     "shell.execute_reply.started": "2021-05-04T21:28:10.951173Z"
    }
   },
   "outputs": [],
   "source": [
    "# these vitals are not float point numbers, we want to ignore them and then convert the vitals to float to aggregate\n",
    "ignore_vitals = [\"O2 Device\"]\n",
    "ignore_mask = ~vitals_df[\"VITAL_SIGN_TYPE\"].isin(ignore_vitals)\n",
    "vitals_df = vitals_df[ignore_mask]\n",
    "\n",
    "# filter to window\n",
    "vitals_df = get_time_window_mask(vitals_df, \"VITAL_SIGN_TAKEN_TIME\")\n",
    "\n",
    "# convert to float\n",
    "vitals_df[\"VITAL_SIGN_VALUE\"] = vitals_df[\"VITAL_SIGN_VALUE\"].astype(float)\n",
    "# Aggregate\n",
    "vitals_df = vitals_df.groupby([\"IP_PATIENT_ID\", \"VITAL_SIGN_TYPE\"]).agg({\"VITAL_SIGN_VALUE\": aggregate_functions})"
   ]
  },
  {
   "cell_type": "code",
   "execution_count": null,
   "metadata": {
    "execution": {
     "iopub.execute_input": "2021-05-04T21:28:36.719926Z",
     "iopub.status.busy": "2021-05-04T21:28:36.719377Z",
     "iopub.status.idle": "2021-05-04T21:28:36.748899Z",
     "shell.execute_reply": "2021-05-04T21:28:36.748144Z",
     "shell.execute_reply.started": "2021-05-04T21:28:36.719875Z"
    }
   },
   "outputs": [],
   "source": [
    "vitals_df"
   ]
  },
  {
   "cell_type": "code",
   "execution_count": null,
   "metadata": {
    "execution": {
     "iopub.execute_input": "2021-04-28T20:27:30.016857Z",
     "iopub.status.busy": "2021-04-28T20:27:30.016704Z",
     "iopub.status.idle": "2021-04-28T20:27:30.021632Z",
     "shell.execute_reply": "2021-04-28T20:27:30.021202Z",
     "shell.execute_reply.started": "2021-04-28T20:27:30.016842Z"
    }
   },
   "outputs": [],
   "source": [
    "vitals_df = vitals_df.unstack()\n",
    "vitals_df.columns = vitals_df.columns.map('_'.join)\n",
    "vitals_df.reset_index(inplace=True)"
   ]
  },
  {
   "cell_type": "markdown",
   "metadata": {},
   "source": [
    "### Medications"
   ]
  },
  {
   "cell_type": "code",
   "execution_count": null,
   "metadata": {
    "execution": {
     "iopub.execute_input": "2021-05-04T18:46:06.608938Z",
     "iopub.status.busy": "2021-05-04T18:46:06.608350Z",
     "iopub.status.idle": "2021-05-04T18:46:09.094473Z",
     "shell.execute_reply": "2021-05-04T18:46:09.093974Z",
     "shell.execute_reply.started": "2021-05-04T18:46:06.608882Z"
    }
   },
   "outputs": [],
   "source": [
    "rx_df = read_files_and_combine([\"Medications_19-000093_10082020.txt\"])\n",
    "rx_df"
   ]
  },
  {
   "cell_type": "code",
   "execution_count": null,
   "metadata": {
    "execution": {
     "iopub.execute_input": "2021-04-28T19:23:45.287247Z",
     "iopub.status.busy": "2021-04-28T19:23:45.286913Z",
     "iopub.status.idle": "2021-04-28T19:23:45.390941Z",
     "shell.execute_reply": "2021-04-28T19:23:45.390464Z",
     "shell.execute_reply.started": "2021-04-28T19:23:45.287214Z"
    }
   },
   "outputs": [],
   "source": [
    "rx_df.groupby(\"GENERIC_NAME\").size().sort_values(ascending=False)"
   ]
  },
  {
   "cell_type": "code",
   "execution_count": null,
   "metadata": {
    "execution": {
     "iopub.execute_input": "2021-04-28T19:23:45.391970Z",
     "iopub.status.busy": "2021-04-28T19:23:45.391810Z",
     "iopub.status.idle": "2021-04-28T19:23:47.191372Z",
     "shell.execute_reply": "2021-04-28T19:23:47.190363Z",
     "shell.execute_reply.started": "2021-04-28T19:23:45.391954Z"
    }
   },
   "outputs": [],
   "source": [
    "rx_df = get_time_window_mask(rx_df, \"ORDER_DATE\")"
   ]
  },
  {
   "cell_type": "markdown",
   "metadata": {},
   "source": [
    "### Labs"
   ]
  },
  {
   "cell_type": "code",
   "execution_count": null,
   "metadata": {
    "execution": {
     "iopub.execute_input": "2021-05-04T21:29:32.633682Z",
     "iopub.status.busy": "2021-05-04T21:29:32.633106Z",
     "iopub.status.idle": "2021-05-04T21:29:43.923508Z",
     "shell.execute_reply": "2021-05-04T21:29:43.922898Z",
     "shell.execute_reply.started": "2021-05-04T21:29:32.633628Z"
    }
   },
   "outputs": [],
   "source": [
    "labs_df = read_files_and_combine([\"Labs_19-000093_10082020.txt\"])"
   ]
  },
  {
   "cell_type": "code",
   "execution_count": null,
   "metadata": {
    "execution": {
     "iopub.execute_input": "2021-05-04T21:29:43.924794Z",
     "iopub.status.busy": "2021-05-04T21:29:43.924631Z",
     "iopub.status.idle": "2021-05-04T21:35:32.935010Z",
     "shell.execute_reply": "2021-05-04T21:35:32.933911Z",
     "shell.execute_reply.started": "2021-05-04T21:29:43.924777Z"
    }
   },
   "outputs": [],
   "source": [
    "labs_df = get_time_window_mask(labs_df, \"ORDER_TIME\")"
   ]
  },
  {
   "cell_type": "code",
   "execution_count": null,
   "metadata": {
    "execution": {
     "iopub.execute_input": "2021-05-04T21:35:32.936371Z",
     "iopub.status.busy": "2021-05-04T21:35:32.936206Z",
     "iopub.status.idle": "2021-05-04T21:35:34.264184Z",
     "shell.execute_reply": "2021-05-04T21:35:34.263097Z",
     "shell.execute_reply.started": "2021-05-04T21:35:32.936355Z"
    }
   },
   "outputs": [],
   "source": [
    "# Force numeric, ignore strings\n",
    "labs_df[\"RESULTS\"] = pd.to_numeric(labs_df[\"RESULTS\"], errors='coerce')"
   ]
  },
  {
   "cell_type": "code",
   "execution_count": null,
   "metadata": {
    "execution": {
     "iopub.execute_input": "2021-05-05T00:28:09.104736Z",
     "iopub.status.busy": "2021-05-05T00:28:09.104154Z",
     "iopub.status.idle": "2021-05-05T00:28:18.914720Z",
     "shell.execute_reply": "2021-05-05T00:28:18.913508Z",
     "shell.execute_reply.started": "2021-05-05T00:28:09.104681Z"
    }
   },
   "outputs": [],
   "source": [
    "labs_df = labs_df.groupby([\"IP_PATIENT_ID\", \"DESCRIPTION\"]).agg({\"RESULTS\": aggregate_functions})"
   ]
  },
  {
   "cell_type": "code",
   "execution_count": null,
   "metadata": {
    "execution": {
     "iopub.execute_input": "2021-05-05T00:29:03.841357Z",
     "iopub.status.busy": "2021-05-05T00:29:03.840774Z",
     "iopub.status.idle": "2021-05-05T00:29:03.897039Z",
     "shell.execute_reply": "2021-05-05T00:29:03.896365Z",
     "shell.execute_reply.started": "2021-05-05T00:29:03.841301Z"
    }
   },
   "outputs": [],
   "source": [
    "labs_df = labs_df.unstack()\n",
    "labs_df.columns = labs_df.columns.map('_'.join)\n",
    "labs_df.reset_index(inplace=True)\n",
    "labs_df"
   ]
  },
  {
   "cell_type": "markdown",
   "metadata": {},
   "source": [
    "### Problems"
   ]
  },
  {
   "cell_type": "code",
   "execution_count": null,
   "metadata": {
    "execution": {
     "iopub.execute_input": "2021-05-04T19:00:55.607725Z",
     "iopub.status.busy": "2021-05-04T19:00:55.607144Z",
     "iopub.status.idle": "2021-05-04T19:00:55.840124Z",
     "shell.execute_reply": "2021-05-04T19:00:55.839432Z",
     "shell.execute_reply.started": "2021-05-04T19:00:55.607670Z"
    }
   },
   "outputs": [],
   "source": [
    "problems_df = read_files_and_combine([\"Problem_Lists_19-000093_10082020.txt\"])\n",
    "problem_list_df = read_files_and_combine([\"problem_list_diagnoses_19-000093_10082020.txt\"])"
   ]
  },
  {
   "cell_type": "code",
   "execution_count": null,
   "metadata": {
    "execution": {
     "iopub.execute_input": "2021-05-04T19:00:56.214646Z",
     "iopub.status.busy": "2021-05-04T19:00:56.214066Z",
     "iopub.status.idle": "2021-05-04T19:00:56.307462Z",
     "shell.execute_reply": "2021-05-04T19:00:56.306865Z",
     "shell.execute_reply.started": "2021-05-04T19:00:56.214590Z"
    }
   },
   "outputs": [],
   "source": [
    "problems_df = problem_list_df.merge(problems_df, on=[\"ip_patient_id\", \"ip_encounter_id\"])"
   ]
  },
  {
   "cell_type": "code",
   "execution_count": null,
   "metadata": {
    "execution": {
     "iopub.execute_input": "2021-05-04T19:00:56.858731Z",
     "iopub.status.busy": "2021-05-04T19:00:56.858144Z",
     "iopub.status.idle": "2021-05-04T19:00:57.047736Z",
     "shell.execute_reply": "2021-05-04T19:00:57.047208Z",
     "shell.execute_reply.started": "2021-05-04T19:00:56.858678Z"
    }
   },
   "outputs": [],
   "source": [
    "problems_df.columns = [col.upper() for col in problems_df.columns]\n",
    "problems_df = get_time_window_mask(problems_df, \"NOTED_DATE\")"
   ]
  },
  {
   "cell_type": "code",
   "execution_count": null,
   "metadata": {
    "execution": {
     "iopub.execute_input": "2021-05-04T19:00:57.509644Z",
     "iopub.status.busy": "2021-05-04T19:00:57.509123Z",
     "iopub.status.idle": "2021-05-04T19:00:57.529298Z",
     "shell.execute_reply": "2021-05-04T19:00:57.528424Z",
     "shell.execute_reply.started": "2021-05-04T19:00:57.509594Z"
    }
   },
   "outputs": [],
   "source": [
    "problems_df.groupby(\"PROBLEM_STATUS\").size()"
   ]
  },
  {
   "cell_type": "markdown",
   "metadata": {},
   "source": [
    "ICD9 is 2013 - 2015, outcomes are 2018-2019, so we will ignore all ICD9 codes and use HCUP to map ICD10 codes to CSSR categories to reduce the number of categories."
   ]
  },
  {
   "cell_type": "code",
   "execution_count": null,
   "metadata": {
    "execution": {
     "iopub.execute_input": "2021-05-04T19:00:59.495785Z",
     "iopub.status.busy": "2021-05-04T19:00:59.495265Z",
     "iopub.status.idle": "2021-05-04T19:00:59.960011Z",
     "shell.execute_reply": "2021-05-04T19:00:59.959537Z",
     "shell.execute_reply.started": "2021-05-04T19:00:59.495736Z"
    }
   },
   "outputs": [],
   "source": [
    "from hcuppy.ccs import CCSEngine\n",
    "ce = CCSEngine(mode=\"dx\")\n",
    "# convert icd10 to ccs\n",
    "ccs_dict = problems_df[(problems_df[\"PROBLEM_STATUS\"] == \"Active\") & (problems_df[\"ICD_TYPE\"] == 10)][\"ICD_CODE\"].apply(lambda icd_code: ce.get_ccs(icd_code))\n",
    "# series of dicts, explode each dict attribute to its own column\n",
    "ccs_dict = pd.DataFrame(ccs_dict.values.tolist())\n",
    "ccs_dict.columns = [\"CCS_CODE\", \"CCS_DESCRIPTION\", \"CCS_LEVEL1\", \"CCS_LEVEL1_DESCRIPTION\", \"CCS_LEVEL2\", \"CCS_LEVEL2_DESCRIPTION\"]\n",
    "\n",
    "# combine the granular icd codes with the higher level CCS ones\n",
    "problems_df = pd.concat([problems_df, ccs_dict], axis=1)\n",
    "\n",
    "problems_df.groupby(\"CCS_CODE\").size().sort_values(ascending=False)"
   ]
  },
  {
   "cell_type": "code",
   "execution_count": null,
   "metadata": {
    "execution": {
     "iopub.execute_input": "2021-05-04T19:01:03.813510Z",
     "iopub.status.busy": "2021-05-04T19:01:03.812918Z",
     "iopub.status.idle": "2021-05-04T19:01:09.019933Z",
     "shell.execute_reply": "2021-05-04T19:01:09.019230Z",
     "shell.execute_reply.started": "2021-05-04T19:01:03.813453Z"
    }
   },
   "outputs": [],
   "source": [
    "onehot_problems = pd.get_dummies(problems_df[[\"IP_PATIENT_ID\", \"CCS_CODE\"]], columns=[\"CCS_CODE\"])\n",
    "onehot_problems = onehot_problems.groupby(\"IP_PATIENT_ID\").apply(lambda df: df.sum(axis=0))"
   ]
  },
  {
   "cell_type": "code",
   "execution_count": null,
   "metadata": {
    "execution": {
     "iopub.execute_input": "2021-05-04T19:01:09.021052Z",
     "iopub.status.busy": "2021-05-04T19:01:09.020896Z",
     "iopub.status.idle": "2021-05-04T19:01:09.046403Z",
     "shell.execute_reply": "2021-05-04T19:01:09.045959Z",
     "shell.execute_reply.started": "2021-05-04T19:01:09.021037Z"
    }
   },
   "outputs": [],
   "source": [
    "onehot_problems = onehot_problems.drop(\"IP_PATIENT_ID\", axis=1).reset_index()\n",
    "onehot_problems"
   ]
  },
  {
   "cell_type": "markdown",
   "metadata": {},
   "source": [
    "### Procedures"
   ]
  },
  {
   "cell_type": "code",
   "execution_count": null,
   "metadata": {
    "execution": {
     "iopub.execute_input": "2021-05-04T18:12:33.001428Z",
     "iopub.status.busy": "2021-05-04T18:12:33.000850Z",
     "iopub.status.idle": "2021-05-04T18:12:33.752998Z",
     "shell.execute_reply": "2021-05-04T18:12:33.752451Z",
     "shell.execute_reply.started": "2021-05-04T18:12:33.001374Z"
    }
   },
   "outputs": [],
   "source": [
    "procedure_df = read_files_and_combine([\"Procedures_19-000093_10082020.txt\"])"
   ]
  },
  {
   "cell_type": "code",
   "execution_count": null,
   "metadata": {
    "execution": {
     "iopub.execute_input": "2021-05-04T18:12:33.754010Z",
     "iopub.status.busy": "2021-05-04T18:12:33.753841Z",
     "iopub.status.idle": "2021-05-04T18:12:33.816852Z",
     "shell.execute_reply": "2021-05-04T18:12:33.816376Z",
     "shell.execute_reply.started": "2021-05-04T18:12:33.753993Z"
    }
   },
   "outputs": [],
   "source": [
    "grouped_proc = procedure_df.groupby(\"PROC_CODE\").size().sort_values(ascending=False)\n",
    "grouped_proc"
   ]
  },
  {
   "cell_type": "code",
   "execution_count": null,
   "metadata": {
    "execution": {
     "iopub.execute_input": "2021-05-04T18:12:33.817843Z",
     "iopub.status.busy": "2021-05-04T18:12:33.817656Z",
     "iopub.status.idle": "2021-05-04T18:12:33.821676Z",
     "shell.execute_reply": "2021-05-04T18:12:33.821253Z",
     "shell.execute_reply.started": "2021-05-04T18:12:33.817827Z"
    }
   },
   "outputs": [],
   "source": [
    "sum(grouped_proc == 1)"
   ]
  },
  {
   "cell_type": "code",
   "execution_count": null,
   "metadata": {
    "execution": {
     "iopub.execute_input": "2021-05-04T18:12:33.938331Z",
     "iopub.status.busy": "2021-05-04T18:12:33.938068Z",
     "iopub.status.idle": "2021-05-04T18:12:35.158845Z",
     "shell.execute_reply": "2021-05-04T18:12:35.158266Z",
     "shell.execute_reply.started": "2021-05-04T18:12:33.938305Z"
    }
   },
   "outputs": [],
   "source": [
    "from hcuppy.cpt import CPT\n",
    "cpt = CPT()\n",
    "\n",
    "# Get section and description\n",
    "cpt_dict = procedure_df[\"PROC_CODE\"].apply(lambda cpt_code: cpt.get_cpt_section(cpt_code))\n",
    "# series of dicts, explode each dict into its own column\n",
    "cpt_dict = pd.DataFrame(cpt_dict.values.tolist())\n",
    "cpt_dict.columns = [\"CPT_SECTION\", \"SECTION_DESCRIPTION\"]\n",
    "\n",
    "# combine the granular procedure cpt codes with the higher level ones from hcuppy\n",
    "procedure_df = pd.concat([procedure_df, cpt_dict], axis=1)"
   ]
  },
  {
   "cell_type": "code",
   "execution_count": null,
   "metadata": {
    "execution": {
     "iopub.execute_input": "2021-05-04T18:12:51.293931Z",
     "iopub.status.busy": "2021-05-04T18:12:51.293284Z",
     "iopub.status.idle": "2021-05-04T18:12:51.366469Z",
     "shell.execute_reply": "2021-05-04T18:12:51.365813Z",
     "shell.execute_reply.started": "2021-05-04T18:12:51.293874Z"
    }
   },
   "outputs": [],
   "source": [
    "procedure_df.groupby(\"CPT_SECTION\").size().sort_values(ascending=False)"
   ]
  },
  {
   "cell_type": "code",
   "execution_count": null,
   "metadata": {
    "execution": {
     "iopub.execute_input": "2021-05-04T18:13:04.120673Z",
     "iopub.status.busy": "2021-05-04T18:13:04.120093Z",
     "iopub.status.idle": "2021-05-04T18:13:04.709016Z",
     "shell.execute_reply": "2021-05-04T18:13:04.708489Z",
     "shell.execute_reply.started": "2021-05-04T18:13:04.120620Z"
    }
   },
   "outputs": [],
   "source": [
    "procedure_df = get_time_window_mask(procedure_df, \"PROC_DATE\")"
   ]
  },
  {
   "cell_type": "code",
   "execution_count": null,
   "metadata": {
    "execution": {
     "iopub.execute_input": "2021-05-04T18:13:07.498674Z",
     "iopub.status.busy": "2021-05-04T18:13:07.498084Z",
     "iopub.status.idle": "2021-05-04T18:13:09.295777Z",
     "shell.execute_reply": "2021-05-04T18:13:09.295240Z",
     "shell.execute_reply.started": "2021-05-04T18:13:07.498620Z"
    }
   },
   "outputs": [],
   "source": [
    "onehot_proc = pd.get_dummies(procedure_df[[\"IP_PATIENT_ID\", \"CPT_SECTION\"]], columns=[\"CPT_SECTION\"])\n",
    "onehot_proc = onehot_proc.groupby(\"IP_PATIENT_ID\").apply(lambda df: df.sum(axis=0))"
   ]
  },
  {
   "cell_type": "code",
   "execution_count": null,
   "metadata": {
    "execution": {
     "iopub.execute_input": "2021-05-04T18:13:09.296906Z",
     "iopub.status.busy": "2021-05-04T18:13:09.296741Z",
     "iopub.status.idle": "2021-05-04T18:13:09.312720Z",
     "shell.execute_reply": "2021-05-04T18:13:09.312296Z",
     "shell.execute_reply.started": "2021-05-04T18:13:09.296889Z"
    }
   },
   "outputs": [],
   "source": [
    "onehot_proc = onehot_proc.drop(\"IP_PATIENT_ID\", axis=1).reset_index()\n",
    "onehot_proc"
   ]
  },
  {
   "cell_type": "markdown",
   "metadata": {},
   "source": [
    "# Merge features with outcome"
   ]
  },
  {
   "cell_type": "code",
   "execution_count": null,
   "metadata": {
    "execution": {
     "iopub.execute_input": "2021-04-28T19:01:48.806616Z",
     "iopub.status.busy": "2021-04-28T19:01:48.806033Z",
     "iopub.status.idle": "2021-04-28T19:01:48.846193Z",
     "shell.execute_reply": "2021-04-28T19:01:48.844692Z",
     "shell.execute_reply.started": "2021-04-28T19:01:48.806566Z"
    }
   },
   "outputs": [],
   "source": [
    "longitudinal_dfs = [onehot_ccs, vitals_df, rx_df, labs_df, problems_df, procedures_df]\n",
    "features_with_outcomes = reduce(lambda df1, df2: pd.merge(df1, df2, on=\"IP_PATIENT_ID\", how=\"inner\"),\n",
    "                                longitudinal_dfs + [static_df, outcome_df])\n",
    "features_with_outcomes"
   ]
  },
  {
   "cell_type": "code",
   "execution_count": null,
   "metadata": {},
   "outputs": [],
   "source": []
  },
  {
   "cell_type": "code",
   "execution_count": null,
   "metadata": {},
   "outputs": [],
   "source": []
  },
  {
   "cell_type": "code",
   "execution_count": null,
   "metadata": {},
   "outputs": [],
   "source": []
  },
  {
   "cell_type": "raw",
   "metadata": {
    "execution": {
     "iopub.execute_input": "2021-04-28T20:31:55.196408Z",
     "iopub.status.busy": "2021-04-28T20:31:55.195824Z",
     "iopub.status.idle": "2021-04-28T20:31:55.275012Z",
     "shell.execute_reply": "2021-04-28T20:31:55.274273Z",
     "shell.execute_reply.started": "2021-04-28T20:31:55.196352Z"
    }
   },
   "source": [
    "# Quick expoert\n",
    "# dx_vitals = pd.merge(dx_df, vitals_df, on=[\"IP_PATIENT_ID\", \"IP_ENCOUNTER_ID\"], how=\"inner\")\n",
    "dx_vitals = pd.merge(onehot_ccs, vitals_df, on=[\"IP_PATIENT_ID\"], how=\"inner\")\n",
    "dx_vitals.to_csv(\"~/Private/dx_vitals.csv\")"
   ]
  },
  {
   "cell_type": "code",
   "execution_count": null,
   "metadata": {
    "execution": {
     "iopub.execute_input": "2021-04-28T20:32:01.797942Z",
     "iopub.status.busy": "2021-04-28T20:32:01.797336Z",
     "iopub.status.idle": "2021-04-28T20:32:01.832317Z",
     "shell.execute_reply": "2021-04-28T20:32:01.831649Z",
     "shell.execute_reply.started": "2021-04-28T20:32:01.797886Z"
    }
   },
   "outputs": [],
   "source": [
    "dx_vitals"
   ]
  },
  {
   "cell_type": "code",
   "execution_count": null,
   "metadata": {},
   "outputs": [],
   "source": []
  }
 ],
 "metadata": {
  "kernelspec": {
   "display_name": "crrt",
   "language": "python",
   "name": "crrt"
  },
  "language_info": {
   "codemirror_mode": {
    "name": "ipython",
    "version": 3
   },
   "file_extension": ".py",
   "mimetype": "text/x-python",
   "name": "python",
   "nbconvert_exporter": "python",
   "pygments_lexer": "ipython3",
   "version": "3.7.9"
  }
 },
 "nbformat": 4,
 "nbformat_minor": 4
}
