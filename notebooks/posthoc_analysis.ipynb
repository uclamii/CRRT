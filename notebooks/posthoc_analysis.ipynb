{
 "cells": [
  {
   "cell_type": "code",
   "execution_count": 1,
   "metadata": {},
   "outputs": [
    {
     "name": "stderr",
     "output_type": "stream",
     "text": [
      "/home/davina/mambaforge/envs/crrt/lib/python3.9/site-packages/tqdm/auto.py:22: TqdmWarning: IProgress not found. Please update jupyter and ipywidgets. See https://ipywidgets.readthedocs.io/en/stable/user_install.html\n",
      "  from .autonotebook import tqdm as notebook_tqdm\n"
     ]
    }
   ],
   "source": [
    "from os import getcwd\n",
    "from os.path import join\n",
    "import sys\n",
    "sys.path.insert(0, join(getcwd(), \"../module_code\"))\n",
    "\n",
    "import pandas as pd\n",
    "from mlflow.tracking import MlflowClient\n",
    "\n",
    "from models.static_models import CRRTStaticPredictor\n",
    "from data.sklearn_loaders import SklearnCRRTDataModule\n",
    "from main import get_mlflow_model_uri\n",
    "from cli_utils import init_cli_args, load_cli_args\n",
    "from data.argparse_utils import string_list_to_list, string_dict_to_dict\n",
    "from data.subpopulation_utils import generate_filters, combine_filters"
   ]
  },
  {
   "cell_type": "code",
   "execution_count": 2,
   "metadata": {},
   "outputs": [
    {
     "name": "stderr",
     "output_type": "stream",
     "text": [
      "`use_label_encoder` is deprecated in 1.7.0.\n"
     ]
    }
   ],
   "source": [
    "client = MlflowClient(\"/home/davina/Private/repos/CRRT/mlruns/\")\n",
    "run_id = \"862e58e4cbf642bfa316ef028323f6a2\"\n",
    "run = client.get_run(run_id)\n",
    "logged_args = run.data.tags\n",
    "\n",
    "sys.argv = [sys.argv[0]]\n",
    "load_cli_args(\"../options.yml\")\n",
    "for k,v in logged_args.items():\n",
    "    if v != \"None\" and f\"--{k}\" not in sys.argv:\n",
    "        sys.argv += [f\"--{k}\", v]\n",
    "args = init_cli_args()\n",
    "\n",
    "path = get_mlflow_model_uri(run)\n",
    "\n",
    "model = CRRTStaticPredictor.load(args, path)\n",
    "data = SklearnCRRTDataModule.from_argparse_args(args)\n",
    "data.setup(args)"
   ]
  },
  {
   "cell_type": "code",
   "execution_count": 14,
   "metadata": {},
   "outputs": [
    {
     "data": {
      "text/plain": [
       "Namespace(seed=42, experiment='static_learning', data_dir=None, ucla_crrt_data_dir='/home/davina/Private/crrt-data/UCLA/', ucla_control_data_dir='/home/davina/Private/crrt-data/UCLA/controls/', cedars_crrt_data_dir=None, preprocessed_df_file=None, serialization='parquet', controls_window_size=None, patient_age='adult', stage=None, best_model_path=None, time_interval=None, pre_start_delta={'YEARS': 0, 'MONTHS': 0, 'DAYS': 7}, post_start_delta=None, time_window_end='Start Date', slide_window_by=None, max_days_on_crrt=None, min_days_on_crrt=0, experiment_tracking=True, local_log_path='/home/davina/Private/repos/CRRT', run_name='fix-graphs', runtest=True, tune_n_trials=None, tune_metric='auroc', tune_direction='maximize', model_type='static', outcome_col_name='recommend_crrt', test_split_size=0.2, val_split_size=0.25, kbest=None, corr_thresh=None, impute_method='simple', train_val_cohort='ucla_crrt', eval_cohort='ucla_crrt', modeln='xgb', model_kwargs={}, metric_names=['ap', 'brier', 'accuracy', 'precision', 'recall', 'auroc', 'TP', 'TN', 'FP', 'FN'], curve_names=['calibration_curve', 'roc_curve', 'pr_curve'], plot_names=['shap_explain', 'feature_importance'], top_k_feature_importance=10)"
      ]
     },
     "execution_count": 14,
     "metadata": {},
     "output_type": "execute_result"
    }
   ],
   "source": [
    "args"
   ]
  },
  {
   "cell_type": "code",
   "execution_count": 13,
   "metadata": {},
   "outputs": [
    {
     "data": {
      "text/html": [
       "<style>#sk-container-id-3 {color: black;background-color: white;}#sk-container-id-3 pre{padding: 0;}#sk-container-id-3 div.sk-toggleable {background-color: white;}#sk-container-id-3 label.sk-toggleable__label {cursor: pointer;display: block;width: 100%;margin-bottom: 0;padding: 0.3em;box-sizing: border-box;text-align: center;}#sk-container-id-3 label.sk-toggleable__label-arrow:before {content: \"▸\";float: left;margin-right: 0.25em;color: #696969;}#sk-container-id-3 label.sk-toggleable__label-arrow:hover:before {color: black;}#sk-container-id-3 div.sk-estimator:hover label.sk-toggleable__label-arrow:before {color: black;}#sk-container-id-3 div.sk-toggleable__content {max-height: 0;max-width: 0;overflow: hidden;text-align: left;background-color: #f0f8ff;}#sk-container-id-3 div.sk-toggleable__content pre {margin: 0.2em;color: black;border-radius: 0.25em;background-color: #f0f8ff;}#sk-container-id-3 input.sk-toggleable__control:checked~div.sk-toggleable__content {max-height: 200px;max-width: 100%;overflow: auto;}#sk-container-id-3 input.sk-toggleable__control:checked~label.sk-toggleable__label-arrow:before {content: \"▾\";}#sk-container-id-3 div.sk-estimator input.sk-toggleable__control:checked~label.sk-toggleable__label {background-color: #d4ebff;}#sk-container-id-3 div.sk-label input.sk-toggleable__control:checked~label.sk-toggleable__label {background-color: #d4ebff;}#sk-container-id-3 input.sk-hidden--visually {border: 0;clip: rect(1px 1px 1px 1px);clip: rect(1px, 1px, 1px, 1px);height: 1px;margin: -1px;overflow: hidden;padding: 0;position: absolute;width: 1px;}#sk-container-id-3 div.sk-estimator {font-family: monospace;background-color: #f0f8ff;border: 1px dotted black;border-radius: 0.25em;box-sizing: border-box;margin-bottom: 0.5em;}#sk-container-id-3 div.sk-estimator:hover {background-color: #d4ebff;}#sk-container-id-3 div.sk-parallel-item::after {content: \"\";width: 100%;border-bottom: 1px solid gray;flex-grow: 1;}#sk-container-id-3 div.sk-label:hover label.sk-toggleable__label {background-color: #d4ebff;}#sk-container-id-3 div.sk-serial::before {content: \"\";position: absolute;border-left: 1px solid gray;box-sizing: border-box;top: 0;bottom: 0;left: 50%;z-index: 0;}#sk-container-id-3 div.sk-serial {display: flex;flex-direction: column;align-items: center;background-color: white;padding-right: 0.2em;padding-left: 0.2em;position: relative;}#sk-container-id-3 div.sk-item {position: relative;z-index: 1;}#sk-container-id-3 div.sk-parallel {display: flex;align-items: stretch;justify-content: center;background-color: white;position: relative;}#sk-container-id-3 div.sk-item::before, #sk-container-id-3 div.sk-parallel-item::before {content: \"\";position: absolute;border-left: 1px solid gray;box-sizing: border-box;top: 0;bottom: 0;left: 50%;z-index: -1;}#sk-container-id-3 div.sk-parallel-item {display: flex;flex-direction: column;z-index: 1;position: relative;background-color: white;}#sk-container-id-3 div.sk-parallel-item:first-child::after {align-self: flex-end;width: 50%;}#sk-container-id-3 div.sk-parallel-item:last-child::after {align-self: flex-start;width: 50%;}#sk-container-id-3 div.sk-parallel-item:only-child::after {width: 0;}#sk-container-id-3 div.sk-dashed-wrapped {border: 1px dashed gray;margin: 0 0.4em 0.5em 0.4em;box-sizing: border-box;padding-bottom: 0.4em;background-color: white;}#sk-container-id-3 div.sk-label label {font-family: monospace;font-weight: bold;display: inline-block;line-height: 1.2em;}#sk-container-id-3 div.sk-label-container {text-align: center;}#sk-container-id-3 div.sk-container {/* jupyter's `normalize.less` sets `[hidden] { display: none; }` but bootstrap.min.css set `[hidden] { display: none !important; }` so we also need the `!important` here to be able to override the default hidden behavior on the sphinx rendered scikit-learn.org. See: https://github.com/scikit-learn/scikit-learn/issues/21755 */display: inline-block !important;position: relative;}#sk-container-id-3 div.sk-text-repr-fallback {display: none;}</style><div id=\"sk-container-id-3\" class=\"sk-top-container\"><div class=\"sk-text-repr-fallback\"><pre>XGBClassifier(base_score=0.5, booster=&#x27;gbtree&#x27;, callbacks=None,\n",
       "              colsample_bylevel=1, colsample_bynode=1, colsample_bytree=1,\n",
       "              early_stopping_rounds=None, enable_categorical=False,\n",
       "              eval_metric=None, feature_types=None, gamma=0, gpu_id=-1,\n",
       "              grow_policy=&#x27;depthwise&#x27;, importance_type=None,\n",
       "              interaction_constraints=&#x27;&#x27;, learning_rate=0.300000012,\n",
       "              max_bin=256, max_cat_threshold=64, max_cat_to_onehot=4,\n",
       "              max_delta_step=0, max_depth=6, max_leaves=0, min_child_weight=1,\n",
       "              missing=nan, monotone_constraints=&#x27;()&#x27;, n_estimators=100,\n",
       "              n_jobs=0, num_parallel_tree=1, predictor=&#x27;auto&#x27;, random_state=42, ...)</pre><b>In a Jupyter environment, please rerun this cell to show the HTML representation or trust the notebook. <br />On GitHub, the HTML representation is unable to render, please try loading this page with nbviewer.org.</b></div><div class=\"sk-container\" hidden><div class=\"sk-item\"><div class=\"sk-estimator sk-toggleable\"><input class=\"sk-toggleable__control sk-hidden--visually\" id=\"sk-estimator-id-3\" type=\"checkbox\" checked><label for=\"sk-estimator-id-3\" class=\"sk-toggleable__label sk-toggleable__label-arrow\">XGBClassifier</label><div class=\"sk-toggleable__content\"><pre>XGBClassifier(base_score=0.5, booster=&#x27;gbtree&#x27;, callbacks=None,\n",
       "              colsample_bylevel=1, colsample_bynode=1, colsample_bytree=1,\n",
       "              early_stopping_rounds=None, enable_categorical=False,\n",
       "              eval_metric=None, feature_types=None, gamma=0, gpu_id=-1,\n",
       "              grow_policy=&#x27;depthwise&#x27;, importance_type=None,\n",
       "              interaction_constraints=&#x27;&#x27;, learning_rate=0.300000012,\n",
       "              max_bin=256, max_cat_threshold=64, max_cat_to_onehot=4,\n",
       "              max_delta_step=0, max_depth=6, max_leaves=0, min_child_weight=1,\n",
       "              missing=nan, monotone_constraints=&#x27;()&#x27;, n_estimators=100,\n",
       "              n_jobs=0, num_parallel_tree=1, predictor=&#x27;auto&#x27;, random_state=42, ...)</pre></div></div></div></div></div>"
      ],
      "text/plain": [
       "XGBClassifier(base_score=0.5, booster='gbtree', callbacks=None,\n",
       "              colsample_bylevel=1, colsample_bynode=1, colsample_bytree=1,\n",
       "              early_stopping_rounds=None, enable_categorical=False,\n",
       "              eval_metric=None, feature_types=None, gamma=0, gpu_id=-1,\n",
       "              grow_policy='depthwise', importance_type=None,\n",
       "              interaction_constraints='', learning_rate=0.300000012,\n",
       "              max_bin=256, max_cat_threshold=64, max_cat_to_onehot=4,\n",
       "              max_delta_step=0, max_depth=6, max_leaves=0, min_child_weight=1,\n",
       "              missing=nan, monotone_constraints='()', n_estimators=100,\n",
       "              n_jobs=0, num_parallel_tree=1, predictor='auto', random_state=42, ...)"
      ]
     },
     "execution_count": 13,
     "metadata": {},
     "output_type": "execute_result"
    }
   ],
   "source": [
    "model.static_model.model"
   ]
  },
  {
   "cell_type": "code",
   "execution_count": 8,
   "metadata": {},
   "outputs": [
    {
     "data": {
      "text/plain": [
       "'/home/davina/Private/repos/CRRT/mlruns/513043940915865610/cdcbd1d31e104b448da2f3020aaae4e8/artifacts/static_model'"
      ]
     },
     "execution_count": 8,
     "metadata": {},
     "output_type": "execute_result"
    }
   ],
   "source": [
    "path"
   ]
  },
  {
   "cell_type": "code",
   "execution_count": 9,
   "metadata": {},
   "outputs": [
    {
     "data": {
      "text/plain": [
       "Index(['dx_CCS_CODE_1', 'dx_CCS_CODE_10', 'dx_CCS_CODE_100', 'dx_CCS_CODE_101',\n",
       "       'dx_CCS_CODE_102', 'dx_CCS_CODE_103', 'dx_CCS_CODE_104',\n",
       "       'dx_CCS_CODE_105', 'dx_CCS_CODE_106', 'dx_CCS_CODE_107',\n",
       "       ...\n",
       "       'RACE_Black or African American', 'RACE_Multiple Races',\n",
       "       'RACE_Native Hawaiian or Other Pacific Islander', 'RACE_Other',\n",
       "       'RACE_Patient Refused', 'RACE_Unknown', 'RACE_White or Caucasian',\n",
       "       'liver_pt_indicator', 'heart_pt_indicator', 'infection_pt_indicator'],\n",
       "      dtype='object', length=11178)"
      ]
     },
     "execution_count": 9,
     "metadata": {},
     "output_type": "execute_result"
    }
   ],
   "source": [
    "data.columns"
   ]
  },
  {
   "cell_type": "code",
   "execution_count": 7,
   "metadata": {},
   "outputs": [
    {
     "data": {
      "text/plain": [
       "(2219, 11178)"
      ]
     },
     "execution_count": 7,
     "metadata": {},
     "output_type": "execute_result"
    }
   ],
   "source": [
    "data.train[0].shape"
   ]
  },
  {
   "cell_type": "code",
   "execution_count": 3,
   "metadata": {},
   "outputs": [],
   "source": [
    "filters = generate_filters()\n",
    "dz_sex = combine_filters(filters[\"disease_indicator\"], filters[\"sex\"])"
   ]
  },
  {
   "cell_type": "code",
   "execution_count": 4,
   "metadata": {},
   "outputs": [
    {
     "ename": "ValueError",
     "evalue": "Feature shape mismatch, expected: 13072, got 11178",
     "output_type": "error",
     "traceback": [
      "\u001b[0;31m---------------------------------------------------------------------------\u001b[0m",
      "\u001b[0;31mValueError\u001b[0m                                Traceback (most recent call last)",
      "Cell \u001b[0;32mIn[4], line 5\u001b[0m\n\u001b[1;32m      3\u001b[0m masks \u001b[39m=\u001b[39m {k: data\u001b[39m.\u001b[39mget_filter(X, \u001b[39m*\u001b[39margs) \u001b[39mfor\u001b[39;00m k, args \u001b[39min\u001b[39;00m dz_sex\u001b[39m.\u001b[39mitems()}\n\u001b[1;32m      4\u001b[0m data\u001b[39m.\u001b[39mtest_filters \u001b[39m=\u001b[39m masks\n\u001b[0;32m----> 5\u001b[0m model\u001b[39m.\u001b[39;49mevaluate(data, \u001b[39m\"\u001b[39;49m\u001b[39mtest\u001b[39;49m\u001b[39m\"\u001b[39;49m)\n",
      "File \u001b[0;32m~/Private/repos/CRRT/notebooks/../module_code/models/static_models.py:416\u001b[0m, in \u001b[0;36mCRRTStaticPredictor.evaluate\u001b[0;34m(self, data, stage)\u001b[0m\n\u001b[1;32m    413\u001b[0m categorical_columns \u001b[39m=\u001b[39m data\u001b[39m.\u001b[39mcategorical_columns\u001b[39m.\u001b[39mintersection(columns)\n\u001b[1;32m    415\u001b[0m X \u001b[39m=\u001b[39m pd\u001b[39m.\u001b[39mDataFrame(X, columns\u001b[39m=\u001b[39mcolumns)\n\u001b[0;32m--> 416\u001b[0m pred_probas \u001b[39m=\u001b[39m pd\u001b[39m.\u001b[39mSeries(\u001b[39mself\u001b[39;49m\u001b[39m.\u001b[39;49mpredict_proba(X\u001b[39m.\u001b[39;49mvalues)[:, \u001b[39m1\u001b[39m], index\u001b[39m=\u001b[39my\u001b[39m.\u001b[39mindex)\n\u001b[1;32m    417\u001b[0m preds \u001b[39m=\u001b[39m pd\u001b[39m.\u001b[39mSeries(\u001b[39mself\u001b[39m\u001b[39m.\u001b[39mpredict(X\u001b[39m.\u001b[39mvalues), index\u001b[39m=\u001b[39my\u001b[39m.\u001b[39mindex)\n\u001b[1;32m    418\u001b[0m \u001b[39m# np.save(predict_probas_file, predict_proba)\u001b[39;00m\n\u001b[1;32m    419\u001b[0m \n\u001b[1;32m    420\u001b[0m \u001b[39m## Evaluate on split of dataset (train, val, test) ##\u001b[39;00m\n",
      "File \u001b[0;32m~/Private/repos/CRRT/notebooks/../module_code/models/static_models.py:390\u001b[0m, in \u001b[0;36mCRRTStaticPredictor.predict_proba\u001b[0;34m(self, X)\u001b[0m\n\u001b[1;32m    389\u001b[0m \u001b[39mdef\u001b[39;00m \u001b[39mpredict_proba\u001b[39m(\u001b[39mself\u001b[39m, X: Union[np\u001b[39m.\u001b[39mndarray, pd\u001b[39m.\u001b[39mDataFrame]) \u001b[39m-\u001b[39m\u001b[39m>\u001b[39m np\u001b[39m.\u001b[39mndarray:\n\u001b[0;32m--> 390\u001b[0m     \u001b[39mreturn\u001b[39;00m \u001b[39mself\u001b[39;49m\u001b[39m.\u001b[39;49mstatic_model\u001b[39m.\u001b[39;49mmodel\u001b[39m.\u001b[39;49mpredict_proba(X)\n",
      "File \u001b[0;32m~/mambaforge/envs/crrt/lib/python3.9/site-packages/xgboost/sklearn.py:1632\u001b[0m, in \u001b[0;36mXGBClassifier.predict_proba\u001b[0;34m(self, X, ntree_limit, validate_features, base_margin, iteration_range)\u001b[0m\n\u001b[1;32m   1630\u001b[0m     class_prob \u001b[39m=\u001b[39m softmax(raw_predt, axis\u001b[39m=\u001b[39m\u001b[39m1\u001b[39m)\n\u001b[1;32m   1631\u001b[0m     \u001b[39mreturn\u001b[39;00m class_prob\n\u001b[0;32m-> 1632\u001b[0m class_probs \u001b[39m=\u001b[39m \u001b[39msuper\u001b[39;49m()\u001b[39m.\u001b[39;49mpredict(\n\u001b[1;32m   1633\u001b[0m     X\u001b[39m=\u001b[39;49mX,\n\u001b[1;32m   1634\u001b[0m     ntree_limit\u001b[39m=\u001b[39;49mntree_limit,\n\u001b[1;32m   1635\u001b[0m     validate_features\u001b[39m=\u001b[39;49mvalidate_features,\n\u001b[1;32m   1636\u001b[0m     base_margin\u001b[39m=\u001b[39;49mbase_margin,\n\u001b[1;32m   1637\u001b[0m     iteration_range\u001b[39m=\u001b[39;49miteration_range,\n\u001b[1;32m   1638\u001b[0m )\n\u001b[1;32m   1639\u001b[0m \u001b[39m# If model is loaded from a raw booster there's no `n_classes_`\u001b[39;00m\n\u001b[1;32m   1640\u001b[0m \u001b[39mreturn\u001b[39;00m _cls_predict_proba(\n\u001b[1;32m   1641\u001b[0m     \u001b[39mgetattr\u001b[39m(\u001b[39mself\u001b[39m, \u001b[39m\"\u001b[39m\u001b[39mn_classes_\u001b[39m\u001b[39m\"\u001b[39m, \u001b[39m0\u001b[39m), class_probs, np\u001b[39m.\u001b[39mvstack\n\u001b[1;32m   1642\u001b[0m )\n",
      "File \u001b[0;32m~/mambaforge/envs/crrt/lib/python3.9/site-packages/xgboost/sklearn.py:1140\u001b[0m, in \u001b[0;36mXGBModel.predict\u001b[0;34m(self, X, output_margin, ntree_limit, validate_features, base_margin, iteration_range)\u001b[0m\n\u001b[1;32m   1138\u001b[0m \u001b[39mif\u001b[39;00m \u001b[39mself\u001b[39m\u001b[39m.\u001b[39m_can_use_inplace_predict():\n\u001b[1;32m   1139\u001b[0m     \u001b[39mtry\u001b[39;00m:\n\u001b[0;32m-> 1140\u001b[0m         predts \u001b[39m=\u001b[39m \u001b[39mself\u001b[39;49m\u001b[39m.\u001b[39;49mget_booster()\u001b[39m.\u001b[39;49minplace_predict(\n\u001b[1;32m   1141\u001b[0m             data\u001b[39m=\u001b[39;49mX,\n\u001b[1;32m   1142\u001b[0m             iteration_range\u001b[39m=\u001b[39;49miteration_range,\n\u001b[1;32m   1143\u001b[0m             predict_type\u001b[39m=\u001b[39;49m\u001b[39m\"\u001b[39;49m\u001b[39mmargin\u001b[39;49m\u001b[39m\"\u001b[39;49m \u001b[39mif\u001b[39;49;00m output_margin \u001b[39melse\u001b[39;49;00m \u001b[39m\"\u001b[39;49m\u001b[39mvalue\u001b[39;49m\u001b[39m\"\u001b[39;49m,\n\u001b[1;32m   1144\u001b[0m             missing\u001b[39m=\u001b[39;49m\u001b[39mself\u001b[39;49m\u001b[39m.\u001b[39;49mmissing,\n\u001b[1;32m   1145\u001b[0m             base_margin\u001b[39m=\u001b[39;49mbase_margin,\n\u001b[1;32m   1146\u001b[0m             validate_features\u001b[39m=\u001b[39;49mvalidate_features,\n\u001b[1;32m   1147\u001b[0m         )\n\u001b[1;32m   1148\u001b[0m         \u001b[39mif\u001b[39;00m _is_cupy_array(predts):\n\u001b[1;32m   1149\u001b[0m             \u001b[39mimport\u001b[39;00m \u001b[39mcupy\u001b[39;00m  \u001b[39m# pylint: disable=import-error\u001b[39;00m\n",
      "File \u001b[0;32m~/mambaforge/envs/crrt/lib/python3.9/site-packages/xgboost/core.py:2268\u001b[0m, in \u001b[0;36mBooster.inplace_predict\u001b[0;34m(self, data, iteration_range, predict_type, missing, validate_features, base_margin, strict_shape)\u001b[0m\n\u001b[1;32m   2264\u001b[0m         \u001b[39mraise\u001b[39;00m \u001b[39mTypeError\u001b[39;00m(\n\u001b[1;32m   2265\u001b[0m             \u001b[39m\"\u001b[39m\u001b[39m`shape` attribute is required when `validate_features` is True.\u001b[39m\u001b[39m\"\u001b[39m\n\u001b[1;32m   2266\u001b[0m         )\n\u001b[1;32m   2267\u001b[0m     \u001b[39mif\u001b[39;00m \u001b[39mlen\u001b[39m(data\u001b[39m.\u001b[39mshape) \u001b[39m!=\u001b[39m \u001b[39m1\u001b[39m \u001b[39mand\u001b[39;00m \u001b[39mself\u001b[39m\u001b[39m.\u001b[39mnum_features() \u001b[39m!=\u001b[39m data\u001b[39m.\u001b[39mshape[\u001b[39m1\u001b[39m]:\n\u001b[0;32m-> 2268\u001b[0m         \u001b[39mraise\u001b[39;00m \u001b[39mValueError\u001b[39;00m(\n\u001b[1;32m   2269\u001b[0m             \u001b[39mf\u001b[39m\u001b[39m\"\u001b[39m\u001b[39mFeature shape mismatch, expected: \u001b[39m\u001b[39m{\u001b[39;00m\u001b[39mself\u001b[39m\u001b[39m.\u001b[39mnum_features()\u001b[39m}\u001b[39;00m\u001b[39m, \u001b[39m\u001b[39m\"\u001b[39m\n\u001b[1;32m   2270\u001b[0m             \u001b[39mf\u001b[39m\u001b[39m\"\u001b[39m\u001b[39mgot \u001b[39m\u001b[39m{\u001b[39;00mdata\u001b[39m.\u001b[39mshape[\u001b[39m1\u001b[39m]\u001b[39m}\u001b[39;00m\u001b[39m\"\u001b[39m\n\u001b[1;32m   2271\u001b[0m         )\n\u001b[1;32m   2273\u001b[0m \u001b[39mfrom\u001b[39;00m \u001b[39m.\u001b[39;00m\u001b[39mdata\u001b[39;00m \u001b[39mimport\u001b[39;00m (\n\u001b[1;32m   2274\u001b[0m     _array_interface,\n\u001b[1;32m   2275\u001b[0m     _is_cudf_df,\n\u001b[0;32m   (...)\u001b[0m\n\u001b[1;32m   2278\u001b[0m     _transform_pandas_df,\n\u001b[1;32m   2279\u001b[0m )\n\u001b[1;32m   2281\u001b[0m enable_categorical \u001b[39m=\u001b[39m _has_categorical(\u001b[39mself\u001b[39m, data)\n",
      "\u001b[0;31mValueError\u001b[0m: Feature shape mismatch, expected: 13072, got 11178"
     ]
    }
   ],
   "source": [
    "X, y = data.test\n",
    "X = pd.DataFrame(X, columns=data.columns, index=y.index)\n",
    "masks = {k: data.get_filter(X, *args) for k, args in dz_sex.items()}\n",
    "data.test_filters = masks\n",
    "model.evaluate(data, \"test\")"
   ]
  },
  {
   "cell_type": "code",
   "execution_count": null,
   "metadata": {},
   "outputs": [
    {
     "data": {
      "text/plain": [
       "(array([[6.30000000e+01, 5.77634358e+01, 2.02000000e+03, ...,\n",
       "         0.00000000e+00, 1.00000000e+00, 1.00000000e+00],\n",
       "        [3.00000000e+01, 5.77634358e+01, 2.01700000e+03, ...,\n",
       "         0.00000000e+00, 0.00000000e+00, 0.00000000e+00],\n",
       "        [4.70000000e+01, 5.77634358e+01, 2.01700000e+03, ...,\n",
       "         0.00000000e+00, 0.00000000e+00, 1.00000000e+00],\n",
       "        ...,\n",
       "        [9.10000000e+01, 5.77634358e+01, 2.01000000e+03, ...,\n",
       "         0.00000000e+00, 0.00000000e+00, 0.00000000e+00],\n",
       "        [6.50000000e+01, 5.77634358e+01, 2.01100000e+03, ...,\n",
       "         0.00000000e+00, 0.00000000e+00, 0.00000000e+00],\n",
       "        [6.60000000e+01, 5.77634358e+01, 2.01000000e+03, ...,\n",
       "         0.00000000e+00, 0.00000000e+00, 0.00000000e+00]]),\n",
       " IP_PATIENT_ID                     Start Date\n",
       " 00000064C94859EB973942C862550ABA  2020-08-10    0\n",
       " 000008E26F8F14E5099662DDB778C698  2017-09-23    0\n",
       " 00000AC44FF1345FEE4B73057620EC0F  2017-10-02    0\n",
       " 000014471A50BA85E236FC7DDA593FE6  2017-11-26    0\n",
       " 000015CA913525E268FA991FD4AED560  2012-05-03    0\n",
       "                                                ..\n",
       " 0117DEA6B296A4BF14116169C72C9248  2013-04-25    0\n",
       " 02E1D0B786923B55CCD9684C0BB305D4  2009-03-05    0\n",
       " 045A0C05D0C3B66C71A4B8EC722A31EF  2010-05-04    0\n",
       " 16FC1EF68F3CAD586FA58E7D8912555D  2011-09-24    0\n",
       " 1FA1377CDE80E07206C12D0C4613ABAE  2010-08-24    0\n",
       " Name: recommend_crrt, Length: 3560, dtype: int64)"
      ]
     },
     "execution_count": 6,
     "metadata": {},
     "output_type": "execute_result"
    }
   ],
   "source": [
    "data.test"
   ]
  },
  {
   "cell_type": "code",
   "execution_count": null,
   "metadata": {},
   "outputs": [],
   "source": []
  }
 ],
 "metadata": {
  "kernelspec": {
   "display_name": "crrt",
   "language": "python",
   "name": "crrt"
  },
  "language_info": {
   "codemirror_mode": {
    "name": "ipython",
    "version": 3
   },
   "file_extension": ".py",
   "mimetype": "text/x-python",
   "name": "python",
   "nbconvert_exporter": "python",
   "pygments_lexer": "ipython3",
   "version": "3.9.15"
  },
  "orig_nbformat": 4
 },
 "nbformat": 4,
 "nbformat_minor": 2
}
