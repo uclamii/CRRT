{
 "cells": [
  {
   "cell_type": "code",
   "execution_count": 1,
   "metadata": {},
   "outputs": [
    {
     "name": "stderr",
     "output_type": "stream",
     "text": [
      "/home/davina/mambaforge/envs/crrt/lib/python3.9/site-packages/tqdm/auto.py:22: TqdmWarning: IProgress not found. Please update jupyter and ipywidgets. See https://ipywidgets.readthedocs.io/en/stable/user_install.html\n",
      "  from .autonotebook import tqdm as notebook_tqdm\n"
     ]
    }
   ],
   "source": [
    "from os import getcwd\n",
    "from os.path import join\n",
    "import sys\n",
    "sys.path.insert(0, join(getcwd(), \"../module_code\"))\n",
    "\n",
    "import pandas as pd\n",
    "from mlflow.tracking import MlflowClient\n",
    "\n",
    "from models.static_models import CRRTStaticPredictor\n",
    "from data.sklearn_loaders import SklearnCRRTDataModule\n",
    "from main import get_mlflow_model_uri\n",
    "from cli_utils import init_cli_args, load_cli_args\n",
    "from data.argparse_utils import string_list_to_list, string_dict_to_dict\n",
    "from data.subpopulation_utils import generate_filters, combine_filters"
   ]
  },
  {
   "cell_type": "code",
   "execution_count": 2,
   "metadata": {},
   "outputs": [],
   "source": [
    "client = MlflowClient(\"/home/davina/Private/repos/CRRT/mlruns/\")\n",
    "run_id = \"cdcbd1d31e104b448da2f3020aaae4e8\"\n",
    "run = client.get_run(run_id)\n",
    "logged_args = run.data.tags\n",
    "\n",
    "sys.argv = [sys.argv[0]]\n",
    "load_cli_args(\"../options.yml\")\n",
    "for k,v in logged_args.items():\n",
    "    if v != \"None\" and f\"--{k}\" not in sys.argv:\n",
    "        sys.argv += [f\"--{k}\", v]\n",
    "args = init_cli_args()\n",
    "\n",
    "path = get_mlflow_model_uri(run)\n",
    "\n",
    "model = CRRTStaticPredictor.load(args, path)\n",
    "data = SklearnCRRTDataModule.from_argparse_args(args)\n",
    "data.setup(args)"
   ]
  },
  {
   "cell_type": "code",
   "execution_count": 4,
   "metadata": {},
   "outputs": [],
   "source": [
    "filters = generate_filters()\n",
    "dz_sex = combine_filters(filters[\"disease_indicator\"], filters[\"sex\"])"
   ]
  },
  {
   "cell_type": "code",
   "execution_count": 5,
   "metadata": {},
   "outputs": [
    {
     "data": {
      "text/plain": [
       "{'heart_female': IP_PATIENT_ID                     Start Date\n",
       " 00000064C94859EB973942C862550ABA  2020-08-10    False\n",
       " 000008E26F8F14E5099662DDB778C698  2017-09-23    False\n",
       " 00000AC44FF1345FEE4B73057620EC0F  2017-10-02    False\n",
       " 000014471A50BA85E236FC7DDA593FE6  2017-11-26    False\n",
       " 000015CA913525E268FA991FD4AED560  2012-05-03    False\n",
       "                                                 ...  \n",
       " 0117DEA6B296A4BF14116169C72C9248  2013-04-25    False\n",
       " 02E1D0B786923B55CCD9684C0BB305D4  2009-03-05    False\n",
       " 045A0C05D0C3B66C71A4B8EC722A31EF  2010-05-04    False\n",
       " 16FC1EF68F3CAD586FA58E7D8912555D  2011-09-24    False\n",
       " 1FA1377CDE80E07206C12D0C4613ABAE  2010-08-24    False\n",
       " Length: 3560, dtype: bool,\n",
       " 'heart_male': IP_PATIENT_ID                     Start Date\n",
       " 00000064C94859EB973942C862550ABA  2020-08-10     True\n",
       " 000008E26F8F14E5099662DDB778C698  2017-09-23    False\n",
       " 00000AC44FF1345FEE4B73057620EC0F  2017-10-02     True\n",
       " 000014471A50BA85E236FC7DDA593FE6  2017-11-26     True\n",
       " 000015CA913525E268FA991FD4AED560  2012-05-03    False\n",
       "                                                 ...  \n",
       " 0117DEA6B296A4BF14116169C72C9248  2013-04-25    False\n",
       " 02E1D0B786923B55CCD9684C0BB305D4  2009-03-05    False\n",
       " 045A0C05D0C3B66C71A4B8EC722A31EF  2010-05-04    False\n",
       " 16FC1EF68F3CAD586FA58E7D8912555D  2011-09-24    False\n",
       " 1FA1377CDE80E07206C12D0C4613ABAE  2010-08-24    False\n",
       " Length: 3560, dtype: bool,\n",
       " 'liver_female': IP_PATIENT_ID                     Start Date\n",
       " 00000064C94859EB973942C862550ABA  2020-08-10    False\n",
       " 000008E26F8F14E5099662DDB778C698  2017-09-23    False\n",
       " 00000AC44FF1345FEE4B73057620EC0F  2017-10-02    False\n",
       " 000014471A50BA85E236FC7DDA593FE6  2017-11-26    False\n",
       " 000015CA913525E268FA991FD4AED560  2012-05-03    False\n",
       "                                                 ...  \n",
       " 0117DEA6B296A4BF14116169C72C9248  2013-04-25    False\n",
       " 02E1D0B786923B55CCD9684C0BB305D4  2009-03-05    False\n",
       " 045A0C05D0C3B66C71A4B8EC722A31EF  2010-05-04    False\n",
       " 16FC1EF68F3CAD586FA58E7D8912555D  2011-09-24    False\n",
       " 1FA1377CDE80E07206C12D0C4613ABAE  2010-08-24    False\n",
       " Length: 3560, dtype: bool,\n",
       " 'liver_male': IP_PATIENT_ID                     Start Date\n",
       " 00000064C94859EB973942C862550ABA  2020-08-10     True\n",
       " 000008E26F8F14E5099662DDB778C698  2017-09-23    False\n",
       " 00000AC44FF1345FEE4B73057620EC0F  2017-10-02    False\n",
       " 000014471A50BA85E236FC7DDA593FE6  2017-11-26     True\n",
       " 000015CA913525E268FA991FD4AED560  2012-05-03    False\n",
       "                                                 ...  \n",
       " 0117DEA6B296A4BF14116169C72C9248  2013-04-25    False\n",
       " 02E1D0B786923B55CCD9684C0BB305D4  2009-03-05    False\n",
       " 045A0C05D0C3B66C71A4B8EC722A31EF  2010-05-04    False\n",
       " 16FC1EF68F3CAD586FA58E7D8912555D  2011-09-24    False\n",
       " 1FA1377CDE80E07206C12D0C4613ABAE  2010-08-24    False\n",
       " Length: 3560, dtype: bool,\n",
       " 'infection_female': IP_PATIENT_ID                     Start Date\n",
       " 00000064C94859EB973942C862550ABA  2020-08-10    False\n",
       " 000008E26F8F14E5099662DDB778C698  2017-09-23    False\n",
       " 00000AC44FF1345FEE4B73057620EC0F  2017-10-02    False\n",
       " 000014471A50BA85E236FC7DDA593FE6  2017-11-26    False\n",
       " 000015CA913525E268FA991FD4AED560  2012-05-03    False\n",
       "                                                 ...  \n",
       " 0117DEA6B296A4BF14116169C72C9248  2013-04-25    False\n",
       " 02E1D0B786923B55CCD9684C0BB305D4  2009-03-05    False\n",
       " 045A0C05D0C3B66C71A4B8EC722A31EF  2010-05-04    False\n",
       " 16FC1EF68F3CAD586FA58E7D8912555D  2011-09-24    False\n",
       " 1FA1377CDE80E07206C12D0C4613ABAE  2010-08-24    False\n",
       " Length: 3560, dtype: bool,\n",
       " 'infection_male': IP_PATIENT_ID                     Start Date\n",
       " 00000064C94859EB973942C862550ABA  2020-08-10     True\n",
       " 000008E26F8F14E5099662DDB778C698  2017-09-23    False\n",
       " 00000AC44FF1345FEE4B73057620EC0F  2017-10-02     True\n",
       " 000014471A50BA85E236FC7DDA593FE6  2017-11-26     True\n",
       " 000015CA913525E268FA991FD4AED560  2012-05-03    False\n",
       "                                                 ...  \n",
       " 0117DEA6B296A4BF14116169C72C9248  2013-04-25    False\n",
       " 02E1D0B786923B55CCD9684C0BB305D4  2009-03-05    False\n",
       " 045A0C05D0C3B66C71A4B8EC722A31EF  2010-05-04    False\n",
       " 16FC1EF68F3CAD586FA58E7D8912555D  2011-09-24    False\n",
       " 1FA1377CDE80E07206C12D0C4613ABAE  2010-08-24    False\n",
       " Length: 3560, dtype: bool,\n",
       " 'no_heart_liver_infection_female': IP_PATIENT_ID                     Start Date\n",
       " 00000064C94859EB973942C862550ABA  2020-08-10    False\n",
       " 000008E26F8F14E5099662DDB778C698  2017-09-23    False\n",
       " 00000AC44FF1345FEE4B73057620EC0F  2017-10-02    False\n",
       " 000014471A50BA85E236FC7DDA593FE6  2017-11-26    False\n",
       " 000015CA913525E268FA991FD4AED560  2012-05-03    False\n",
       "                                                 ...  \n",
       " 0117DEA6B296A4BF14116169C72C9248  2013-04-25    False\n",
       " 02E1D0B786923B55CCD9684C0BB305D4  2009-03-05    False\n",
       " 045A0C05D0C3B66C71A4B8EC722A31EF  2010-05-04    False\n",
       " 16FC1EF68F3CAD586FA58E7D8912555D  2011-09-24    False\n",
       " 1FA1377CDE80E07206C12D0C4613ABAE  2010-08-24    False\n",
       " Length: 3560, dtype: bool,\n",
       " 'no_heart_liver_infection_male': IP_PATIENT_ID                     Start Date\n",
       " 00000064C94859EB973942C862550ABA  2020-08-10    False\n",
       " 000008E26F8F14E5099662DDB778C698  2017-09-23     True\n",
       " 00000AC44FF1345FEE4B73057620EC0F  2017-10-02    False\n",
       " 000014471A50BA85E236FC7DDA593FE6  2017-11-26    False\n",
       " 000015CA913525E268FA991FD4AED560  2012-05-03     True\n",
       "                                                 ...  \n",
       " 0117DEA6B296A4BF14116169C72C9248  2013-04-25     True\n",
       " 02E1D0B786923B55CCD9684C0BB305D4  2009-03-05     True\n",
       " 045A0C05D0C3B66C71A4B8EC722A31EF  2010-05-04     True\n",
       " 16FC1EF68F3CAD586FA58E7D8912555D  2011-09-24     True\n",
       " 1FA1377CDE80E07206C12D0C4613ABAE  2010-08-24     True\n",
       " Length: 3560, dtype: bool}"
      ]
     },
     "execution_count": 5,
     "metadata": {},
     "output_type": "execute_result"
    }
   ],
   "source": [
    "X, y = data.test\n",
    "X = pd.DataFrame(X, columns=data.columns, index=y.index)\n",
    "masks = {k: data.get_filter(X, *args) for k, args in dz_sex.items()}\n",
    "data.test_filters = masks\n",
    "model.evaluate(data, \"test\")"
   ]
  },
  {
   "cell_type": "code",
   "execution_count": 6,
   "metadata": {},
   "outputs": [
    {
     "data": {
      "text/plain": [
       "(array([[6.30000000e+01, 5.77634358e+01, 2.02000000e+03, ...,\n",
       "         0.00000000e+00, 1.00000000e+00, 1.00000000e+00],\n",
       "        [3.00000000e+01, 5.77634358e+01, 2.01700000e+03, ...,\n",
       "         0.00000000e+00, 0.00000000e+00, 0.00000000e+00],\n",
       "        [4.70000000e+01, 5.77634358e+01, 2.01700000e+03, ...,\n",
       "         0.00000000e+00, 0.00000000e+00, 1.00000000e+00],\n",
       "        ...,\n",
       "        [9.10000000e+01, 5.77634358e+01, 2.01000000e+03, ...,\n",
       "         0.00000000e+00, 0.00000000e+00, 0.00000000e+00],\n",
       "        [6.50000000e+01, 5.77634358e+01, 2.01100000e+03, ...,\n",
       "         0.00000000e+00, 0.00000000e+00, 0.00000000e+00],\n",
       "        [6.60000000e+01, 5.77634358e+01, 2.01000000e+03, ...,\n",
       "         0.00000000e+00, 0.00000000e+00, 0.00000000e+00]]),\n",
       " IP_PATIENT_ID                     Start Date\n",
       " 00000064C94859EB973942C862550ABA  2020-08-10    0\n",
       " 000008E26F8F14E5099662DDB778C698  2017-09-23    0\n",
       " 00000AC44FF1345FEE4B73057620EC0F  2017-10-02    0\n",
       " 000014471A50BA85E236FC7DDA593FE6  2017-11-26    0\n",
       " 000015CA913525E268FA991FD4AED560  2012-05-03    0\n",
       "                                                ..\n",
       " 0117DEA6B296A4BF14116169C72C9248  2013-04-25    0\n",
       " 02E1D0B786923B55CCD9684C0BB305D4  2009-03-05    0\n",
       " 045A0C05D0C3B66C71A4B8EC722A31EF  2010-05-04    0\n",
       " 16FC1EF68F3CAD586FA58E7D8912555D  2011-09-24    0\n",
       " 1FA1377CDE80E07206C12D0C4613ABAE  2010-08-24    0\n",
       " Name: recommend_crrt, Length: 3560, dtype: int64)"
      ]
     },
     "execution_count": 6,
     "metadata": {},
     "output_type": "execute_result"
    }
   ],
   "source": [
    "data.test"
   ]
  },
  {
   "cell_type": "code",
   "execution_count": null,
   "metadata": {},
   "outputs": [],
   "source": []
  }
 ],
 "metadata": {
  "kernelspec": {
   "display_name": "crrt",
   "language": "python",
   "name": "crrt"
  },
  "language_info": {
   "codemirror_mode": {
    "name": "ipython",
    "version": 3
   },
   "file_extension": ".py",
   "mimetype": "text/x-python",
   "name": "python",
   "nbconvert_exporter": "python",
   "pygments_lexer": "ipython3",
   "version": "3.9.15"
  },
  "orig_nbformat": 4
 },
 "nbformat": 4,
 "nbformat_minor": 2
}
