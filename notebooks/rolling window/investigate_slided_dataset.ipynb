{
 "cells": [
  {
   "cell_type": "code",
   "execution_count": null,
   "metadata": {},
   "outputs": [],
   "source": [
    "import pandas as pd\n",
    "import numpy as np\n",
    "import sys\n",
    "from os import getcwd\n",
    "from os.path import join\n",
    "\n",
    "data_path = \"/home/davina/Private/crrt-data\"\n",
    "ref = \"df_[startdate-7d,startdate].parquet\"\n",
    "f = \"df_[startdate+1-7d,startdate+1].parquet\""
   ]
  },
  {
   "cell_type": "code",
   "execution_count": null,
   "metadata": {},
   "outputs": [],
   "source": [
    "ref_df = pd.read_parquet(join(data_path, ref))\n",
    "f_df = pd.read_parquet(join(data_path, f))"
   ]
  },
  {
   "cell_type": "markdown",
   "metadata": {},
   "source": []
  },
  {
   "cell_type": "code",
   "execution_count": null,
   "metadata": {},
   "outputs": [],
   "source": [
    "ref_df.equals(f_df)"
   ]
  },
  {
   "cell_type": "code",
   "execution_count": null,
   "metadata": {},
   "outputs": [],
   "source": [
    "ref_df.shape"
   ]
  },
  {
   "cell_type": "code",
   "execution_count": null,
   "metadata": {},
   "outputs": [],
   "source": [
    "for i in range(1, 8):\n",
    "    file = f\"df_[startdate+{i}-7d,startdate+{i}].parquet\"\n",
    "    f_df = pd.read_parquet(join(data_path, file))\n",
    "    print(f_df.shape)"
   ]
  },
  {
   "cell_type": "markdown",
   "metadata": {},
   "source": [
    "# Column Asymmetry across slided window"
   ]
  },
  {
   "cell_type": "code",
   "execution_count": null,
   "metadata": {},
   "outputs": [],
   "source": [
    "# in ref but not other\n",
    "ref_df.columns.difference(f_df.columns)"
   ]
  },
  {
   "cell_type": "code",
   "execution_count": null,
   "metadata": {},
   "outputs": [],
   "source": [
    "f_df.columns.difference(ref_df.columns)"
   ]
  },
  {
   "cell_type": "code",
   "execution_count": null,
   "metadata": {},
   "outputs": [],
   "source": [
    "ref_df.columns"
   ]
  },
  {
   "cell_type": "markdown",
   "metadata": {},
   "source": [
    "# Explore if sliding windows actually gives me the correct range of dates"
   ]
  },
  {
   "cell_type": "code",
   "execution_count": null,
   "metadata": {},
   "outputs": [],
   "source": [
    "sys.path.insert(0, join(getcwd(), \"../../module_code\"))\n",
    "\n",
    "from data.load import load_outcomes\n",
    "from data.longitudinal_utils import get_time_window_mask, apply_time_window_mask"
   ]
  },
  {
   "cell_type": "code",
   "execution_count": null,
   "metadata": {},
   "outputs": [],
   "source": [
    "dx = pd.read_csv(join(data_path, \"Encounter_Diagnoses.txt\"))"
   ]
  },
  {
   "cell_type": "code",
   "execution_count": null,
   "metadata": {},
   "outputs": [],
   "source": [
    "outcomes_df = load_outcomes(data_path, group_by=[\"IP_PATIENT_ID\", \"Start Date\"])\n",
    "time_window = get_time_window_mask(\n",
    "        outcomes_df, {\"DAYS\": 7}, None, \"Start Date\", slide_window_by=2\n",
    "    )"
   ]
  },
  {
   "cell_type": "code",
   "execution_count": null,
   "metadata": {},
   "outputs": [],
   "source": [
    "masked_dx = apply_time_window_mask(dx, \"DIAGNOSIS_DATE\", time_window)"
   ]
  },
  {
   "cell_type": "code",
   "execution_count": null,
   "metadata": {},
   "outputs": [],
   "source": [
    "diff = masked_dx[\"Start Date\"] - pd.to_datetime(masked_dx[\"DIAGNOSIS_DATE\"])\n",
    "print(diff[diff < np.timedelta64(0, \"D\")].shape)\n",
    "print(diff[diff < np.timedelta64(-1, \"D\")].shape)\n",
    "print(diff[diff > np.timedelta64(7-2, \"D\")].shape)\n",
    "print(diff[diff > np.timedelta64(7-3, \"D\")].shape)"
   ]
  },
  {
   "cell_type": "code",
   "execution_count": null,
   "metadata": {},
   "outputs": [],
   "source": [
    "outcomes_df[\"End Date\"] - np.timedelta64(1, \"D\")"
   ]
  },
  {
   "cell_type": "code",
   "execution_count": null,
   "metadata": {},
   "outputs": [],
   "source": [
    "print(f\"{(outcomes_df['CRRT Total Days'] <= 7).sum()} patients with leq 7 days data.\")\n",
    "print(f\"{(outcomes_df['CRRT Total Days'] > 7).sum()} patients with more than 7 days data.\")"
   ]
  },
  {
   "cell_type": "code",
   "execution_count": null,
   "metadata": {},
   "outputs": [],
   "source": [
    "outcomes_over_7d = outcomes_df[outcomes_df[\"CRRT Total Days\"] > 7][\"recommend_crrt\"]\n",
    "f\"{outcomes_over_7d.sum()} pts recommend crrt out of {len(outcomes_over_7d)}, ({outcomes_over_7d.mean()*100}%).\""
   ]
  },
  {
   "cell_type": "code",
   "execution_count": null,
   "metadata": {},
   "outputs": [],
   "source": []
  }
 ],
 "metadata": {
  "kernelspec": {
   "display_name": "Python 3.9.13 ('crrt')",
   "language": "python",
   "name": "python3"
  },
  "language_info": {
   "codemirror_mode": {
    "name": "ipython",
    "version": 3
   },
   "file_extension": ".py",
   "mimetype": "text/x-python",
   "name": "python",
   "nbconvert_exporter": "python",
   "pygments_lexer": "ipython3",
   "version": "3.9.13"
  },
  "vscode": {
   "interpreter": {
    "hash": "3ec4323cdb57771f81a9fbb6644b264a95b8ef7a3669230ca02ff6d9a0ad522e"
   }
  }
 },
 "nbformat": 4,
 "nbformat_minor": 2
}
