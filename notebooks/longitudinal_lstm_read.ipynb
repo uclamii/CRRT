{
 "cells": [
  {
   "cell_type": "code",
   "execution_count": null,
   "metadata": {},
   "outputs": [],
   "source": [
    "from torch.nn import LSTM\n",
    "import pandas as pd\n",
    "import numpy as np\n",
    "from os import getcwd\n",
    "from os.path import join\n",
    "import sys\n",
    "\n",
    "sys.path.insert(0, join(getcwd(), \"../module_code\"))\n",
    "from utils import get_preprocessed_file_name, load_cli_args, init_cli_args\n",
    "\n",
    "sys.argv = [sys.argv[0]]"
   ]
  },
  {
   "cell_type": "code",
   "execution_count": null,
   "metadata": {},
   "outputs": [],
   "source": [
    "load_cli_args(\"../options.yml\")\n",
    "args = init_cli_args()\n",
    "preprocessed_df_fname = get_preprocessed_file_name(\n",
    "    args.time_before_start_date,\n",
    "    args.time_interval,\n",
    "    args.preprocessed_df_file,\n",
    "    serialization=args.serialization,\n",
    ")\n",
    "preprocessed_df_path = join(args.raw_data_dir, preprocessed_df_fname)\n",
    "\n",
    "deserialize_fn = getattr(pd, f\"read_{args.serialization}\")"
   ]
  },
  {
   "cell_type": "code",
   "execution_count": null,
   "metadata": {},
   "outputs": [],
   "source": [
    "df = deserialize_fn(preprocessed_df_path)"
   ]
  },
  {
   "cell_type": "code",
   "execution_count": null,
   "metadata": {},
   "outputs": [],
   "source": [
    "df = df.groupby([\"IP_PATIENT_ID\", \"DATE\"]).last()\n",
    "df"
   ]
  },
  {
   "cell_type": "code",
   "execution_count": null,
   "metadata": {},
   "outputs": [],
   "source": [
    "df.index.get_level_values(\"DATE\").isnull().sum()"
   ]
  },
  {
   "cell_type": "code",
   "execution_count": null,
   "metadata": {},
   "outputs": [],
   "source": [
    "# keep only numeric columns\n",
    "df = df.select_dtypes([\"number\"])"
   ]
  },
  {
   "cell_type": "code",
   "execution_count": null,
   "metadata": {},
   "outputs": [],
   "source": [
    "grouped_sample_dfs = df.groupby(level=\"IP_PATIENT_ID\")\n",
    "n_samples = grouped_sample_dfs.ngroups  # number of patients\n",
    "seq_lengths = grouped_sample_dfs.size().values  # seq len per patient\n",
    "n_features = df.shape[1]  # number of features per pt per seq entry\n",
    "pad_value = -1\n",
    "longest_seq = max(seq_lengths)"
   ]
  },
  {
   "cell_type": "code",
   "execution_count": null,
   "metadata": {},
   "outputs": [],
   "source": [
    "# Create empty matrix with padding tokens\n",
    "padded = np.ones((n_samples, longest_seq, n_features)) * pad_value\n",
    "# copy over the actual sequences\n",
    "start = 0\n",
    "for i, seq_len in enumerate(seq_lengths):\n",
    "    sequence = df.iloc[start : start + seq_len].values\n",
    "    if sequence.shape[0] != seq_len: print(\"bad\")\n",
    "    padded[i, 0:seq_len] = sequence\n",
    "    # start += seq_len\n",
    "padded\n"
   ]
  },
  {
   "cell_type": "code",
   "execution_count": null,
   "metadata": {},
   "outputs": [],
   "source": [
    "from torch import Tensor\n",
    "Tensor(padded)"
   ]
  },
  {
   "cell_type": "code",
   "execution_count": null,
   "metadata": {},
   "outputs": [],
   "source": [
    "target_index = df.columns.get_loc(\"recommend_crrt\")\n",
    "padded[:,:,target_index]\n",
    "np.delete(padded, target_index, axis=-1)"
   ]
  },
  {
   "cell_type": "code",
   "execution_count": null,
   "metadata": {},
   "outputs": [],
   "source": []
  }
 ],
 "metadata": {
  "interpreter": {
   "hash": "3b0121cddfc265515fd43ae413dcaecdb66437e41fc61bea817dc341620c202f"
  },
  "kernelspec": {
   "display_name": "Python 3.7.9 64-bit ('crrt': conda)",
   "name": "python3"
  },
  "language_info": {
   "codemirror_mode": {
    "name": "ipython",
    "version": 3
   },
   "file_extension": ".py",
   "mimetype": "text/x-python",
   "name": "python",
   "nbconvert_exporter": "python",
   "pygments_lexer": "ipython3",
   "version": "3.7.9"
  }
 },
 "nbformat": 4,
 "nbformat_minor": 2
}
