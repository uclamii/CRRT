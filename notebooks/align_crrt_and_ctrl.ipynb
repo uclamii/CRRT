{
 "cells": [
  {
   "cell_type": "code",
   "execution_count": 1,
   "metadata": {},
   "outputs": [
    {
     "name": "stderr",
     "output_type": "stream",
     "text": [
      "/home/davina/mambaforge/envs/crrt/lib/python3.9/site-packages/tqdm/auto.py:22: TqdmWarning: IProgress not found. Please update jupyter and ipywidgets. See https://ipywidgets.readthedocs.io/en/stable/user_install.html\n",
      "  from .autonotebook import tqdm as notebook_tqdm\n"
     ]
    }
   ],
   "source": [
    "import sys\n",
    "from os import getcwd\n",
    "from os.path import join\n",
    "import pandas as pd\n",
    "sys.path.insert(0, join(getcwd(), \"../module_code\"))\n",
    "\n",
    "from data.load import load_data, load_outcomes\n",
    "from cli_utils import load_cli_args, init_cli_args\n",
    "\n",
    "sys.argv = [sys.argv[0]]\n",
    "load_cli_args(\"../options.yml\")\n",
    "args = init_cli_args()"
   ]
  },
  {
   "cell_type": "code",
   "execution_count": 2,
   "metadata": {},
   "outputs": [],
   "source": [
    "from pandas import read_csv\n",
    "from pandas.errors import ParserError\n",
    "\n",
    "def read_file(file: str):\n",
    "    try:\n",
    "        # Try normally reading the csv with pandas, if it fails the formatting is strange\n",
    "        df = read_csv(file)\n",
    "    except ParserError as e:\n",
    "        df = read_csv(file, on_bad_lines=\"skip\")\n",
    "    except Exception:\n",
    "        df = read_csv(file, encoding=\"cp1252\")\n",
    "    return df\n"
   ]
  },
  {
   "attachments": {},
   "cell_type": "markdown",
   "metadata": {},
   "source": [
    "# Providers"
   ]
  },
  {
   "cell_type": "markdown",
   "metadata": {},
   "source": []
  },
  {
   "cell_type": "code",
   "execution_count": 10,
   "metadata": {},
   "outputs": [],
   "source": [
    "provider = \"Providers.txt\"\n",
    "crrt_df = read_file(f\"{args.ucla_crrt_data_dir}/{provider}\")\n",
    "ctrl_df = read_file(f\"{args.ucla_control_data_dir}/{provider}\")"
   ]
  },
  {
   "cell_type": "code",
   "execution_count": 11,
   "metadata": {},
   "outputs": [
    {
     "name": "stdout",
     "output_type": "stream",
     "text": [
      "Index(['IP_PROVIDER_ID', 'PROVIDER_TYPE'], dtype='object')\n",
      "Index(['ip_provider_id', 'provider_id', 'provider_name', 'provider_sex',\n",
      "       'provider_type', 'primary_specialty', 'ucla_employee_flag'],\n",
      "      dtype='object')\n"
     ]
    }
   ],
   "source": [
    "print(crrt_df.columns)\n",
    "print(ctrl_df.columns)"
   ]
  },
  {
   "attachments": {},
   "cell_type": "markdown",
   "metadata": {},
   "source": [
    "# Demographics"
   ]
  },
  {
   "cell_type": "code",
   "execution_count": 3,
   "metadata": {},
   "outputs": [],
   "source": [
    "demo = \"Patient_Demographics.txt\"\n",
    "crrt_df = read_file(f\"{args.ucla_crrt_data_dir}/{demo}\")\n",
    "ctrl_df = read_file(f\"{args.ucla_control_data_dir}/{demo}\")"
   ]
  },
  {
   "cell_type": "code",
   "execution_count": 6,
   "metadata": {},
   "outputs": [
    {
     "data": {
      "text/plain": [
       "Index(['IP_PATIENT_ID', 'AGE', 'GENDER', 'RACE', 'ETHNICITY', 'VITAL_STATUS',\n",
       "       'PCP_IP_PROVIDER_ID'],\n",
       "      dtype='object')"
      ]
     },
     "execution_count": 6,
     "metadata": {},
     "output_type": "execute_result"
    }
   ],
   "source": [
    "crrt_df.columns"
   ]
  },
  {
   "cell_type": "code",
   "execution_count": 7,
   "metadata": {},
   "outputs": [
    {
     "data": {
      "text/plain": [
       "Index(['ip_patient_id', 'age', 'sex', 'race', 'ethnicity', 'vital_status',\n",
       "       'ip_current_pcp_id'],\n",
       "      dtype='object')"
      ]
     },
     "execution_count": 7,
     "metadata": {},
     "output_type": "execute_result"
    }
   ],
   "source": [
    "ctrl_df.columns"
   ]
  },
  {
   "cell_type": "code",
   "execution_count": 8,
   "metadata": {},
   "outputs": [
    {
     "data": {
      "text/html": [
       "<div>\n",
       "<style scoped>\n",
       "    .dataframe tbody tr th:only-of-type {\n",
       "        vertical-align: middle;\n",
       "    }\n",
       "\n",
       "    .dataframe tbody tr th {\n",
       "        vertical-align: top;\n",
       "    }\n",
       "\n",
       "    .dataframe thead th {\n",
       "        text-align: right;\n",
       "    }\n",
       "</style>\n",
       "<table border=\"1\" class=\"dataframe\">\n",
       "  <thead>\n",
       "    <tr style=\"text-align: right;\">\n",
       "      <th></th>\n",
       "      <th>IP_PATIENT_ID</th>\n",
       "      <th>AGE</th>\n",
       "      <th>GENDER</th>\n",
       "      <th>RACE</th>\n",
       "      <th>ETHNICITY</th>\n",
       "      <th>VITAL_STATUS</th>\n",
       "      <th>PCP_IP_PROVIDER_ID</th>\n",
       "    </tr>\n",
       "  </thead>\n",
       "  <tbody>\n",
       "    <tr>\n",
       "      <th>0</th>\n",
       "      <td>190EEEB1D0D98BF512DCD2B38F698517</td>\n",
       "      <td>67.0</td>\n",
       "      <td>Male</td>\n",
       "      <td>White or Caucasian</td>\n",
       "      <td>Not Hispanic or Latino</td>\n",
       "      <td>Known Deceased</td>\n",
       "      <td>NaN</td>\n",
       "    </tr>\n",
       "    <tr>\n",
       "      <th>1</th>\n",
       "      <td>FB9E13C1092FC991E3B00FCE85989EF0</td>\n",
       "      <td>80.0</td>\n",
       "      <td>Male</td>\n",
       "      <td>Multiple Races</td>\n",
       "      <td>Not Hispanic or Latino</td>\n",
       "      <td>Not Known Deceased</td>\n",
       "      <td>NaN</td>\n",
       "    </tr>\n",
       "    <tr>\n",
       "      <th>2</th>\n",
       "      <td>A2631FE4BF2371ED63288EB31D6548DC</td>\n",
       "      <td>55.0</td>\n",
       "      <td>Male</td>\n",
       "      <td>White or Caucasian</td>\n",
       "      <td>Hispanic or Latino</td>\n",
       "      <td>Known Deceased</td>\n",
       "      <td>NaN</td>\n",
       "    </tr>\n",
       "    <tr>\n",
       "      <th>3</th>\n",
       "      <td>114407DC6649633A97CCC48FD55AB2AF</td>\n",
       "      <td>72.0</td>\n",
       "      <td>Female</td>\n",
       "      <td>White or Caucasian</td>\n",
       "      <td>Not Hispanic or Latino</td>\n",
       "      <td>Known Deceased</td>\n",
       "      <td>B1C0216BF2E41A7F33CB0DA86B803217</td>\n",
       "    </tr>\n",
       "    <tr>\n",
       "      <th>4</th>\n",
       "      <td>1CCBD8BC4942F9F047844B7FA81B0A8D</td>\n",
       "      <td>54.0</td>\n",
       "      <td>Female</td>\n",
       "      <td>White or Caucasian</td>\n",
       "      <td>Not Hispanic or Latino</td>\n",
       "      <td>Known Deceased</td>\n",
       "      <td>8B5A4CF933028CA7B0E43138455821CF</td>\n",
       "    </tr>\n",
       "    <tr>\n",
       "      <th>...</th>\n",
       "      <td>...</td>\n",
       "      <td>...</td>\n",
       "      <td>...</td>\n",
       "      <td>...</td>\n",
       "      <td>...</td>\n",
       "      <td>...</td>\n",
       "      <td>...</td>\n",
       "    </tr>\n",
       "    <tr>\n",
       "      <th>3592</th>\n",
       "      <td>D03D66FBBB29439AA2A673E3A31E5370</td>\n",
       "      <td>83.0</td>\n",
       "      <td>Male</td>\n",
       "      <td>White or Caucasian</td>\n",
       "      <td>Hispanic or Latino</td>\n",
       "      <td>Not Known Deceased</td>\n",
       "      <td>NaN</td>\n",
       "    </tr>\n",
       "    <tr>\n",
       "      <th>3593</th>\n",
       "      <td>CE2973055A83792F17A6953025E29287</td>\n",
       "      <td>44.0</td>\n",
       "      <td>Male</td>\n",
       "      <td>White or Caucasian</td>\n",
       "      <td>Not Hispanic or Latino</td>\n",
       "      <td>Not Known Deceased</td>\n",
       "      <td>B2B4D00F9F85108A48BCF3B7F185A5E1</td>\n",
       "    </tr>\n",
       "    <tr>\n",
       "      <th>3594</th>\n",
       "      <td>789738AF42B81299F1F23487CD994D34</td>\n",
       "      <td>69.0</td>\n",
       "      <td>Male</td>\n",
       "      <td>Other</td>\n",
       "      <td>Not Hispanic or Latino</td>\n",
       "      <td>Not Known Deceased</td>\n",
       "      <td>048B8CE66DF0780BE8E023007E5950AA</td>\n",
       "    </tr>\n",
       "    <tr>\n",
       "      <th>3595</th>\n",
       "      <td>05CFF6853353C77312C1E72FF32A5DAB</td>\n",
       "      <td>79.0</td>\n",
       "      <td>Female</td>\n",
       "      <td>White or Caucasian</td>\n",
       "      <td>Not Hispanic or Latino</td>\n",
       "      <td>Known Deceased</td>\n",
       "      <td>FC87B0D1C0DC30D9F85EB44615B8C0DB</td>\n",
       "    </tr>\n",
       "    <tr>\n",
       "      <th>3596</th>\n",
       "      <td>E3032EC403DFD1AF0CB0D900AA001E8F</td>\n",
       "      <td>78.0</td>\n",
       "      <td>Male</td>\n",
       "      <td>White or Caucasian</td>\n",
       "      <td>Not Hispanic or Latino</td>\n",
       "      <td>Known Deceased</td>\n",
       "      <td>NaN</td>\n",
       "    </tr>\n",
       "  </tbody>\n",
       "</table>\n",
       "<p>3597 rows × 7 columns</p>\n",
       "</div>"
      ],
      "text/plain": [
       "                         IP_PATIENT_ID   AGE  GENDER                RACE  \\\n",
       "0     190EEEB1D0D98BF512DCD2B38F698517  67.0    Male  White or Caucasian   \n",
       "1     FB9E13C1092FC991E3B00FCE85989EF0  80.0    Male      Multiple Races   \n",
       "2     A2631FE4BF2371ED63288EB31D6548DC  55.0    Male  White or Caucasian   \n",
       "3     114407DC6649633A97CCC48FD55AB2AF  72.0  Female  White or Caucasian   \n",
       "4     1CCBD8BC4942F9F047844B7FA81B0A8D  54.0  Female  White or Caucasian   \n",
       "...                                ...   ...     ...                 ...   \n",
       "3592  D03D66FBBB29439AA2A673E3A31E5370  83.0    Male  White or Caucasian   \n",
       "3593  CE2973055A83792F17A6953025E29287  44.0    Male  White or Caucasian   \n",
       "3594  789738AF42B81299F1F23487CD994D34  69.0    Male               Other   \n",
       "3595  05CFF6853353C77312C1E72FF32A5DAB  79.0  Female  White or Caucasian   \n",
       "3596  E3032EC403DFD1AF0CB0D900AA001E8F  78.0    Male  White or Caucasian   \n",
       "\n",
       "                   ETHNICITY        VITAL_STATUS  \\\n",
       "0     Not Hispanic or Latino      Known Deceased   \n",
       "1     Not Hispanic or Latino  Not Known Deceased   \n",
       "2         Hispanic or Latino      Known Deceased   \n",
       "3     Not Hispanic or Latino      Known Deceased   \n",
       "4     Not Hispanic or Latino      Known Deceased   \n",
       "...                      ...                 ...   \n",
       "3592      Hispanic or Latino  Not Known Deceased   \n",
       "3593  Not Hispanic or Latino  Not Known Deceased   \n",
       "3594  Not Hispanic or Latino  Not Known Deceased   \n",
       "3595  Not Hispanic or Latino      Known Deceased   \n",
       "3596  Not Hispanic or Latino      Known Deceased   \n",
       "\n",
       "                    PCP_IP_PROVIDER_ID  \n",
       "0                                  NaN  \n",
       "1                                  NaN  \n",
       "2                                  NaN  \n",
       "3     B1C0216BF2E41A7F33CB0DA86B803217  \n",
       "4     8B5A4CF933028CA7B0E43138455821CF  \n",
       "...                                ...  \n",
       "3592                               NaN  \n",
       "3593  B2B4D00F9F85108A48BCF3B7F185A5E1  \n",
       "3594  048B8CE66DF0780BE8E023007E5950AA  \n",
       "3595  FC87B0D1C0DC30D9F85EB44615B8C0DB  \n",
       "3596                               NaN  \n",
       "\n",
       "[3597 rows x 7 columns]"
      ]
     },
     "execution_count": 8,
     "metadata": {},
     "output_type": "execute_result"
    }
   ],
   "source": [
    "crrt_df"
   ]
  },
  {
   "cell_type": "code",
   "execution_count": 9,
   "metadata": {},
   "outputs": [
    {
     "data": {
      "text/html": [
       "<div>\n",
       "<style scoped>\n",
       "    .dataframe tbody tr th:only-of-type {\n",
       "        vertical-align: middle;\n",
       "    }\n",
       "\n",
       "    .dataframe tbody tr th {\n",
       "        vertical-align: top;\n",
       "    }\n",
       "\n",
       "    .dataframe thead th {\n",
       "        text-align: right;\n",
       "    }\n",
       "</style>\n",
       "<table border=\"1\" class=\"dataframe\">\n",
       "  <thead>\n",
       "    <tr style=\"text-align: right;\">\n",
       "      <th></th>\n",
       "      <th>ip_patient_id</th>\n",
       "      <th>age</th>\n",
       "      <th>sex</th>\n",
       "      <th>race</th>\n",
       "      <th>ethnicity</th>\n",
       "      <th>vital_status</th>\n",
       "      <th>ip_current_pcp_id</th>\n",
       "    </tr>\n",
       "  </thead>\n",
       "  <tbody>\n",
       "    <tr>\n",
       "      <th>0</th>\n",
       "      <td>00000064C94859EB973942C862550ABA</td>\n",
       "      <td>63</td>\n",
       "      <td>Male</td>\n",
       "      <td>White or Caucasian</td>\n",
       "      <td>Not Hispanic or Latino</td>\n",
       "      <td>Known Deceased</td>\n",
       "      <td>6AF0A1D73390C5FCE938515E33BDBBFF</td>\n",
       "    </tr>\n",
       "    <tr>\n",
       "      <th>1</th>\n",
       "      <td>000001070C909F1D89C349A52370F3C3</td>\n",
       "      <td>46</td>\n",
       "      <td>Female</td>\n",
       "      <td>White or Caucasian</td>\n",
       "      <td>Not Hispanic or Latino</td>\n",
       "      <td>Not Known Deceased</td>\n",
       "      <td>4D476A79BAEB708DF1F5A1BF78EF3C3A</td>\n",
       "    </tr>\n",
       "    <tr>\n",
       "      <th>2</th>\n",
       "      <td>000003BE051B025E04F32DBF8FF7334E</td>\n",
       "      <td>73</td>\n",
       "      <td>Female</td>\n",
       "      <td>Other</td>\n",
       "      <td>Hispanic or Latino</td>\n",
       "      <td>Not Known Deceased</td>\n",
       "      <td>2DB25CFD109B9AB9FCFEFBC06375B682</td>\n",
       "    </tr>\n",
       "    <tr>\n",
       "      <th>3</th>\n",
       "      <td>000005F8F2265713B8C18DE5C273D03B</td>\n",
       "      <td>45</td>\n",
       "      <td>Female</td>\n",
       "      <td>Black or African American</td>\n",
       "      <td>Not Hispanic or Latino</td>\n",
       "      <td>Not Known Deceased</td>\n",
       "      <td>28E01FBFB12BAD44D001B60F2DEC8A77</td>\n",
       "    </tr>\n",
       "    <tr>\n",
       "      <th>4</th>\n",
       "      <td>000008E26F8F14E5099662DDB778C698</td>\n",
       "      <td>30</td>\n",
       "      <td>Male</td>\n",
       "      <td>Asian</td>\n",
       "      <td>Not Hispanic or Latino</td>\n",
       "      <td>Known Deceased</td>\n",
       "      <td>NaN</td>\n",
       "    </tr>\n",
       "    <tr>\n",
       "      <th>...</th>\n",
       "      <td>...</td>\n",
       "      <td>...</td>\n",
       "      <td>...</td>\n",
       "      <td>...</td>\n",
       "      <td>...</td>\n",
       "      <td>...</td>\n",
       "      <td>...</td>\n",
       "    </tr>\n",
       "    <tr>\n",
       "      <th>4723</th>\n",
       "      <td>C91F02E25A3EBE4CD96F003668587FF9</td>\n",
       "      <td>77</td>\n",
       "      <td>Female</td>\n",
       "      <td>Black or African American</td>\n",
       "      <td>Hispanic or Latino</td>\n",
       "      <td>Not Known Deceased</td>\n",
       "      <td>NaN</td>\n",
       "    </tr>\n",
       "    <tr>\n",
       "      <th>4724</th>\n",
       "      <td>D2105B0EC7E6A4D4FE4370522C72B276</td>\n",
       "      <td>67</td>\n",
       "      <td>Female</td>\n",
       "      <td>White or Caucasian</td>\n",
       "      <td>Hispanic or Latino</td>\n",
       "      <td>Not Known Deceased</td>\n",
       "      <td>NaN</td>\n",
       "    </tr>\n",
       "    <tr>\n",
       "      <th>4725</th>\n",
       "      <td>F2B64924154BA4FA5D1123186135A1CE</td>\n",
       "      <td>71</td>\n",
       "      <td>Male</td>\n",
       "      <td>Black or African American</td>\n",
       "      <td>Not Hispanic or Latino</td>\n",
       "      <td>Not Known Deceased</td>\n",
       "      <td>NaN</td>\n",
       "    </tr>\n",
       "    <tr>\n",
       "      <th>4726</th>\n",
       "      <td>FE50F3FA3FDA9FC89C48C965D4743760</td>\n",
       "      <td>67</td>\n",
       "      <td>Female</td>\n",
       "      <td>Other</td>\n",
       "      <td>Hispanic or Latino</td>\n",
       "      <td>Known Deceased</td>\n",
       "      <td>NaN</td>\n",
       "    </tr>\n",
       "    <tr>\n",
       "      <th>4727</th>\n",
       "      <td>FFA9E015C8296AA2696A4BA7D0E7D55F</td>\n",
       "      <td>62</td>\n",
       "      <td>Male</td>\n",
       "      <td>White or Caucasian</td>\n",
       "      <td>Hispanic or Latino</td>\n",
       "      <td>Not Known Deceased</td>\n",
       "      <td>NaN</td>\n",
       "    </tr>\n",
       "  </tbody>\n",
       "</table>\n",
       "<p>4728 rows × 7 columns</p>\n",
       "</div>"
      ],
      "text/plain": [
       "                         ip_patient_id  age     sex  \\\n",
       "0     00000064C94859EB973942C862550ABA   63    Male   \n",
       "1     000001070C909F1D89C349A52370F3C3   46  Female   \n",
       "2     000003BE051B025E04F32DBF8FF7334E   73  Female   \n",
       "3     000005F8F2265713B8C18DE5C273D03B   45  Female   \n",
       "4     000008E26F8F14E5099662DDB778C698   30    Male   \n",
       "...                                ...  ...     ...   \n",
       "4723  C91F02E25A3EBE4CD96F003668587FF9   77  Female   \n",
       "4724  D2105B0EC7E6A4D4FE4370522C72B276   67  Female   \n",
       "4725  F2B64924154BA4FA5D1123186135A1CE   71    Male   \n",
       "4726  FE50F3FA3FDA9FC89C48C965D4743760   67  Female   \n",
       "4727  FFA9E015C8296AA2696A4BA7D0E7D55F   62    Male   \n",
       "\n",
       "                           race               ethnicity        vital_status  \\\n",
       "0            White or Caucasian  Not Hispanic or Latino      Known Deceased   \n",
       "1            White or Caucasian  Not Hispanic or Latino  Not Known Deceased   \n",
       "2                         Other      Hispanic or Latino  Not Known Deceased   \n",
       "3     Black or African American  Not Hispanic or Latino  Not Known Deceased   \n",
       "4                         Asian  Not Hispanic or Latino      Known Deceased   \n",
       "...                         ...                     ...                 ...   \n",
       "4723  Black or African American      Hispanic or Latino  Not Known Deceased   \n",
       "4724         White or Caucasian      Hispanic or Latino  Not Known Deceased   \n",
       "4725  Black or African American  Not Hispanic or Latino  Not Known Deceased   \n",
       "4726                      Other      Hispanic or Latino      Known Deceased   \n",
       "4727         White or Caucasian      Hispanic or Latino  Not Known Deceased   \n",
       "\n",
       "                     ip_current_pcp_id  \n",
       "0     6AF0A1D73390C5FCE938515E33BDBBFF  \n",
       "1     4D476A79BAEB708DF1F5A1BF78EF3C3A  \n",
       "2     2DB25CFD109B9AB9FCFEFBC06375B682  \n",
       "3     28E01FBFB12BAD44D001B60F2DEC8A77  \n",
       "4                                  NaN  \n",
       "...                                ...  \n",
       "4723                               NaN  \n",
       "4724                               NaN  \n",
       "4725                               NaN  \n",
       "4726                               NaN  \n",
       "4727                               NaN  \n",
       "\n",
       "[4728 rows x 7 columns]"
      ]
     },
     "execution_count": 9,
     "metadata": {},
     "output_type": "execute_result"
    }
   ],
   "source": [
    "ctrl_df"
   ]
  },
  {
   "attachments": {},
   "cell_type": "markdown",
   "metadata": {},
   "source": [
    "# Vitals\n",
    "The vital sign names seems to be mismatching between the crrt patients and controls at UCLA.\n",
    "\n",
    "Controls have `WEIGHT/SCALE` which is messing with splitting `SBP/DBP`."
   ]
  },
  {
   "cell_type": "code",
   "execution_count": null,
   "metadata": {},
   "outputs": [],
   "source": [
    "vitals = \"Flowsheet_Vitals.txt\"\n",
    "crrt_df = read_file(f\"{args.ucla_crrt_data_dir}/{vitals}\")\n",
    "ctrl_df = read_file(f\"{args.ucla_control_data_dir}/{vitals}\")"
   ]
  },
  {
   "cell_type": "code",
   "execution_count": 4,
   "metadata": {},
   "outputs": [
    {
     "data": {
      "text/plain": [
       "array(['SpO2', 'O2 Device', 'Temp', 'Height', 'BMI (Calculated)',\n",
       "       'Weight', 'Resp', 'BP', 'Pulse'], dtype=object)"
      ]
     },
     "execution_count": 4,
     "metadata": {},
     "output_type": "execute_result"
    }
   ],
   "source": [
    "crrt_df[\"VITAL_SIGN_TYPE\"].unique()"
   ]
  },
  {
   "cell_type": "code",
   "execution_count": 9,
   "metadata": {},
   "outputs": [
    {
     "data": {
      "text/plain": [
       "array(['PULSE', 'RESPIRATIONS', 'PULSE OXIMETRY', 'TEMPERATURE',\n",
       "       'BLOOD PRESSURE', 'R BMI', 'WEIGHT/SCALE', 'HEIGHT'], dtype=object)"
      ]
     },
     "execution_count": 9,
     "metadata": {},
     "output_type": "execute_result"
    }
   ],
   "source": [
    "ctrl_df[\"vital_sign_type\"].unique()"
   ]
  },
  {
   "attachments": {},
   "cell_type": "markdown",
   "metadata": {},
   "source": [
    "They all map except for O2 Device, which CRRT people have while controls do not."
   ]
  },
  {
   "cell_type": "code",
   "execution_count": 49,
   "metadata": {},
   "outputs": [
    {
     "data": {
      "text/plain": [
       "0        97\n",
       "4        87\n",
       "12       98\n",
       "13       98\n",
       "14       98\n",
       "         ..\n",
       "36517    98\n",
       "36520    99\n",
       "36522    98\n",
       "36525    99\n",
       "36530    99\n",
       "Name: VITAL_SIGN_VALUE, Length: 4128, dtype: object"
      ]
     },
     "execution_count": 49,
     "metadata": {},
     "output_type": "execute_result"
    }
   ],
   "source": [
    "crrt_df[crrt_df[\"VITAL_SIGN_TYPE\"] == \"SpO2\"][\"VITAL_SIGN_VALUE\"]"
   ]
  },
  {
   "cell_type": "code",
   "execution_count": 51,
   "metadata": {},
   "outputs": [
    {
     "data": {
      "text/plain": [
       "18            96\n",
       "19            96\n",
       "32           100\n",
       "33           100\n",
       "38            98\n",
       "            ... \n",
       "121784279    100\n",
       "121784285    100\n",
       "121784290    100\n",
       "121784293    100\n",
       "121784295    100\n",
       "Name: vital_sign_value, Length: 29890094, dtype: object"
      ]
     },
     "execution_count": 51,
     "metadata": {},
     "output_type": "execute_result"
    }
   ],
   "source": [
    "ctrl_df[ctrl_df[\"vital_sign_type\"] == \"PULSE OXIMETRY\"][\"vital_sign_value\"]"
   ]
  },
  {
   "cell_type": "code",
   "execution_count": 53,
   "metadata": {},
   "outputs": [
    {
     "data": {
      "text/plain": [
       "1                             Bi-PAP\n",
       "29             Mechanical Ventilator\n",
       "43                            Bi-PAP\n",
       "46             None (Room air);Trach\n",
       "57       Trach;Mechanical Ventilator\n",
       "                    ...             \n",
       "36498                None (Room air)\n",
       "36507      ETT;Mechanical Ventilator\n",
       "36508                None (Room air)\n",
       "36519    Trach;Mechanical Ventilator\n",
       "36533      ETT;Mechanical Ventilator\n",
       "Name: VITAL_SIGN_VALUE, Length: 4115, dtype: object"
      ]
     },
     "execution_count": 53,
     "metadata": {},
     "output_type": "execute_result"
    }
   ],
   "source": [
    "crrt_df[crrt_df[\"VITAL_SIGN_TYPE\"] == \"O2 Device\"][\"VITAL_SIGN_VALUE\"]"
   ]
  },
  {
   "attachments": {},
   "cell_type": "markdown",
   "metadata": {},
   "source": [
    "# Diagnoses"
   ]
  },
  {
   "cell_type": "code",
   "execution_count": 3,
   "metadata": {},
   "outputs": [],
   "source": [
    "pt = \"1E6D759D88A19B0CFFE1F2EF2B4238CD\"\n",
    "fname = \"Encounter_Diagnoses.txt\"\n",
    "crrt_df = read_file(f\"{args.ucla_crrt_data_dir}/{fname}\")\n",
    "ctrl_df = read_file(f\"{args.ucla_control_data_dir}/{fname}\")"
   ]
  },
  {
   "attachments": {},
   "cell_type": "markdown",
   "metadata": {},
   "source": [
    "## time difference of different explode procedures"
   ]
  },
  {
   "cell_type": "code",
   "execution_count": 26,
   "metadata": {},
   "outputs": [],
   "source": [
    "sample = crrt_df.sample(10000)\n",
    "sample[\"VITAL_SIGN_TYPE\"].replace(\n",
    "        {\"BP\": \"SBP/DBP\", \"BLOOD PRESSURE\": \"SBP/DBP\"}, inplace=True\n",
    "    )\n",
    "explode_cols = [\"VITAL_SIGN_VALUE\", \"VITAL_SIGN_TYPE\"]"
   ]
  },
  {
   "cell_type": "code",
   "execution_count": 30,
   "metadata": {},
   "outputs": [
    {
     "name": "stdout",
     "output_type": "stream",
     "text": [
      "22.5 ms ± 220 µs per loop (mean ± std. dev. of 7 runs, 100 loops each)\n"
     ]
    }
   ],
   "source": [
    "%%timeit -n 100\n",
    "\n",
    "(\n",
    "    sample.set_index(list(sample.columns.difference(explode_cols)))\n",
    "        .apply(lambda col: col.str.split(\"/\").explode())\n",
    "        .reset_index()\n",
    "        .reindex(sample.columns, axis=1)\n",
    ")"
   ]
  },
  {
   "cell_type": "code",
   "execution_count": 31,
   "metadata": {},
   "outputs": [
    {
     "name": "stdout",
     "output_type": "stream",
     "text": [
      "14.2 ms ± 60.8 µs per loop (mean ± std. dev. of 7 runs, 100 loops each)\n"
     ]
    }
   ],
   "source": [
    "%%timeit  -n 100\n",
    "b = (\n",
    "\tsample.apply(\n",
    "\t\tlambda col: col.str.split(\"/\") \n",
    "\t\tif col.name in explode_cols else col\n",
    "\t).explode(explode_cols)\n",
    ")"
   ]
  },
  {
   "cell_type": "code",
   "execution_count": 47,
   "metadata": {},
   "outputs": [
    {
     "data": {
      "text/plain": [
       "True"
      ]
     },
     "execution_count": 47,
     "metadata": {},
     "output_type": "execute_result"
    }
   ],
   "source": [
    "a = (\n",
    "    sample.set_index(list(sample.columns.difference(explode_cols)))\n",
    "        .apply(lambda col: col.str.split(\"/\").explode())\n",
    "        .reset_index()\n",
    "        .reindex(sample.columns, axis=1)\n",
    ")\n",
    "b = (\n",
    "\tsample.apply(\n",
    "\t\tlambda col: col.str.split(\"/\") \n",
    "\t\tif col.name in explode_cols else col\n",
    "\t).explode(explode_cols)\n",
    "    .reset_index(drop=True)  # reset index to be fair comparison\n",
    ")\n",
    "a.equals(b)"
   ]
  },
  {
   "attachments": {},
   "cell_type": "markdown",
   "metadata": {},
   "source": [
    "# Medications"
   ]
  },
  {
   "cell_type": "code",
   "execution_count": 6,
   "metadata": {},
   "outputs": [
    {
     "name": "stderr",
     "output_type": "stream",
     "text": [
      "/tmp/ipykernel_13597/2012365683.py:7: DtypeWarning: Columns (15) have mixed types. Specify dtype option on import or set low_memory=False.\n",
      "  df = read_csv(file)\n",
      "/tmp/ipykernel_13597/2012365683.py:9: DtypeWarning: Columns (12) have mixed types. Specify dtype option on import or set low_memory=False.\n",
      "  df = read_csv(file, on_bad_lines=\"skip\")\n"
     ]
    }
   ],
   "source": [
    "crrt_df = read_file(f\"{args.ucla_crrt_data_dir}/Medications.txt\")\n",
    "ctrl_df = read_file(f\"{args.ucla_control_data_dir}/Medications.txt\")"
   ]
  },
  {
   "cell_type": "code",
   "execution_count": 7,
   "metadata": {},
   "outputs": [
    {
     "data": {
      "text/plain": [
       "0          Heparins And Heparinoid-Like Agents\n",
       "1                              Opioid Agonists\n",
       "2                                          NaN\n",
       "3                                       Sodium\n",
       "4                                          NaN\n",
       "                          ...                 \n",
       "4286782     Bronchodilators - Anticholinergics\n",
       "4286783          Imidazole-Related Antifungals\n",
       "4286784          Imidazole-Related Antifungals\n",
       "4286785                   Glucocorticosteroids\n",
       "4286786                           Antitussives\n",
       "Name: PHARM_SUBCLASS, Length: 4286787, dtype: object"
      ]
     },
     "execution_count": 7,
     "metadata": {},
     "output_type": "execute_result"
    }
   ],
   "source": [
    "crrt_df[\"PHARM_SUBCLASS\"]"
   ]
  },
  {
   "cell_type": "code",
   "execution_count": 8,
   "metadata": {},
   "outputs": [
    {
     "data": {
      "text/plain": [
       "0                                   NaN\n",
       "1                                   NaN\n",
       "2                                   NaN\n",
       "3                                   NaN\n",
       "4                                   NaN\n",
       "                       ...             \n",
       "9414796                 Opioid Agonists\n",
       "9414797    Miscellaneous Contrast Media\n",
       "9414798                   Glycopeptides\n",
       "9414799      Anaphylaxis Therapy Agents\n",
       "9414800                Sympathomimetics\n",
       "Name: medispan_subclass_name, Length: 9414801, dtype: object"
      ]
     },
     "execution_count": 8,
     "metadata": {},
     "output_type": "execute_result"
    }
   ],
   "source": [
    "ctrl_df[\"medispan_subclass_name\"]"
   ]
  },
  {
   "cell_type": "code",
   "execution_count": null,
   "metadata": {},
   "outputs": [],
   "source": []
  }
 ],
 "metadata": {
  "kernelspec": {
   "display_name": "crrt",
   "language": "python",
   "name": "python3"
  },
  "language_info": {
   "codemirror_mode": {
    "name": "ipython",
    "version": 3
   },
   "file_extension": ".py",
   "mimetype": "text/x-python",
   "name": "python",
   "nbconvert_exporter": "python",
   "pygments_lexer": "ipython3",
   "version": "3.9.15"
  },
  "orig_nbformat": 4,
  "vscode": {
   "interpreter": {
    "hash": "3ec4323cdb57771f81a9fbb6644b264a95b8ef7a3669230ca02ff6d9a0ad522e"
   }
  }
 },
 "nbformat": 4,
 "nbformat_minor": 2
}
