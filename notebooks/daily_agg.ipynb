{
 "cells": [
  {
   "cell_type": "code",
   "execution_count": null,
   "metadata": {},
   "outputs": [],
   "source": [
    "import pandas as pd\n",
    "from os.path import join \n",
    "from os import getcwd\n",
    "import sys\n",
    "raw_data_dir = \"/home/davina/Private/dialysis-data\"\n",
    "vitals_file = \"Flowsheet_Vitals_19-000093_10082020.txt\"\n",
    "outcome_file = \"CRRT Deidentified 2017-2019.csv\"\n",
    "\n",
    "sys.path.insert(0, join(getcwd(), \"../module_code\"))\n",
    "from data.utils import read_files_and_combine\n",
    "from hcuppy.ccs import CCSEngine\n",
    "from hcuppy.cpt import CPT\n",
    "from data.longitudinal_utils import TIME_BEFORE_START_DATE\n",
    "from data.longitudinal_utils import (\n",
    "    aggregate_cat_feature,\n",
    "    aggregate_ctn_feature,\n",
    "    hcuppy_map_code,\n",
    "    time_window_mask,\n",
    "    AGGREGATE_FUNCTIONS,\n",
    ")\n",
    "from data.longitudinal_features import (\n",
    "    load_diagnoses,\n",
    "    load_vitals,\n",
    "    load_labs,\n",
    "    load_medications,\n",
    "    load_problems,\n",
    "    load_procedures,\n",
    "    split_sbp_and_dbp,\n",
    ")\n",
    "from data.load import load_outcomes, load_static_features"
   ]
  },
  {
   "cell_type": "code",
   "execution_count": null,
   "metadata": {},
   "outputs": [],
   "source": [
    "time_interval=None\n",
    "time_before_start_date = TIME_BEFORE_START_DATE\n",
    "time_window_end = \"End Date\"\n",
    "time_interval=\"1D\""
   ]
  },
  {
   "cell_type": "code",
   "execution_count": null,
   "metadata": {},
   "outputs": [],
   "source": [
    "outcomes_df = load_outcomes(raw_data_dir)\n"
   ]
  },
  {
   "cell_type": "code",
   "execution_count": null,
   "metadata": {},
   "outputs": [],
   "source": [
    "static_df = load_static_features(raw_data_dir)\n",
    "longitudinal_dfs = [\n",
    "load_diagnoses(\n",
    "\toutcomes_df,\n",
    "\traw_data_dir,\n",
    "\ttime_interval=time_interval,\n",
    "\ttime_before_start_date=time_before_start_date,\n",
    "\ttime_window_end=time_window_end,\n",
    "),\n",
    "load_vitals(\n",
    "\toutcomes_df,\n",
    "\traw_data_dir,\n",
    "\ttime_interval=time_interval,\n",
    "\ttime_before_start_date=time_before_start_date,\n",
    "\ttime_window_end=time_window_end,\n",
    ")\n",
    "# load_medications(\n",
    "# \toutcomes_df,\n",
    "# \traw_data_dir,\n",
    "# \ttime_interval=time_interval,\n",
    "# \ttime_before_start_date=time_before_start_date,\n",
    "# \ttime_window_end=time_window_end,\n",
    "# ),\n",
    "# load_labs(\n",
    "# \toutcomes_df,\n",
    "# \traw_data_dir,\n",
    "# \ttime_interval=time_interval,\n",
    "# \ttime_before_start_date=time_before_start_date,\n",
    "# \ttime_window_end=time_window_end,\n",
    "# ),\n",
    "# load_problems(\n",
    "# \toutcomes_df,\n",
    "# \traw_data_dir,\n",
    "# \ttime_interval=time_interval,\n",
    "# \ttime_before_start_date=time_before_start_date,\n",
    "# \ttime_window_end=time_window_end,\n",
    "# ),\n",
    "# load_procedures(\n",
    "# \toutcomes_df,\n",
    "# \traw_data_dir,\n",
    "# \ttime_interval=time_interval,\n",
    "# \ttime_before_start_date=time_before_start_date,\n",
    "# \ttime_window_end=time_window_end,\n",
    "# ),\n",
    "]\n",
    "\n",
    "# outer join features with each other so patients who might not have allergies,  for example, are still included\n",
    "# from functools import reduce\n",
    "# features = reduce(\n",
    "# lambda df1, df2: pd.merge(df1, df2, on=\"IP_PATIENT_ID\", how=\"outer\"),\n",
    "# longitudinal_dfs + [static_df],\n",
    "# )\n",
    "# # inner join features with outcomes (only patients with outcomes)\n",
    "# features_with_outcomes = pd.merge(\n",
    "# features, outcomes_df, on=\"IP_PATIENT_ID\", how=\"inner\"\n",
    "# )\n"
   ]
  },
  {
   "cell_type": "code",
   "execution_count": null,
   "metadata": {},
   "outputs": [],
   "source": [
    "longitudinal_dfs[1]"
   ]
  },
  {
   "cell_type": "code",
   "execution_count": null,
   "metadata": {},
   "outputs": [],
   "source": [
    "from functools import reduce\n",
    "merge_on = [\"IP_PATIENT_ID\", \"DATE\"] if time_interval else \"IP_PATIENT_ID\"\n",
    "features = reduce(\n",
    "        lambda df1, df2: pd.merge(df1, df2, on=merge_on, how=\"outer\"),\n",
    "        longitudinal_dfs\n",
    "    )\n"
   ]
  },
  {
   "cell_type": "code",
   "execution_count": null,
   "metadata": {},
   "outputs": [],
   "source": [
    "print(features.index.has_duplicates)\n",
    "features"
   ]
  },
  {
   "cell_type": "code",
   "execution_count": null,
   "metadata": {},
   "outputs": [],
   "source": [
    "features_with_static = features.join(static_df, how=\"outer\")\n",
    "# pd.concat([features, static_df], axis=1, join=\"outer\") ## different id order than join\n",
    "print(features_with_static.index.has_duplicates)\n",
    "features_with_static"
   ]
  },
  {
   "cell_type": "code",
   "execution_count": null,
   "metadata": {},
   "outputs": [],
   "source": [
    "working_outcomes_df = (\n",
    "    outcomes_df.dropna(subset=[\"IP_PATIENT_ID\"])\n",
    "    .drop_duplicates(subset=[\"IP_PATIENT_ID\"], keep=\"first\")\n",
    "    .set_index(\"IP_PATIENT_ID\")\n",
    ")\n",
    "# inner join features with outcomes (only patients with outcomes)\n",
    "# merge is incorrect here for the same reason as static\n",
    "features_with_outcomes = features.join(working_outcomes_df, how=\"inner\")\n",
    "# features.join(working_outcomes_df, how=\"inner\")"
   ]
  },
  {
   "cell_type": "code",
   "execution_count": null,
   "metadata": {},
   "outputs": [],
   "source": [
    "print(features_with_outcomes.index.has_duplicates)\n",
    "features_with_outcomes"
   ]
  },
  {
   "cell_type": "code",
   "execution_count": null,
   "metadata": {},
   "outputs": [],
   "source": [
    "features_with_outcomes.index.value_counts()"
   ]
  },
  {
   "cell_type": "code",
   "execution_count": null,
   "metadata": {},
   "outputs": [],
   "source": []
  }
 ],
 "metadata": {
  "interpreter": {
   "hash": "3b0121cddfc265515fd43ae413dcaecdb66437e41fc61bea817dc341620c202f"
  },
  "kernelspec": {
   "display_name": "Python 3.7.9 64-bit ('crrt': conda)",
   "name": "python3"
  },
  "language_info": {
   "codemirror_mode": {
    "name": "ipython",
    "version": 3
   },
   "file_extension": ".py",
   "mimetype": "text/x-python",
   "name": "python",
   "nbconvert_exporter": "python",
   "pygments_lexer": "ipython3",
   "version": "3.7.9"
  }
 },
 "nbformat": 4,
 "nbformat_minor": 2
}
