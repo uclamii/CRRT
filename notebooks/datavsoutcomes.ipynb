{
 "cells": [
  {
   "cell_type": "markdown",
   "metadata": {},
   "source": [
    "# Outcomes"
   ]
  },
  {
   "cell_type": "code",
   "execution_count": null,
   "metadata": {
    "execution": {
     "iopub.execute_input": "2021-07-01T05:54:06.559847Z",
     "iopub.status.busy": "2021-07-01T05:54:06.559197Z",
     "iopub.status.idle": "2021-07-01T05:54:06.833659Z",
     "shell.execute_reply": "2021-07-01T05:54:06.833106Z",
     "shell.execute_reply.started": "2021-07-01T05:54:06.559703Z"
    }
   },
   "outputs": [],
   "source": [
    "import pandas as pd\n",
    "data_dir = \"/home/davina/Private/dialysis-data\"\n",
    "outcome_file = \"CRRT Deidentified 2017-2019.csv\"\n",
    "\n",
    "# get first sheet only\n",
    "outcomes = pd.read_csv(f\"{data_dir}/{outcome_file}\")\n",
    "\n",
    "# Exclude pediatric data\n",
    "exclude_peds = outcomes[\"Hospital name\"] != \"UCLA MEDICAL CENTER- PEDIATRICS\"\n",
    "adult_outcomes = outcomes[exclude_peds]\n",
    "\n",
    "print(f\"N outcomes: {len(outcomes)}, N unique patients: {outcomes['IP_PATIENT_ID'].unique().shape[0]}\")\n",
    "print(f\"N missing patient ID: {outcomes['IP_PATIENT_ID'].isna().sum()} ({outcomes['IP_PATIENT_ID'].isna().mean():0.2f}%)\")\n",
    "\n",
    "print(f\"Number adults: {exclude_peds.sum()} ({exclude_peds.mean()*100:0.2f}%)\")\n",
    "print(f\"Number peds: {(~exclude_peds).sum()} ({(~exclude_peds).mean()*100:0.2f}%)\")"
   ]
  },
  {
   "cell_type": "code",
   "execution_count": null,
   "metadata": {},
   "outputs": [],
   "source": [
    "df =  read_files_and_combine([\"Patient_Demographics_19-000093_10082020.txt\"])"
   ]
  },
  {
   "cell_type": "code",
   "execution_count": null,
   "metadata": {},
   "outputs": [],
   "source": [
    "from IPython.display import display\n",
    "\n",
    "id_not_na = outcomes[outcomes[\"IP_PATIENT_ID\"].notna()]\n",
    "\n",
    "num_observations_for_patient = id_not_na.groupby(\"IP_PATIENT_ID\", dropna=False).size()\n",
    "pts_with_multiple_obs = num_observations_for_patient[num_observations_for_patient > 1]\n",
    "print(f\"count: {len(pts_with_multiple_obs)}, min: {pts_with_multiple_obs.min()}, max: {pts_with_multiple_obs.max()}\")\n",
    "\n",
    "duplicates = id_not_na[id_not_na[\"IP_PATIENT_ID\"].duplicated(keep=False)]\n",
    "duplicates.sort_values([\"IP_PATIENT_ID\", \"End Date\"])"
   ]
  },
  {
   "cell_type": "code",
   "execution_count": null,
   "metadata": {},
   "outputs": [],
   "source": [
    "def overlapping_treatments(df: pd.DataFrame) -> bool:\n",
    "    from datetime import timedelta\n",
    "    start_date = pd.to_datetime(df[\"End Date\"]) - df[\"CRRT Total Days\"].map(lambda days: timedelta(days=days))\n",
    "    next_start_date = start_date.shift(-1)\n",
    "    overlapping = not (pd.to_datetime(df[\"End Date\"]) <= next_start_date).iloc[:-1].all()\n",
    "    return overlapping\n",
    "\n",
    "overlapping = duplicates.groupby(\"IP_PATIENT_ID\").filter(overlapping_treatments)\n",
    "print(f\"N patients with overlapping treatments: {len(overlapping.drop_duplicates('IP_PATIENT_ID'))}\")\n",
    "overlapping.sort_values([\"IP_PATIENT_ID\", \"End Date\"])"
   ]
  },
  {
   "cell_type": "markdown",
   "metadata": {},
   "source": [
    "# Data"
   ]
  },
  {
   "cell_type": "code",
   "execution_count": null,
   "metadata": {},
   "outputs": [],
   "source": [
    "import sys\n",
    "import os\n",
    "sys.path.insert(0, os.path.join(os.getcwd(), \"../module_code\"))\n",
    "\n",
    "from data.utils import read_files_and_combine\n",
    "\n",
    "data_files = [\n",
    "    \"Allergies_19-000093_10082020.txt\",\n",
    "    \"Patient_Demographics_19-000093_10082020.txt\",\n",
    "    \"Social_History_19-000093_10082020.txt\",\n",
    "    \"enc_19-000093_10082020.txt\",\n",
    "    \"Encounter_Diagnoses_19-000093_10082020.txt\",\n",
    "    \"Encounters_19-000093_10082020.txt\",\n",
    "    \"Family_History_19-000093_10082020.txt\",\n",
    "    \"Flowsheet_Vitals_19-000093_10082020.txt\",\n",
    "    \"Hospital_Unit_Transfers_19-000093_10082020.txt\",\n",
    "    \"Labs_19-000093_10082020.txt\",\n",
    "    \"Medications_19-000093_10082020.txt\",\n",
    "    \"problem_list_diagnoses_19-000093_10082020.txt\",\n",
    "    \"Problem_Lists_19-000093_10082020.txt\",\n",
    "    \"Procedures_19-000093_10082020.txt\",\n",
    "]"
   ]
  },
  {
   "cell_type": "code",
   "execution_count": null,
   "metadata": {},
   "outputs": [],
   "source": [
    "for file in data_files:\n",
    "    df = read_files_and_combine([file])\n",
    "    merged = pd.merge(df, adult_outcomes, on=\"IP_PATIENT_ID\", how=\"inner\")\n",
    "    print(\"*\"*25 +  f\" {file.split('_')[0]} \" + \"*\" * 25)\n",
    "    print(f\"N entries: {len(df)}, N unique IDs: {len(df.drop_duplicates('IP_PATIENT_ID'))}\")\n",
    "    print(f\"MERGED WITH OUTCOME: N entries {len(merged)}, N unique IDs: {len(merged.drop_duplicates('IP_PATIENT_ID'))}\")\n",
    "    print(f\"Difference in # unique patients: {len(df.drop_duplicates('IP_PATIENT_ID'))  - len(merged.drop_duplicates('IP_PATIENT_ID'))}\")"
   ]
  },
  {
   "cell_type": "code",
   "execution_count": null,
   "metadata": {},
   "outputs": [],
   "source": []
  }
 ],
 "metadata": {
  "kernelspec": {
   "display_name": "crrt",
   "language": "python",
   "name": "crrt"
  },
  "language_info": {
   "codemirror_mode": {
    "name": "ipython",
    "version": 3
   },
   "file_extension": ".py",
   "mimetype": "text/x-python",
   "name": "python",
   "nbconvert_exporter": "python",
   "pygments_lexer": "ipython3",
   "version": "3.7.9"
  }
 },
 "nbformat": 4,
 "nbformat_minor": 4
}
