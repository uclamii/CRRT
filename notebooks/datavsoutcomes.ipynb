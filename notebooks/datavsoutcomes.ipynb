{
 "cells": [
  {
   "cell_type": "markdown",
   "metadata": {},
   "source": [
    "# Outcomes"
   ]
  },
  {
   "cell_type": "code",
   "execution_count": null,
   "metadata": {
    "execution": {
     "iopub.execute_input": "2021-07-01T05:54:06.559847Z",
     "iopub.status.busy": "2021-07-01T05:54:06.559197Z",
     "iopub.status.idle": "2021-07-01T05:54:06.833659Z",
     "shell.execute_reply": "2021-07-01T05:54:06.833106Z",
     "shell.execute_reply.started": "2021-07-01T05:54:06.559703Z"
    }
   },
   "outputs": [],
   "source": [
    "import pandas as pd\n",
    "from os.path import join\n",
    "data_dir = \"/home/davina/Private/crrt-data\"\n",
    "outcome_file = \"CRRT Deidentified 2015-2021YTD_VF.xlsx\"\n",
    "id_mapping_file = \"Patient_Identifiers.txt\"\n",
    "\n",
    "# get first sheet only\n",
    "# TODO: What's sheet 0? I don't see it in excel\n",
    "outcomes = pd.read_excel(join(data_dir, outcome_file), sheet_name=[\"Ped CRRT List\", \"2015-2021 YTD\"])\n",
    "peds_df = outcomes[\"Ped CRRT List\"]\n",
    "adult_df = outcomes[\"2015-2021 YTD\"]"
   ]
  },
  {
   "cell_type": "code",
   "execution_count": null,
   "metadata": {},
   "outputs": [],
   "source": [
    "not_missing_half_values = peds_df.isna().mean(axis=1) < 0.5\n",
    "drop_columns = [\"PAT_NAME\", \"DOSAGE\", \"HOSP_ADMSN_DATE\", \"HOSP_DISCH_DATE\", \"Unnamed: 5\", \"Unnamed: 14\"]\n",
    "processed_peds = peds_df[not_missing_half_values].drop(drop_columns, axis=1)\n",
    "processed_peds[\"Pediatric\"] = 1\n",
    "mrn_col_name = \"PAT_MRN_ID\""
   ]
  },
  {
   "cell_type": "code",
   "execution_count": null,
   "metadata": {},
   "outputs": [],
   "source": [
    "# processed_adult = adult_df.fillna(0).drop([\"Month\", \"Hospital name\", \"Unnamed: 11\"], axis=1).rename({\"Medical record number\": mrn_col_name}, axis=1)\n",
    "processed_adult = adult_df.fillna(0).drop([\"Month\", \"Unnamed: 11\"], axis=1).rename({\"Medical record number\": mrn_col_name}, axis=1)\n",
    "processed_adult[\"Pediatric\"] = 0"
   ]
  },
  {
   "cell_type": "code",
   "execution_count": null,
   "metadata": {},
   "outputs": [],
   "source": [
    "adult_and_peds_outcomes = pd.concat([processed_peds, processed_adult])\n",
    "adult_and_peds_outcomes[\"CRRT Year\"] =  pd.DatetimeIndex(adult_and_peds_outcomes[\"End Date\"]).year\n",
    "# map mrn to deidentified id by joining on mrn\n",
    "id_mapping_df = pd.read_csv(join(data_dir, id_mapping_file))\n",
    "adult_and_peds_outcomes = adult_and_peds_outcomes.merge(id_mapping_df, left_on=\"IP_PATIENT_ID\", right_on=\"IP_PATIENT_ID\", how=\"left\")"
   ]
  },
  {
   "cell_type": "code",
   "execution_count": null,
   "metadata": {},
   "outputs": [],
   "source": [
    "from datetime import timedelta\n",
    "#### Construct Start Date ####  -- For convenience of time-windows --\n",
    "# Enforce date column to datetime object\n",
    "adult_and_peds_outcomes[\"End Date\"] = pd.to_datetime(adult_and_peds_outcomes[\"End Date\"])\n",
    "\n",
    "# CRRT Start Date = End Date - (Days on CRRT - 1)\n",
    "# e.g. finish on the 10th and 3 days of CRRT: 8th (1), 9th (2), 10th (3)\n",
    "offset = adult_and_peds_outcomes[\"CRRT Total Days\"].map(lambda days: timedelta(days=days - 1))\n",
    "adult_and_peds_outcomes[\"Start Date\"] = adult_and_peds_outcomes[\"End Date\"] - offset"
   ]
  },
  {
   "cell_type": "code",
   "execution_count": null,
   "metadata": {},
   "outputs": [],
   "source": [
    "adult_and_peds_outcomes[\"Age at Start of CRRT\"] = (pd.DatetimeIndex(adult_and_peds_outcomes[\"Start Date\"])- pd.DatetimeIndex(adult_and_peds_outcomes[\"DOB\"])).days/365 \n",
    "\n",
    "is_minor = adult_and_peds_outcomes[\"Age at Start of CRRT\"] < 18\n",
    "not_peds = adult_and_peds_outcomes[\"Pediatric\"] == 0\n",
    "mask = is_minor & not_peds"
   ]
  },
  {
   "cell_type": "code",
   "execution_count": null,
   "metadata": {},
   "outputs": [],
   "source": [
    "import matplotlib.pyplot as plt\n",
    "age_from_pt_demographics = pd.read_csv(join(data_dir, \"Patient_Demographics.txt\"))[[\"IP_PATIENT_ID\", \"AGE\"]]\n",
    "age_from_dob = adult_and_peds_outcomes[[\"IP_PATIENT_ID\", \"Age at Start of CRRT\"]]\n",
    "age_values = age_from_pt_demographics.merge(age_from_dob, how=\"inner\", on=\"IP_PATIENT_ID\")\n",
    "age_diff = age_values[\"AGE\"] - age_values[\"Age at Start of CRRT\"]\n",
    "plt.hist(age_diff)"
   ]
  },
  {
   "cell_type": "code",
   "execution_count": null,
   "metadata": {},
   "outputs": [],
   "source": [
    "# peds patients do not overlap adults spreadsheet\n",
    "processed_peds[\"PAT_MRN_ID\"].isin(processed_adult[\"PAT_MRN_ID\"]).sum()"
   ]
  },
  {
   "cell_type": "code",
   "execution_count": null,
   "metadata": {},
   "outputs": [],
   "source": [
    "# NO DOB for peds sheet\n",
    "adult_and_peds_outcomes[adult_and_peds_outcomes[\"Pediatric\"] == 1][[\"DOB\", \"Start Date\", \"Age at Start of CRRT\"]]"
   ]
  },
  {
   "cell_type": "code",
   "execution_count": null,
   "metadata": {},
   "outputs": [],
   "source": [
    "# adult_and_peds_outcomes[is_minor | (adult_and_peds_outcomes['Hospital name'] == 'UCLA MEDICAL CENTER- PEDIATRICS')].to_csv(\"pediatrics_in_adult_sheet_outcomes.csv\")"
   ]
  },
  {
   "cell_type": "code",
   "execution_count": null,
   "metadata": {},
   "outputs": [],
   "source": [
    "adult_and_peds_outcomes[is_minor][[\"DOB\", \"Start Date\", \"Age at Start of CRRT\"]]"
   ]
  },
  {
   "cell_type": "code",
   "execution_count": null,
   "metadata": {},
   "outputs": [],
   "source": [
    "print(f\"There are {mask.sum()} patients who have a DOB that indicates they are less than 18 years of age at the time of CRRT Start Date but are not in the pediatric data sheet.\")\n",
    "print(f\"{(adult_and_peds_outcomes[mask]['Hospital name'] == 'UCLA MEDICAL CENTER- PEDIATRICS').sum()} of those patients indicate their hospital is pediatrics\")\n",
    "print(f\"The remaining minors in the adult sheet indicate the hospital as {adult_and_peds_outcomes[mask][adult_and_peds_outcomes['Hospital name'] != 'UCLA MEDICAL CENTER- PEDIATRICS']['Hospital name'].values}\")\n",
    "print(f\"There are a total of {(adult_and_peds_outcomes['Hospital name'] == 'UCLA MEDICAL CENTER- PEDIATRICS').sum()} patients in the adult sheet with peds hospital listed.\")"
   ]
  },
  {
   "cell_type": "code",
   "execution_count": null,
   "metadata": {},
   "outputs": [],
   "source": [
    "\n",
    "adult_and_peds_outcomes.drop([mrn_col_name, \"MRN\", \"DOB\"],axis=1, inplace=True)"
   ]
  },
  {
   "cell_type": "code",
   "execution_count": null,
   "metadata": {},
   "outputs": [],
   "source": [
    "# looks like there's no mapping for peds\n",
    "adult_and_peds_outcomes[adult_and_peds_outcomes[\"Pediatric\"] == 1][\"IP_PATIENT_ID\"].isna().all()"
   ]
  },
  {
   "cell_type": "code",
   "execution_count": null,
   "metadata": {},
   "outputs": [],
   "source": [
    "adult_and_peds_outcomes = pd.concat([processed_peds, processed_adult])\n",
    "adult_and_peds_outcomes[\"CRRT Year\"] =  pd.DatetimeIndex(adult_and_peds_outcomes[\"End Date\"]).year\n",
    "# map values\n",
    "adult_and_peds_outcomes[mrn_col_name] = adult_and_peds_outcomes[mrn_col_name].map(mapping)\n",
    "# Rename column from MRN to deidendified patient ID\n",
    "adult_and_peds_outcomes.rename(columns={mrn_col_name : \"IP_PATIENT_ID\"}, inplace=True)\n",
    "\n",
    "adult_and_peds_outcomes[adult_and_peds_outcomes[\"Pediatric\"] == 1][\"IP_PATIENT_ID\"].isna().all()"
   ]
  },
  {
   "cell_type": "code",
   "execution_count": null,
   "metadata": {},
   "outputs": [],
   "source": [
    "\n",
    "print(f\"N outcomes: {len(outcomes)}, N unique patients: {outcomes['IP_PATIENT_ID'].unique().shape[0]}\")\n",
    "print(f\"N missing patient ID: {outcomes['IP_PATIENT_ID'].isna().sum()} ({outcomes['IP_PATIENT_ID'].isna().mean():0.2f}%)\")\n",
    "\n",
    "print(f\"Number adults: {exclude_peds.sum()} ({exclude_peds.mean()*100:0.2f}%)\")\n",
    "print(f\"Number peds: {(~exclude_peds).sum()} ({(~exclude_peds).mean()*100:0.2f}%)\")"
   ]
  },
  {
   "cell_type": "code",
   "execution_count": null,
   "metadata": {},
   "outputs": [],
   "source": [
    "df =  read_files_and_combine([\"Patient_Demographics_19-000093_10082020.txt\"])"
   ]
  },
  {
   "cell_type": "code",
   "execution_count": null,
   "metadata": {},
   "outputs": [],
   "source": [
    "from IPython.display import display\n",
    "\n",
    "id_not_na = outcomes[outcomes[\"IP_PATIENT_ID\"].notna()]\n",
    "\n",
    "num_observations_for_patient = id_not_na.groupby(\"IP_PATIENT_ID\", dropna=False).size()\n",
    "pts_with_multiple_obs = num_observations_for_patient[num_observations_for_patient > 1]\n",
    "print(f\"count: {len(pts_with_multiple_obs)}, min: {pts_with_multiple_obs.min()}, max: {pts_with_multiple_obs.max()}\")\n",
    "\n",
    "duplicates = id_not_na[id_not_na[\"IP_PATIENT_ID\"].duplicated(keep=False)]\n",
    "duplicates.sort_values([\"IP_PATIENT_ID\", \"End Date\"])"
   ]
  },
  {
   "cell_type": "code",
   "execution_count": null,
   "metadata": {},
   "outputs": [],
   "source": [
    "def overlapping_treatments(df: pd.DataFrame) -> bool:\n",
    "    from datetime import timedelta\n",
    "    start_date = pd.to_datetime(df[\"End Date\"]) - df[\"CRRT Total Days\"].map(lambda days: timedelta(days=days))\n",
    "    next_start_date = start_date.shift(-1)\n",
    "    overlapping = not (pd.to_datetime(df[\"End Date\"]) <= next_start_date).iloc[:-1].all()\n",
    "    return overlapping\n",
    "\n",
    "overlapping = duplicates.groupby(\"IP_PATIENT_ID\").filter(overlapping_treatments)\n",
    "print(f\"N patients with overlapping treatments: {len(overlapping.drop_duplicates('IP_PATIENT_ID'))}\")\n",
    "overlapping.sort_values([\"IP_PATIENT_ID\", \"End Date\"])"
   ]
  },
  {
   "cell_type": "markdown",
   "metadata": {},
   "source": [
    "# Data"
   ]
  },
  {
   "cell_type": "code",
   "execution_count": null,
   "metadata": {},
   "outputs": [],
   "source": [
    "import sys\n",
    "import os\n",
    "sys.path.insert(0, os.path.join(os.getcwd(), \"../module_code\"))\n",
    "\n",
    "from data.utils import read_files_and_combine\n",
    "\n",
    "data_files = [\n",
    "    \"Allergies_19-000093_10082020.txt\",\n",
    "    \"Patient_Demographics_19-000093_10082020.txt\",\n",
    "    \"Social_History_19-000093_10082020.txt\",\n",
    "    \"enc_19-000093_10082020.txt\",\n",
    "    \"Encounter_Diagnoses_19-000093_10082020.txt\",\n",
    "    \"Encounters_19-000093_10082020.txt\",\n",
    "    \"Family_History_19-000093_10082020.txt\",\n",
    "    \"Flowsheet_Vitals_19-000093_10082020.txt\",\n",
    "    \"Hospital_Unit_Transfers_19-000093_10082020.txt\",\n",
    "    \"Labs_19-000093_10082020.txt\",\n",
    "    \"Medications_19-000093_10082020.txt\",\n",
    "    \"problem_list_diagnoses_19-000093_10082020.txt\",\n",
    "    \"Problem_Lists_19-000093_10082020.txt\",\n",
    "    \"Procedures_19-000093_10082020.txt\",\n",
    "]"
   ]
  },
  {
   "cell_type": "code",
   "execution_count": null,
   "metadata": {},
   "outputs": [],
   "source": [
    "for file in data_files:\n",
    "    df = read_files_and_combine([file])\n",
    "    merged = pd.merge(df, adult_outcomes, on=\"IP_PATIENT_ID\", how=\"inner\")\n",
    "    print(\"*\"*25 +  f\" {file.split('_')[0]} \" + \"*\" * 25)\n",
    "    print(f\"N entries: {len(df)}, N unique IDs: {len(df.drop_duplicates('IP_PATIENT_ID'))}\")\n",
    "    print(f\"MERGED WITH OUTCOME: N entries {len(merged)}, N unique IDs: {len(merged.drop_duplicates('IP_PATIENT_ID'))}\")\n",
    "    print(f\"Difference in # unique patients: {len(df.drop_duplicates('IP_PATIENT_ID'))  - len(merged.drop_duplicates('IP_PATIENT_ID'))}\")"
   ]
  },
  {
   "cell_type": "code",
   "execution_count": null,
   "metadata": {},
   "outputs": [],
   "source": []
  }
 ],
 "metadata": {
  "interpreter": {
   "hash": "3b0121cddfc265515fd43ae413dcaecdb66437e41fc61bea817dc341620c202f"
  },
  "kernelspec": {
   "display_name": "crrt",
   "language": "python",
   "name": "python3"
  },
  "language_info": {
   "codemirror_mode": {
    "name": "ipython",
    "version": 3
   },
   "file_extension": ".py",
   "mimetype": "text/x-python",
   "name": "python",
   "nbconvert_exporter": "python",
   "pygments_lexer": "ipython3",
   "version": "3.7.11"
  }
 },
 "nbformat": 4,
 "nbformat_minor": 4
}
