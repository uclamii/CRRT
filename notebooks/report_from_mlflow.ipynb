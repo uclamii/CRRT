{
 "cells": [
  {
   "cell_type": "code",
   "execution_count": null,
   "metadata": {},
   "outputs": [],
   "source": [
    "from mlflow.tracking import MlflowClient\n",
    "import pandas as pd\n",
    "mlflow_path = \"/home/davina/Private/repos/CRRT/mlruns\"\n",
    "client = MlflowClient(mlflow_path)\n",
    "adult_run_id = \"ad70333e489c457386c53d079028454b\"\n",
    "peds_run_id = \"ed0cfbb4ff654c78b61a2299137e5864\""
   ]
  },
  {
   "cell_type": "code",
   "execution_count": null,
   "metadata": {},
   "outputs": [],
   "source": [
    "import seaborn as sns\n",
    "import matplotlib.pyplot as plt\n",
    "import numpy as np\n",
    "\n",
    "run = client.get_run(adult_run_id)\n",
    "metrics = run.data.metrics"
   ]
  },
  {
   "cell_type": "code",
   "execution_count": null,
   "metadata": {},
   "outputs": [],
   "source": [
    "from os.path import join\n",
    "experiment_id = client.get_experiment_by_name(\"static_learning\").experiment_id\n",
    "pd.read_csv(join(mlflow_path, experiment_id, run.info.run_id, \"artifacts\", \"xgb_test__dist_comparison_table.txt\"), sep=\"\\t\")"
   ]
  },
  {
   "cell_type": "code",
   "execution_count": null,
   "metadata": {},
   "outputs": [],
   "source": [
    "for subgroup in [\"\", \"_heart\", \"_liver\", \"_infection\"]:\n",
    "    prefix = f\"xgb_test{subgroup}\"\n",
    "\n",
    "    ### Confusion Matrix ###\n",
    "    confusion_matrix = np.reshape(\n",
    "        [\n",
    "            metrics[v] for v in \n",
    "            [ f\"{prefix}__TP\", f\"{prefix}__FP\", f\"{prefix}__FN\", f\"{prefix}__TN\" ]\n",
    "        ],\n",
    "        (-1,2)\n",
    "    )\n",
    "    # ref: https://stackoverflow.com/a/29648332/1888794\n",
    "    ax = sns.heatmap(confusion_matrix, annot=True, fmt=\"g\", cmap='Blues', cbar=False)\n",
    "    subgroup = \"_all\" if subgroup == \"\" else subgroup\n",
    "    ax.set_title('Confusion Matrix' + subgroup.replace(\"_\", \": \")+ '\\n');\n",
    "    ax.set_ylabel('\\nPredicted Values')\n",
    "    ax.set_xlabel('Actual Values ');\n",
    "\n",
    "    ax.xaxis.set_ticklabels([\"Recommend\", \"Not Recommend\"])\n",
    "    ax.yaxis.set_ticklabels([\"Recommend\", \"Not Recommend\"])\n",
    "\n",
    "    ## Display the visualization of the Confusion Matrix.\n",
    "    plt.show()"
   ]
  },
  {
   "cell_type": "code",
   "execution_count": null,
   "metadata": {},
   "outputs": [],
   "source": [
    "table = {}\n",
    "\n",
    "for metric_name in [\"accuracy\", \"ap\", \"auroc\", \"brier\", \"precision\", \"recall\"]:\n",
    "    table[metric_name] = {}\n",
    "    for subgroup in [\"\", \"_heart\", \"_liver\", \"_infection\"]:\n",
    "        prefix = f\"xgb_test{subgroup}\"\n",
    "        subgroup = \"all\" if subgroup == \"\" else subgroup\n",
    "        table[metric_name][subgroup.replace(\"_\",\"\")] = metrics[f\"{prefix}__{metric_name}\"]\n",
    "pd.DataFrame(table)"
   ]
  },
  {
   "cell_type": "code",
   "execution_count": null,
   "metadata": {},
   "outputs": [],
   "source": []
  }
 ],
 "metadata": {
  "kernelspec": {
   "display_name": "Python 3.9.13 ('crrt')",
   "language": "python",
   "name": "python3"
  },
  "language_info": {
   "codemirror_mode": {
    "name": "ipython",
    "version": 3
   },
   "file_extension": ".py",
   "mimetype": "text/x-python",
   "name": "python",
   "nbconvert_exporter": "python",
   "pygments_lexer": "ipython3",
   "version": "3.9.13"
  },
  "vscode": {
   "interpreter": {
    "hash": "3ec4323cdb57771f81a9fbb6644b264a95b8ef7a3669230ca02ff6d9a0ad522e"
   }
  }
 },
 "nbformat": 4,
 "nbformat_minor": 2
}
