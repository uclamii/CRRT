{
 "cells": [
  {
   "cell_type": "code",
   "execution_count": null,
   "metadata": {},
   "outputs": [],
   "source": [
    "from mlflow.tracking import MlflowClient\n",
    "import pandas as pd\n",
    "client = MlflowClient(\"/home/davina/Private/repos/CRRT/mlruns\")\n",
    "adult_run_id = \"893e3293e5ab4d1d80051066fe40f245\"\n",
    "peds_run_id = \"ed0cfbb4ff654c78b61a2299137e5864\""
   ]
  },
  {
   "cell_type": "code",
   "execution_count": null,
   "metadata": {},
   "outputs": [],
   "source": [
    "import seaborn as sns\n",
    "import matplotlib.pyplot as plt\n",
    "import numpy as np\n",
    "\n",
    "run = client.get_run(adult_run_id)\n",
    "metrics = run.data.metrics\n",
    "\n",
    "for subgroup in [\"\", \"_heart\", \"_liver\", \"_infection\"]:\n",
    "    prefix = f\"xgb_test{subgroup}\"\n",
    "\n",
    "    ### Confusion Matrix ###\n",
    "    confusion_matrix = np.reshape(\n",
    "        [\n",
    "            metrics[v] for v in \n",
    "            [ f\"{prefix}__TP\", f\"{prefix}__FP\", f\"{prefix}__FN\", f\"{prefix}__TN\" ]\n",
    "        ],\n",
    "        (-1,2)\n",
    "    )\n",
    "    # ref: https://stackoverflow.com/a/29648332/1888794\n",
    "    ax = sns.heatmap(confusion_matrix, annot=True, fmt=\"g\", cmap='Blues', cbar=False)\n",
    "    subgroup = \"_all\" if subgroup == \"\" else subgroup\n",
    "    ax.set_title('Confusion Matrix' + subgroup.replace(\"_\", \": \")+ '\\n');\n",
    "    ax.set_ylabel('\\nPredicted Values')\n",
    "    ax.set_xlabel('Actual Values ');\n",
    "\n",
    "    ax.xaxis.set_ticklabels([\"Recommend\", \"Not Recommend\"])\n",
    "    ax.yaxis.set_ticklabels([\"Recommend\", \"Not Recommend\"])\n",
    "\n",
    "    ## Display the visualization of the Confusion Matrix.\n",
    "    plt.show()"
   ]
  },
  {
   "cell_type": "code",
   "execution_count": null,
   "metadata": {},
   "outputs": [],
   "source": [
    "table = {}\n",
    "\n",
    "for metric_name in [\"accuracy\", \"ap\", \"auroc\", \"brier\", \"precision\", \"recall\"]:\n",
    "    table[metric_name] = {}\n",
    "    for subgroup in [\"\", \"_heart\", \"_liver\", \"_infection\"]:\n",
    "        prefix = f\"xgb_test{subgroup}\"\n",
    "        subgroup = \"all\" if subgroup == \"\" else subgroup\n",
    "        table[metric_name][subgroup.replace(\"_\",\"\")] = metrics[f\"{prefix}__{metric_name}\"]\n",
    "pd.DataFrame(table)"
   ]
  },
  {
   "cell_type": "code",
   "execution_count": null,
   "metadata": {},
   "outputs": [],
   "source": []
  }
 ],
 "metadata": {
  "interpreter": {
   "hash": "3b0121cddfc265515fd43ae413dcaecdb66437e41fc61bea817dc341620c202f"
  },
  "kernelspec": {
   "display_name": "Python 3.7.11 ('crrt')",
   "language": "python",
   "name": "python3"
  },
  "language_info": {
   "codemirror_mode": {
    "name": "ipython",
    "version": 3
   },
   "file_extension": ".py",
   "mimetype": "text/x-python",
   "name": "python",
   "nbconvert_exporter": "python",
   "pygments_lexer": "ipython3",
   "version": "3.7.11"
  }
 },
 "nbformat": 4,
 "nbformat_minor": 2
}
