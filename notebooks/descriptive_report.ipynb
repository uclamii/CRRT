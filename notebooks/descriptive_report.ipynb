{
 "cells": [
  {
   "cell_type": "code",
   "execution_count": null,
   "metadata": {},
   "outputs": [],
   "source": [
    "import sys\n",
    "from os import getcwd\n",
    "from os.path import join\n",
    "import pandas as pd\n",
    "sys.path.insert(0, join(getcwd(), \"../module_code\"))\n",
    "\n",
    "from data.load import load_data, load_outcomes\n",
    "from cli_utils import load_cli_args, init_cli_args\n",
    "\n",
    "sys.argv = [sys.argv[0]]\n",
    "load_cli_args(\"../options.yml\")\n",
    "args = init_cli_args()"
   ]
  },
  {
   "attachments": {},
   "cell_type": "markdown",
   "metadata": {},
   "source": [
    "# Outcomes"
   ]
  },
  {
   "cell_type": "code",
   "execution_count": null,
   "metadata": {},
   "outputs": [],
   "source": [
    "outcomes = load_outcomes(args.ucla_crrt_data_dir, [\"IP_PATIENT_ID\", \"Start Date\"])"
   ]
  },
  {
   "cell_type": "code",
   "execution_count": null,
   "metadata": {},
   "outputs": [],
   "source": [
    "outcomes.columns"
   ]
  },
  {
   "cell_type": "code",
   "execution_count": null,
   "metadata": {},
   "outputs": [],
   "source": [
    "granular_outcome = outcomes[[\"Recov. renal funct.\", \"Transitioned to HD\", \"Comfort Care\", \"Expired \"]].idxmax(axis=1)\n",
    "binary_outcome = outcomes[\"recommend_crrt\"]"
   ]
  },
  {
   "cell_type": "code",
   "execution_count": null,
   "metadata": {},
   "outputs": [],
   "source": [
    "import matplotlib.pyplot as plt\n",
    "import seaborn as sns\n",
    "counts = granular_outcome.value_counts()\n",
    "# https://matplotlib.org/stable/api/_as_gen/matplotlib.pyplot.pie.html\n",
    "plt.pie(\n",
    "    counts,\n",
    "    # autopct=\"%1.1f%%\",\n",
    "    labels=counts.index,\n",
    "    autopct=lambda p : '{:.2f}%  ({:,.0f})'.format(p,p * sum(counts)/100),\n",
    "    # https://seaborn.pydata.org/tutorial/color_palettes.html\n",
    "    colors=[\n",
    "        sns.color_palette(\"mako\")[-1],\n",
    "        sns.color_palette(\"rocket\")[-1],\n",
    "        sns.color_palette(\"rocket\")[-3],\n",
    "        sns.color_palette(\"mako\")[-3],\n",
    "    ]\n",
    ")\n",
    "plt.show()\n",
    "\n",
    "counts = binary_outcome.value_counts()\n",
    "# plt.pie(counts,  \n",
    "plt.pie(\n",
    "    counts,\n",
    "    # autopct=\"%1.1f%%\",\n",
    "    autopct=lambda p : '{:.2f}%  ({:,.0f})'.format(p,p * sum(counts)/100),\n",
    "    labels=[\"Recomment CRRT\", \"Do Not Recommend CRRT\", ],\n",
    "    colors=[\n",
    "            sns.color_palette(\"mako\")[-3],\n",
    "            sns.color_palette(\"rocket\")[-3],\n",
    "    ],\n",
    "    startangle=300\n",
    ")\n",
    "plt.show()"
   ]
  },
  {
   "cell_type": "code",
   "execution_count": null,
   "metadata": {},
   "outputs": [],
   "source": [
    "import numpy as np\n",
    "# Ref: https://stackoverflow.com/a/68107816/1888794\n",
    "fig, ax = plt.subplots()\n",
    "bin_names = [\"Recommend CRRT\", \"Do Not\\nRecommend CRRT\"]\n",
    "granular_names = ['Recov. renal funct.', 'Transitioned to HD', 'Comfort Care', 'Expired ']\n",
    "counts = granular_outcome.value_counts()[granular_names]\n",
    "bin_counts = binary_outcome.value_counts()\n",
    "\n",
    "cmap = plt.colormaps[\"tab20c\"]\n",
    "outer_colors = cmap(np.arange(3)*4)\n",
    "inner_colors = cmap([1, 2, 5, 6, 9, 10])\n",
    "\n",
    "width=0.6\n",
    "ax.bar([\"UCLA: CRRT\"], bin_counts[1], width=-width, label=bin_names[0], align=\"edge\", color=outer_colors[0])  # the names are reverse\n",
    "ax.bar([\"UCLA: CRRT\"], bin_counts[0], width=-width, bottom=bin_counts[1], label=bin_names[1], align=\"edge\", color=outer_colors[1])\n",
    "\n",
    "bottom = 0\n",
    "for i in range(len(counts)):\n",
    "    if i>0:\n",
    "        bottom += counts[i-1]\n",
    "    ax.bar([\"UCLA: CRRT\"], counts[i], width=width, bottom=bottom, label=granular_names[i], align=\"edge\", color=inner_colors[i])  # the names are reverse\n",
    "\n",
    "\n",
    "ax.bar([\"UCLA: Control\"], 3623, width=width, label=\"Do Not\\nRecommend CRRT\", color=outer_colors[1])  # the names are reverse\n",
    "\n",
    "# this is hacky af but whatever\n",
    "i = 0\n",
    "for bars in ax.containers:\n",
    "    padding = -40 if bars.get_label() == \"Do Not\\nRecommend CRRT\" else -30\n",
    "    total = sum(bin_counts) if i <= 5 else 3623\n",
    "    ax.bar_label(bars, padding=padding, labels=[f'{x} ({x/total:.1%})\\n{bars.get_label()}' for x in bars.datavalues])\n",
    "    i += 1    \n",
    "\n",
    "ax.set_ylabel(\"Count of Samples\")\n",
    "ax.set_title(\"Outcome Breakdown\")\n",
    "\n",
    "plt.show()\n",
    "plt.savefig(\"outcome_breakdown.eps\", format=\"eps\")"
   ]
  },
  {
   "cell_type": "code",
   "execution_count": null,
   "metadata": {},
   "outputs": [],
   "source": [
    "import numpy as np\n",
    "size = 0.5\n",
    "fig, ax = plt.subplots()\n",
    "\n",
    "# ensure correct order\n",
    "counts = granular_outcome.value_counts()[['Recov. renal funct.', 'Transitioned to HD', 'Comfort Care', 'Expired ']]\n",
    "bin_counts = binary_outcome.value_counts()\n",
    "cmap = plt.colormaps[\"tab20c\"]\n",
    "outer_colors = cmap(np.arange(3)*4)\n",
    "inner_colors = cmap([1, 2, 5, 6, 9, 10])\n",
    "\n",
    "bin_outcomes = [\"Recommend CRRT\", \"Do Not Recommend CRRT\"]\n",
    "outerwedges, outertexts, outerautotexts = ax.pie(\n",
    "    bin_counts,\n",
    "    radius=1,\n",
    "    autopct=lambda p : '{:.2f}%\\n({:,.0f})'.format(p,p * sum(bin_counts)/100),\n",
    "    labels=bin_outcomes,\n",
    "    wedgeprops=dict(width=size, edgecolor='w'),\n",
    "    colors=outer_colors,\n",
    ")\n",
    "\n",
    "innerwedges, innertexts, innerautotexts = ax.pie(\n",
    "    counts,\n",
    "    # autopct=\"%1.1f%%\",\n",
    "    # labels=counts.index,\n",
    "    radius=1-size,\n",
    "    # labeldistance=0.9,\n",
    "    autopct=lambda p : '{:.2f}%\\n({:,.0f})'.format(p,p * sum(counts)/100),\n",
    "    wedgeprops=dict(width=size, edgecolor='w'),\n",
    "    colors=inner_colors,\n",
    ")\n",
    "\n",
    "# bbox_props = dict(boxstyle=\"square,pad=0.3\", fc=\"w\", ec=\"k\", lw=0.72)\n",
    "# kw = dict(arrowprops=dict(arrowstyle=\"-\"), bbox=bbox_props, zorder=0, va=\"center\")\n",
    "kw = dict(arrowprops=dict(arrowstyle=\"-\"), zorder=0, va=\"center\")\n",
    "for i, p in enumerate(innerwedges):\n",
    "    ang = (p.theta2 - p.theta1)/2. + p.theta1\n",
    "    y = np.sin(np.deg2rad(ang))\n",
    "    x = np.cos(np.deg2rad(ang))\n",
    "    horizontalalignment = {-1: \"right\", 1: \"left\"}[int(np.sign(x))]\n",
    "    connectionstyle = f\"angle,angleA=0,angleB={ang}\"\n",
    "    kw[\"arrowprops\"].update({\"connectionstyle\": connectionstyle})\n",
    "    ax.annotate(counts.index[i], xy=(x, y), xytext=(1.35*np.sign(x), 1.4*y), horizontalalignment=horizontalalignment, **kw)\n",
    "\n",
    "ax.set(aspect='equal')\n",
    "ax.legend(innerwedges, counts.index, loc=(-0.2, 0.1))\n",
    "# plt.setp(innerautotexts, size=8, weight=\"bold\")\n",
    "plt.show()"
   ]
  },
  {
   "attachments": {},
   "cell_type": "markdown",
   "metadata": {},
   "source": [
    "# Dataset"
   ]
  },
  {
   "cell_type": "code",
   "execution_count": null,
   "metadata": {},
   "outputs": [],
   "source": [
    "ucla_crrt_df = load_data(args, \"ucla_crrt\")\n",
    "ucla_control_df = load_data(args, \"ucla_control\")\n",
    "cedars_crrt_df = load_data(args, \"cedars_crrt\")"
   ]
  },
  {
   "cell_type": "code",
   "execution_count": null,
   "metadata": {},
   "outputs": [],
   "source": [
    "ucla_control_df"
   ]
  },
  {
   "cell_type": "code",
   "execution_count": null,
   "metadata": {},
   "outputs": [],
   "source": [
    "ucla_crrt_df"
   ]
  },
  {
   "attachments": {},
   "cell_type": "markdown",
   "metadata": {},
   "source": [
    "# Patient Type"
   ]
  },
  {
   "cell_type": "code",
   "execution_count": null,
   "metadata": {},
   "outputs": [],
   "source": [
    "import upsetplot\n",
    "from matplotlib import cm\n",
    "import matplotlib.pyplot as plt\n",
    "import pandas as pd\n",
    "def plot_upsetplot(preprocessed_df: pd.DataFrame, cohort: str, colnames: list[str]):\n",
    "    fig = plt.figure(figsize=(10, 30))\n",
    "    indicator_cols = preprocessed_df[colnames].astype(bool)\n",
    "    data = pd.concat([indicator_cols, preprocessed_df[\"recommend_crrt\"]],axis=1).replace({0: \"Do not recommend CRRT\", 1: \"Recommend CRRT\"})\n",
    "    myplot = upsetplot.UpSet(data.set_index(colnames), intersection_plot_elements=0, show_counts=True, show_percentages=True, element_size=50)\n",
    "    myplot.add_stacked_bars(by=\"recommend_crrt\", colors=cm.Set2, elements=10)\n",
    "    myplot.plot()\n",
    "    plt.title(f\"{cohort} Patient Type Breakdown\")\n",
    "    plt.show()"
   ]
  },
  {
   "cell_type": "code",
   "execution_count": null,
   "metadata": {},
   "outputs": [],
   "source": [
    "race_cols = ucla_crrt_df.columns[ucla_crrt_df.columns.str.contains(\"RACE_\")].to_list()\n",
    "race_cols"
   ]
  },
  {
   "cell_type": "code",
   "execution_count": null,
   "metadata": {},
   "outputs": [],
   "source": [
    "disease_groups =  [f\"{name}_pt_indicator\" for name in [\"heart\", \"liver\", \"infection\"]]\n",
    "for columns in [disease_groups, race_cols]:\n",
    "    plot_upsetplot(ucla_crrt_df, \"UCLA CRRT\", columns)\n",
    "    plot_upsetplot(ucla_control_df, \"UCLA Control\", columns)"
   ]
  },
  {
   "cell_type": "markdown",
   "metadata": {},
   "source": [
    "## Numerical Breakdown"
   ]
  },
  {
   "cell_type": "code",
   "execution_count": null,
   "metadata": {},
   "outputs": [],
   "source": [
    "myplot.total"
   ]
  },
  {
   "cell_type": "code",
   "execution_count": null,
   "metadata": {},
   "outputs": [],
   "source": [
    "print(ucla_crrt_df[\"recommend_crrt\"].value_counts())\n",
    "print(ucla_crrt_df[\"recommend_crrt\"].value_counts(normalize=True)*100)"
   ]
  },
  {
   "cell_type": "code",
   "execution_count": null,
   "metadata": {},
   "outputs": [],
   "source": [
    "from IPython.display import display\n",
    "for table in [myplot.totals, myplot.intersections]:\n",
    "    display(pd.concat([table.rename(\"N\"), (table/myplot.total*100).rename(\"%\")], axis=1), )"
   ]
  },
  {
   "cell_type": "code",
   "execution_count": null,
   "metadata": {},
   "outputs": [],
   "source": [
    "df = myplot._df.set_index(\"recommend_crrt\", append=True, drop=False)\n",
    "gb = df.groupby(level=list(range(df.index.nlevels)), sort=True)\n",
    "counts = gb.size()\n",
    "# percents = counts / df.groupby(level=list(range(df.index.nlevels - 2)), sort=True) * 100\n",
    "percents = counts / myplot.intersections * 100\n",
    "pd.concat([counts.rename(\"N\"), percents.rename(\"%\")], axis=1)"
   ]
  },
  {
   "cell_type": "code",
   "execution_count": null,
   "metadata": {},
   "outputs": [],
   "source": [
    "ucla_crrt_stats = ucla_crrt_df.describe()\n",
    "ucla_control_stats = ucla_control_df.describe()\n",
    "cedars_crrt_stats = cedars_crrt_df.describe()"
   ]
  },
  {
   "cell_type": "code",
   "execution_count": null,
   "metadata": {},
   "outputs": [],
   "source": [
    "def compare_vars(var, d1, d2):\n",
    "    d1[var].dropna().plot(kind=\"hist\", title=var)\n",
    "    plt.show()\n",
    "    d2[var].dropna().plot(kind=\"hist\", title=var)\n",
    "    plt.show()\n",
    "compare_vars(\"C-REACTIVE PROTEIN_mean\", ucla_crrt_df, cedars_crrt_df)\n",
    "compare_vars(\"Weight_mean\", ucla_crrt_df, cedars_crrt_df)"
   ]
  },
  {
   "cell_type": "code",
   "execution_count": null,
   "metadata": {},
   "outputs": [],
   "source": [
    "def compare_stats(s1, s2):\n",
    "    diff = s1 - s2\n",
    "    diff = diff.dropna(how=\"all\", axis=1)\n",
    "    diff.loc[\"mean\"][abs(diff.loc[\"mean\"]) > 10].plot(style=\".\", rot=90)\n",
    "    plt.show()\n",
    "    # display(diff)\n",
    "    display(diff.loc[\"mean\"][abs(diff.loc[\"mean\"]) > 10])\n",
    "    return diff\n",
    "compare_stats(ucla_crrt_stats, cedars_crrt_stats)\n",
    "compare_stats(ucla_crrt_stats, ucla_control_stats)"
   ]
  },
  {
   "cell_type": "markdown",
   "metadata": {},
   "source": [
    "# MISSING Data"
   ]
  },
  {
   "cell_type": "code",
   "execution_count": null,
   "metadata": {},
   "outputs": [],
   "source": [
    "tmp_df = ucla_crrt_df.drop(ucla_crrt_df.columns[ucla_crrt_df.columns.str.contains(\"^Unnamed\")], axis=1)\n",
    "def print_missing_info(filter = None):\n",
    "    if filter is not None:\n",
    "        total_notmissing = sum(~tmp_df[filter].isna().any(axis=1))\n",
    "    else:\n",
    "        total_notmissing = sum(~tmp_df.isna().any(axis=1))\n",
    "    print(f\"Number of patients not missing any data: {total_notmissing}, ({total_notmissing/tmp_df.shape[0] * 100}%)\")\n",
    "print(\"All\")\n",
    "print_missing_info()"
   ]
  },
  {
   "cell_type": "code",
   "execution_count": null,
   "metadata": {},
   "outputs": [],
   "source": [
    "(tmp_df.drop([\"infection_pt_indicator\", \"liver_pt_indicator\", \"heart_pt_indicator\", \"recommend_crrt\", \"CRRT Year\"], axis=1).isna().mean() * 100).sort_values()\n",
    "\n",
    "# column_mask = pd.read_pickle(join(\"/home/davina/Private/repos/CRRT\", \"local_data\",\"data_transform.pkl\")).__self__.named_steps[\n",
    "#                 \"feature-selection\"\n",
    "#             ].get_support()\n",
    "column_mask = pd.read_pickle(join(\"/home/davina/Private/repos/CRRT\", \"selected_columns.pkl\"))\n",
    "\n",
    "# tmp_df[tmp_df.drop(\"recommend_crrt\",axis=1).columns[column_mask]].drop([\"infection_pt_indicator\", \"liver_pt_indicator\", \"heart_pt_indicator\"], axis=1)\n",
    "\n",
    "amount_missing = tmp_df.drop(\"recommend_crrt\",axis=1)[column_mask].isna().mean().sort_values()\n",
    "amount_missing.name = \"% Missing\"\n",
    "amount_missing.index.name = \"Variables\"\n",
    "(amount_missing*100).to_csv(join(\"/home/davina/Private/repos/CRRT\", \"variables_and_amount_missing.csv\"))\n",
    "amount_missing"
   ]
  },
  {
   "cell_type": "code",
   "execution_count": null,
   "metadata": {},
   "outputs": [],
   "source": [
    "tmp_df[tmp_df.columns[tmp_df.columns.str.contains(\"_na\")]].mean()"
   ]
  },
  {
   "cell_type": "code",
   "execution_count": null,
   "metadata": {},
   "outputs": [],
   "source": [
    "import pandas as pd\n",
    "percent_missing_per_feature = tmp_df.isna().sum() / tmp_df.shape[0] * 100\n",
    "percents = pd.Series([10, 25, 50], name=\">= Percent Missing\")\n",
    "counts = pd.Series([(percent_missing_per_feature >= (p/100)).sum() for p in percents])\n",
    "\n",
    "pd.DataFrame(counts, index=percents)"
   ]
  }
 ],
 "metadata": {
  "kernelspec": {
   "display_name": "crrt",
   "language": "python",
   "name": "crrt"
  },
  "language_info": {
   "codemirror_mode": {
    "name": "ipython",
    "version": 3
   },
   "file_extension": ".py",
   "mimetype": "text/x-python",
   "name": "python",
   "nbconvert_exporter": "python",
   "pygments_lexer": "ipython3",
   "version": "3.9.15"
  },
  "vscode": {
   "interpreter": {
    "hash": "3ec4323cdb57771f81a9fbb6644b264a95b8ef7a3669230ca02ff6d9a0ad522e"
   }
  }
 },
 "nbformat": 4,
 "nbformat_minor": 2
}
