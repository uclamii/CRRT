{
 "cells": [
  {
   "cell_type": "code",
   "execution_count": null,
   "metadata": {},
   "outputs": [],
   "source": [
    "import sys\n",
    "from os import getcwd\n",
    "from os.path import join\n",
    "import pandas as pd\n",
    "sys.path.insert(0, join(getcwd(), \"../module_code\"))\n",
    "\n",
    "from data.load import load_data, load_outcomes\n",
    "from cli_utils import load_cli_args, init_cli_args\n",
    "\n",
    "sys.argv = [sys.argv[0]]\n",
    "load_cli_args(\"../options.yml\")\n",
    "args = init_cli_args()"
   ]
  },
  {
   "attachments": {},
   "cell_type": "markdown",
   "metadata": {},
   "source": [
    "# Outcomes"
   ]
  },
  {
   "cell_type": "code",
   "execution_count": null,
   "metadata": {},
   "outputs": [],
   "source": [
    "outcomes = load_outcomes(args.ucla_crrt_data_dir, [\"IP_PATIENT_ID\", \"Start Date\"])"
   ]
  },
  {
   "cell_type": "code",
   "execution_count": null,
   "metadata": {},
   "outputs": [],
   "source": [
    "granular_outcome = outcomes[[\"Recov. renal funct.\", \"Transitioned to HD\", \"Comfort Care\", \"Expired \"]].idxmax(axis=1)\n",
    "binary_outcome = outcomes[\"recommend_crrt\"]"
   ]
  },
  {
   "cell_type": "code",
   "execution_count": null,
   "metadata": {},
   "outputs": [],
   "source": [
    "import matplotlib.pyplot as plt\n",
    "import seaborn as sns\n",
    "counts = granular_outcome.value_counts()\n",
    "# https://matplotlib.org/stable/api/_as_gen/matplotlib.pyplot.pie.html\n",
    "plt.pie(counts, labels=counts.index, autopct=\"%1.1f%%\",\n",
    "    # https://seaborn.pydata.org/tutorial/color_palettes.html\n",
    "    colors=[\n",
    "        sns.color_palette(\"mako\")[-1],\n",
    "        sns.color_palette(\"rocket\")[-1],\n",
    "        sns.color_palette(\"rocket\")[-3],\n",
    "        sns.color_palette(\"mako\")[-3],\n",
    "    ]\n",
    ")\n",
    "plt.show()\n",
    "\n",
    "counts = binary_outcome.value_counts()\n",
    "plt.pie(counts,  autopct=\"%1.1f%%\",\n",
    "    labels=[\"Recomment CRRT\", \"Do Not Recommend CRRT\", ],\n",
    "    colors=[\n",
    "            sns.color_palette(\"mako\")[-3],\n",
    "            sns.color_palette(\"rocket\")[-3],\n",
    "    ],\n",
    "    startangle=300\n",
    ")\n",
    "plt.show()"
   ]
  },
  {
   "attachments": {},
   "cell_type": "markdown",
   "metadata": {},
   "source": [
    "# Dataset"
   ]
  },
  {
   "cell_type": "code",
   "execution_count": null,
   "metadata": {},
   "outputs": [],
   "source": [
    "preprocessed_df = load_data(args, \"ucla_crrt\")"
   ]
  },
  {
   "cell_type": "markdown",
   "metadata": {},
   "source": [
    "# Patient Type\n",
    "- heart\n",
    "- liver\n",
    "- infection"
   ]
  },
  {
   "cell_type": "code",
   "execution_count": null,
   "metadata": {},
   "outputs": [],
   "source": [
    "myplot.subset_legend"
   ]
  },
  {
   "cell_type": "code",
   "execution_count": null,
   "metadata": {},
   "outputs": [],
   "source": [
    "import upsetplot\n",
    "from matplotlib import cm\n",
    "import matplotlib.pyplot as plt\n",
    "import pandas as pd\n",
    "groups = [\"heart\", \"liver\", \"infection\"]\n",
    "fig = plt.figure(figsize=(10, 30))\n",
    "colnames =  [f\"{name}_pt_indicator\" for name in groups]\n",
    "indicator_cols = preprocessed_df[colnames].astype(bool)\n",
    "data = pd.concat([indicator_cols, preprocessed_df[\"recommend_crrt\"]],axis=1).replace({0: \"Do not recommend CRRT\", 1: \"Recommend CRRT\"})\n",
    "myplot = upsetplot.UpSet(data.set_index(colnames), intersection_plot_elements=0, show_counts=True, show_percentages=True, element_size=50)\n",
    "myplot.add_stacked_bars(by=\"recommend_crrt\", colors=cm.Set2, elements=10)\n",
    "myplot.plot()"
   ]
  },
  {
   "cell_type": "markdown",
   "metadata": {},
   "source": [
    "## Numerical Breakdown"
   ]
  },
  {
   "cell_type": "code",
   "execution_count": null,
   "metadata": {},
   "outputs": [],
   "source": [
    "myplot.total"
   ]
  },
  {
   "cell_type": "code",
   "execution_count": null,
   "metadata": {},
   "outputs": [],
   "source": [
    "print(preprocessed_df[\"recommend_crrt\"].value_counts())\n",
    "print(preprocessed_df[\"recommend_crrt\"].value_counts(normalize=True)*100)"
   ]
  },
  {
   "cell_type": "code",
   "execution_count": null,
   "metadata": {},
   "outputs": [],
   "source": [
    "from IPython.display import display\n",
    "for table in [myplot.totals, myplot.intersections]:\n",
    "    display(pd.concat([table.rename(\"N\"), (table/myplot.total*100).rename(\"%\")], axis=1), )"
   ]
  },
  {
   "cell_type": "code",
   "execution_count": null,
   "metadata": {},
   "outputs": [],
   "source": [
    "df = myplot._df.set_index(\"recommend_crrt\", append=True, drop=False)\n",
    "gb = df.groupby(level=list(range(df.index.nlevels)), sort=True)\n",
    "counts = gb.size()\n",
    "# percents = counts / df.groupby(level=list(range(df.index.nlevels - 2)), sort=True) * 100\n",
    "percents = counts / myplot.intersections * 100\n",
    "pd.concat([counts.rename(\"N\"), percents.rename(\"%\")], axis=1)"
   ]
  },
  {
   "cell_type": "markdown",
   "metadata": {},
   "source": [
    "# MISSING Data"
   ]
  },
  {
   "cell_type": "code",
   "execution_count": null,
   "metadata": {},
   "outputs": [],
   "source": [
    "tmp_df = preprocessed_df.drop(preprocessed_df.columns[preprocessed_df.columns.str.contains(\"^Unnamed\")], axis=1)\n",
    "def print_missing_info(filter = None):\n",
    "    if filter is not None:\n",
    "        total_notmissing = sum(~tmp_df[filter].isna().any(axis=1))\n",
    "    else:\n",
    "        total_notmissing = sum(~tmp_df.isna().any(axis=1))\n",
    "    print(f\"Number of patients not missing any data: {total_notmissing}, ({total_notmissing/tmp_df.shape[0] * 100}%)\")\n",
    "print(\"All\")\n",
    "print_missing_info()"
   ]
  },
  {
   "cell_type": "code",
   "execution_count": null,
   "metadata": {},
   "outputs": [],
   "source": [
    "(tmp_df.drop([\"infection_pt_indicator\", \"liver_pt_indicator\", \"heart_pt_indicator\", \"recommend_crrt\", \"CRRT Year\"], axis=1).isna().mean() * 100).sort_values()\n",
    "\n",
    "# column_mask = pd.read_pickle(join(\"/home/davina/Private/repos/CRRT\", \"local_data\",\"data_transform.pkl\")).__self__.named_steps[\n",
    "#                 \"feature-selection\"\n",
    "#             ].get_support()\n",
    "column_mask = pd.read_pickle(join(\"/home/davina/Private/repos/CRRT\", \"selected_columns.pkl\"))\n",
    "\n",
    "# tmp_df[tmp_df.drop(\"recommend_crrt\",axis=1).columns[column_mask]].drop([\"infection_pt_indicator\", \"liver_pt_indicator\", \"heart_pt_indicator\"], axis=1)\n",
    "\n",
    "amount_missing = tmp_df.drop(\"recommend_crrt\",axis=1)[column_mask].isna().mean().sort_values()\n",
    "amount_missing.name = \"% Missing\"\n",
    "amount_missing.index.name = \"Variables\"\n",
    "(amount_missing*100).to_csv(join(\"/home/davina/Private/repos/CRRT\", \"variables_and_amount_missing.csv\"))\n",
    "amount_missing"
   ]
  },
  {
   "cell_type": "code",
   "execution_count": null,
   "metadata": {},
   "outputs": [],
   "source": [
    "tmp_df[tmp_df.columns[tmp_df.columns.str.contains(\"_na\")]].mean()"
   ]
  },
  {
   "cell_type": "code",
   "execution_count": null,
   "metadata": {},
   "outputs": [],
   "source": [
    "import pandas as pd\n",
    "percent_missing_per_feature = tmp_df.isna().sum() / tmp_df.shape[0] * 100\n",
    "percents = pd.Series([10, 25, 50], name=\">= Percent Missing\")\n",
    "counts = pd.Series([(percent_missing_per_feature >= (p/100)).sum() for p in percents])\n",
    "\n",
    "pd.DataFrame(counts, index=percents)"
   ]
  }
 ],
 "metadata": {
  "kernelspec": {
   "display_name": "Python 3.9.13 ('crrt')",
   "language": "python",
   "name": "python3"
  },
  "language_info": {
   "codemirror_mode": {
    "name": "ipython",
    "version": 3
   },
   "file_extension": ".py",
   "mimetype": "text/x-python",
   "name": "python",
   "nbconvert_exporter": "python",
   "pygments_lexer": "ipython3",
   "version": "3.9.13 | packaged by conda-forge | (main, May 27 2022, 16:56:21) \n[GCC 10.3.0]"
  },
  "vscode": {
   "interpreter": {
    "hash": "3ec4323cdb57771f81a9fbb6644b264a95b8ef7a3669230ca02ff6d9a0ad522e"
   }
  }
 },
 "nbformat": 4,
 "nbformat_minor": 2
}
