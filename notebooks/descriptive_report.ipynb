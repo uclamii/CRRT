{
 "cells": [
  {
   "cell_type": "code",
   "execution_count": null,
   "metadata": {},
   "outputs": [],
   "source": [
    "import sys\n",
    "from os import getcwd\n",
    "from os.path import join\n",
    "sys.path.insert(0, join(getcwd(), \"../module_code\"))\n",
    "\n",
    "from data.load import load_data\n",
    "from utils import load_cli_args, init_cli_args\n",
    "\n",
    "sys.argv = [sys.argv[0]]\n",
    "load_cli_args(\"../options.yml\")\n",
    "args = init_cli_args()\n",
    "preprocessed_df = load_data(args)"
   ]
  },
  {
   "cell_type": "markdown",
   "metadata": {},
   "source": [
    "# Patient Type\n",
    "- heart\n",
    "- liver\n",
    "- infection"
   ]
  },
  {
   "cell_type": "code",
   "execution_count": null,
   "metadata": {},
   "outputs": [],
   "source": [
    "myplot.subset_legend"
   ]
  },
  {
   "cell_type": "code",
   "execution_count": null,
   "metadata": {},
   "outputs": [],
   "source": [
    "import upsetplot\n",
    "from matplotlib import cm\n",
    "import matplotlib.pyplot as plt\n",
    "import pandas as pd\n",
    "groups = [\"heart\", \"liver\", \"infection\"]\n",
    "fig = plt.figure(figsize=(10, 30))\n",
    "colnames =  [f\"{name}_pt_indicator\" for name in groups]\n",
    "indicator_cols = preprocessed_df[colnames].astype(bool)\n",
    "data = pd.concat([indicator_cols, preprocessed_df[\"recommend_crrt\"]],axis=1).replace({0: \"Do not recommend CRRT\", 1: \"Recommend CRRT\"})\n",
    "myplot = upsetplot.UpSet(data.set_index(colnames), intersection_plot_elements=0, show_counts=True, show_percentages=True, element_size=50)\n",
    "myplot.add_stacked_bars(by=\"recommend_crrt\", colors=cm.Set2, elements=10)\n",
    "myplot.plot()"
   ]
  },
  {
   "cell_type": "markdown",
   "metadata": {},
   "source": [
    "## Numerical Breakdown"
   ]
  },
  {
   "cell_type": "code",
   "execution_count": null,
   "metadata": {},
   "outputs": [],
   "source": [
    "myplot.total"
   ]
  },
  {
   "cell_type": "code",
   "execution_count": null,
   "metadata": {},
   "outputs": [],
   "source": [
    "from IPython.display import display\n",
    "for table in [myplot.totals, myplot.intersections]:\n",
    "    display(pd.concat([table.rename(\"N\"), (table/myplot.total*100).rename(\"%\")], axis=1), )"
   ]
  },
  {
   "cell_type": "code",
   "execution_count": null,
   "metadata": {},
   "outputs": [],
   "source": [
    "df = myplot._df.set_index(\"recommend_crrt\", append=True, drop=False)\n",
    "gb = df.groupby(level=list(range(df.index.nlevels)), sort=True)\n",
    "counts = gb.size()\n",
    "# percents = counts / df.groupby(level=list(range(df.index.nlevels - 2)), sort=True) * 100\n",
    "percents = counts / myplot.intersections * 100\n",
    "pd.concat([counts.rename(\"N\"), percents.rename(\"%\")], axis=1)"
   ]
  },
  {
   "cell_type": "code",
   "execution_count": null,
   "metadata": {},
   "outputs": [],
   "source": []
  }
 ],
 "metadata": {
  "interpreter": {
   "hash": "3b0121cddfc265515fd43ae413dcaecdb66437e41fc61bea817dc341620c202f"
  },
  "kernelspec": {
   "display_name": "Python 3.7.11 ('crrt')",
   "language": "python",
   "name": "python3"
  },
  "language_info": {
   "codemirror_mode": {
    "name": "ipython",
    "version": 3
   },
   "file_extension": ".py",
   "mimetype": "text/x-python",
   "name": "python",
   "nbconvert_exporter": "python",
   "pygments_lexer": "ipython3",
   "version": "3.7.11"
  }
 },
 "nbformat": 4,
 "nbformat_minor": 2
}
