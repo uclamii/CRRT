{
 "cells": [
  {
   "cell_type": "code",
   "execution_count": null,
   "id": "7f32afc5",
   "metadata": {},
   "outputs": [],
   "source": [
    "import sys\n",
    "sys.path.append(r\"C:\\Users\\arvin\\dev\\crrt\\CRRT\\module_code\")\n",
    "from data.utils import DATA_DIR\n",
    "from data.preprocess import preprocess_data\n",
    "from data.load import merge_features_with_outcome, generate_ts_features\n",
    "from data.longitudinal_utils import TIME_WINDOW\n",
    "from exp.cv import run_cv\n",
    "import pandas as pd\n",
    "import time\n",
    "import os\n",
    "import numpy as np"
   ]
  },
  {
   "cell_type": "code",
   "execution_count": null,
   "id": "df0066e0",
   "metadata": {},
   "outputs": [],
   "source": [
    "print(TIME_WINDOW)"
   ]
  },
  {
   "cell_type": "code",
   "execution_count": null,
   "id": "4bc366e9",
   "metadata": {},
   "outputs": [],
   "source": [
    "lst_cols=[]"
   ]
  },
  {
   "cell_type": "code",
   "execution_count": null,
   "id": "3ac11400",
   "metadata": {},
   "outputs": [],
   "source": [
    "# TODO: check about duplicate patient ids in generated df\n",
    "for days in range(1,8,1):\n",
    "    print(\"Time Window: {}\".format(days))\n",
    "    file = \"combined_ts_df_tw_m0_d\" + str(days) + \".feather\"\n",
    "    time_window = {'DAYS': days}\n",
    "    try:\n",
    "        # raise IOError\n",
    "        df = pd.read_feather(os.path.join(DATA_DIR, file))\n",
    "        print(df.shape)\n",
    "        lst_cols.append(list(df.columns))\n",
    "    except IOError:\n",
    "        print(\"Preprocessed file does not exist! Creating...\")\n",
    "        start_time = time.time()\n",
    "        df = generate_ts_features(time_window=time_window)  # 140s ~2.5 mins\n",
    "        print(f\"Loading took {time.time() - start_time} seconds.\")\n",
    "        df.to_feather(os.path.join(DATA_DIR, file))"
   ]
  },
  {
   "cell_type": "code",
   "execution_count": null,
   "id": "46bc0114",
   "metadata": {},
   "outputs": [],
   "source": [
    "for i in range(len(lst_cols)):\n",
    "    cur_set = set(lst_cols[i])\n",
    "    rest_lst = [lst_cols[j] for j in range(len(lst_cols)) if i != j]\n",
    "    rest_lst = [it for lst in rest_lst for it in lst]\n",
    "    rest_set = set(rest_lst)\n",
    "    diff = cur_set.difference(rest_set)\n",
    "    print(\"Day: {}, cur_set length: {}, intersection length: {}\".format(i, len(cur_set), len(diff)))\n",
    "    #print(diff)"
   ]
  },
  {
   "cell_type": "code",
   "execution_count": null,
   "id": "76401c77",
   "metadata": {},
   "outputs": [],
   "source": []
  }
 ],
 "metadata": {
  "kernelspec": {
   "display_name": "Python 3",
   "language": "python",
   "name": "python3"
  },
  "language_info": {
   "codemirror_mode": {
    "name": "ipython",
    "version": 3
   },
   "file_extension": ".py",
   "mimetype": "text/x-python",
   "name": "python",
   "nbconvert_exporter": "python",
   "pygments_lexer": "ipython3",
   "version": "3.6.8"
  }
 },
 "nbformat": 4,
 "nbformat_minor": 5
}
