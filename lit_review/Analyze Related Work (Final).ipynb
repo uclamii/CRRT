{
 "cells": [
  {
   "cell_type": "code",
   "execution_count": null,
   "id": "b4c76211",
   "metadata": {},
   "outputs": [],
   "source": [
    "import pandas as pd\n",
    "import pprint"
   ]
  },
  {
   "cell_type": "markdown",
   "id": "dc4fb14a",
   "metadata": {},
   "source": [
    "### Load Spreadsheet with Related Work Info (features separated by commas)"
   ]
  },
  {
   "cell_type": "code",
   "execution_count": null,
   "id": "0a3c6849",
   "metadata": {},
   "outputs": [],
   "source": [
    "file = \"/Users/arvin/Downloads/CRRT Related Work - Sheet1.csv\""
   ]
  },
  {
   "cell_type": "code",
   "execution_count": null,
   "id": "b0b15975",
   "metadata": {},
   "outputs": [],
   "source": [
    "df = pd.read_csv(file, index_col=None)"
   ]
  },
  {
   "cell_type": "code",
   "execution_count": null,
   "id": "f2e06090",
   "metadata": {},
   "outputs": [],
   "source": [
    "df"
   ]
  },
  {
   "cell_type": "markdown",
   "id": "2b6377a0",
   "metadata": {},
   "source": [
    "### Split Features by comma"
   ]
  },
  {
   "cell_type": "code",
   "execution_count": null,
   "id": "988579af",
   "metadata": {},
   "outputs": [],
   "source": [
    "df[\"List Baseline Features\"] = df[\"Baseline Features\"].str.split(\",\")\n",
    "df[\"List Vital Signs\"] = df[\"Vital Signs\"].str.split(\",\")\n",
    "df[\"List Lab Results\"] = df[\"Lab Results\"].str.split(\",\")\n",
    "df[\"All Features\"] = df[\"List Baseline Features\"] + df[\"List Vital Signs\"] + df[\"List Lab Results\"]"
   ]
  },
  {
   "cell_type": "code",
   "execution_count": null,
   "id": "a0fd82b5",
   "metadata": {},
   "outputs": [],
   "source": [
    "df"
   ]
  },
  {
   "cell_type": "markdown",
   "id": "d5592ddc",
   "metadata": {},
   "source": [
    "### Compares features in the first two papers (first two non-header rows of the spreadsheet)"
   ]
  },
  {
   "cell_type": "code",
   "execution_count": null,
   "id": "3563b5ab",
   "metadata": {},
   "outputs": [],
   "source": [
    "for col in [\"List Baseline Features\", \"List Vital Signs\", \"List Lab Results\"]:\n",
    "    print(\"*******\" + col + \"*******\" )\n",
    "    print(\"Similar Features\")\n",
    "    features1 = set(df[col].iloc[0])\n",
    "    features1 = {elem.strip() for elem in features1}\n",
    "    features2 = set(df[col].iloc[1])\n",
    "    features2 = {elem.strip() for elem in features2}\n",
    "    \n",
    "    inter = features1.intersection(features2)\n",
    "    pprint.pprint(inter)\n",
    "    print(\"Different Features\")\n",
    "    xor = set(features1).symmetric_difference(features2)\n",
    "    pprint.pprint(xor)"
   ]
  },
  {
   "cell_type": "markdown",
   "id": "a03a3631",
   "metadata": {},
   "source": [
    "### Scratch"
   ]
  },
  {
   "cell_type": "code",
   "execution_count": null,
   "id": "9fe05b72",
   "metadata": {},
   "outputs": [],
   "source": [
    "for col in [\"List Baseline Features\", \"List Vital Signs\", \"List Lab Results\"]:\n",
    "    print(\"*******\" + col + \"*******\" )\n",
    "    print(\"Similar Features\")\n",
    "    features1 = set(df[col].iloc[0])\n",
    "    features1 = {elem.strip() for elem in features1}\n",
    "    features2 = set(df[col].iloc[1])\n",
    "    features2 = {elem.strip() for elem in features2}\n",
    "    \n",
    "    inter = features1.intersection(features2)\n",
    "    pprint.pprint(inter)\n",
    "    print(\"Different Features\")\n",
    "    xor = set(features1).symmetric_difference(features2)\n",
    "    pprint.pprint(xor)"
   ]
  },
  {
   "cell_type": "code",
   "execution_count": null,
   "id": "b954dde3",
   "metadata": {},
   "outputs": [],
   "source": [
    "set(df[\"List Baseline Features\"].iloc[0]).intersection(set(df[\"List Baseline Features\"].iloc[1]))"
   ]
  },
  {
   "cell_type": "code",
   "execution_count": null,
   "id": "c3fad269",
   "metadata": {},
   "outputs": [],
   "source": [
    "df[\"List Baseline Features\"]"
   ]
  },
  {
   "cell_type": "code",
   "execution_count": null,
   "id": "c1f2fba9",
   "metadata": {},
   "outputs": [],
   "source": [
    "df[\"List Vital Signs\"] = df[\"Vital Signs\"].str.split(\",\")"
   ]
  },
  {
   "cell_type": "code",
   "execution_count": null,
   "id": "e594cda4",
   "metadata": {},
   "outputs": [],
   "source": [
    "df[\"List Lab Results\"] = df[\"Lab Results\"].str.split(\",\")"
   ]
  },
  {
   "cell_type": "code",
   "execution_count": null,
   "id": "78aac189",
   "metadata": {},
   "outputs": [],
   "source": []
  }
 ],
 "metadata": {
  "kernelspec": {
   "display_name": "Python 3 (ipykernel)",
   "language": "python",
   "name": "python3"
  },
  "language_info": {
   "codemirror_mode": {
    "name": "ipython",
    "version": 3
   },
   "file_extension": ".py",
   "mimetype": "text/x-python",
   "name": "python",
   "nbconvert_exporter": "python",
   "pygments_lexer": "ipython3",
   "version": "3.8.9"
  }
 },
 "nbformat": 4,
 "nbformat_minor": 5
}
