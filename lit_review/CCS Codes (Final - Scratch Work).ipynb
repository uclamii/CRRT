{
 "cells": [
  {
   "cell_type": "code",
   "execution_count": null,
   "id": "929d91c3",
   "metadata": {},
   "outputs": [],
   "source": [
    "import json\n",
    "from hcuppy.ccs import CCSEngine"
   ]
  },
  {
   "cell_type": "markdown",
   "id": "5033bd6a",
   "metadata": {},
   "source": [
    "### Convert ICD-10 codes to CCS to convert Paper DX features to CCS"
   ]
  },
  {
   "cell_type": "code",
   "execution_count": null,
   "id": "49703cdb",
   "metadata": {},
   "outputs": [],
   "source": [
    "ce = CCSEngine(mode=\"dx\")\n",
    "out = ce.get_ccs([\"I639\", \"I739\", \"F0390\", \"J449\", \"L949\", \"M359\", \"K279\", \"C801\",\"N189\", \"I4891\"])"
   ]
  },
  {
   "cell_type": "code",
   "execution_count": null,
   "id": "03463fc6",
   "metadata": {},
   "outputs": [],
   "source": [
    "print(json.dumps(out, indent=2))"
   ]
  },
  {
   "cell_type": "code",
   "execution_count": null,
   "id": "7eb82870",
   "metadata": {},
   "outputs": [],
   "source": []
  }
 ],
 "metadata": {
  "kernelspec": {
   "display_name": "Python 3 (ipykernel)",
   "language": "python",
   "name": "python3"
  },
  "language_info": {
   "codemirror_mode": {
    "name": "ipython",
    "version": 3
   },
   "file_extension": ".py",
   "mimetype": "text/x-python",
   "name": "python",
   "nbconvert_exporter": "python",
   "pygments_lexer": "ipython3",
   "version": "3.8.9"
  }
 },
 "nbformat": 4,
 "nbformat_minor": 5
}
